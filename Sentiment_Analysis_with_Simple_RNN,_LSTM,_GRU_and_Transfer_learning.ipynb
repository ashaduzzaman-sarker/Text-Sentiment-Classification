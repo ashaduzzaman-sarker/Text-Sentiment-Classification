{
  "nbformat": 4,
  "nbformat_minor": 0,
  "metadata": {
    "colab": {
      "provenance": [],
      "gpuType": "T4",
      "mount_file_id": "1qgsFv2X18OX8Hyx0Jiz7OOnks96oLK2s",
      "authorship_tag": "ABX9TyP2oZ3fXJAyrb7dJBj7f9jj",
      "include_colab_link": true
    },
    "kernelspec": {
      "name": "python3",
      "display_name": "Python 3"
    },
    "language_info": {
      "name": "python"
    },
    "accelerator": "GPU",
    "widgets": {
      "application/vnd.jupyter.widget-state+json": {
        "052270fac6c8478f8e3c2ab85ab926d5": {
          "model_module": "@jupyter-widgets/controls",
          "model_name": "HBoxModel",
          "model_module_version": "1.5.0",
          "state": {
            "_dom_classes": [],
            "_model_module": "@jupyter-widgets/controls",
            "_model_module_version": "1.5.0",
            "_model_name": "HBoxModel",
            "_view_count": null,
            "_view_module": "@jupyter-widgets/controls",
            "_view_module_version": "1.5.0",
            "_view_name": "HBoxView",
            "box_style": "",
            "children": [
              "IPY_MODEL_19548118fb9e4a3d885e0e1f4b82a485",
              "IPY_MODEL_e766f2ad17e14acf8dc749022577fe5f",
              "IPY_MODEL_c3c145dbd06b4c42815fbf00b09ee4d0"
            ],
            "layout": "IPY_MODEL_850dde913a174859a1b62932866334ea"
          }
        },
        "19548118fb9e4a3d885e0e1f4b82a485": {
          "model_module": "@jupyter-widgets/controls",
          "model_name": "HTMLModel",
          "model_module_version": "1.5.0",
          "state": {
            "_dom_classes": [],
            "_model_module": "@jupyter-widgets/controls",
            "_model_module_version": "1.5.0",
            "_model_name": "HTMLModel",
            "_view_count": null,
            "_view_module": "@jupyter-widgets/controls",
            "_view_module_version": "1.5.0",
            "_view_name": "HTMLView",
            "description": "",
            "description_tooltip": null,
            "layout": "IPY_MODEL_7b4eb2126afa440cb415e2c6181661a1",
            "placeholder": "​",
            "style": "IPY_MODEL_017fe3a1a868481baf35f570c4086fe5",
            "value": "Dl Completed...: 100%"
          }
        },
        "e766f2ad17e14acf8dc749022577fe5f": {
          "model_module": "@jupyter-widgets/controls",
          "model_name": "FloatProgressModel",
          "model_module_version": "1.5.0",
          "state": {
            "_dom_classes": [],
            "_model_module": "@jupyter-widgets/controls",
            "_model_module_version": "1.5.0",
            "_model_name": "FloatProgressModel",
            "_view_count": null,
            "_view_module": "@jupyter-widgets/controls",
            "_view_module_version": "1.5.0",
            "_view_name": "ProgressView",
            "bar_style": "success",
            "description": "",
            "description_tooltip": null,
            "layout": "IPY_MODEL_19cfb981bc584f22931a0fe99fb8508a",
            "max": 1,
            "min": 0,
            "orientation": "horizontal",
            "style": "IPY_MODEL_605cb231df9140718d34438cfc314569",
            "value": 1
          }
        },
        "c3c145dbd06b4c42815fbf00b09ee4d0": {
          "model_module": "@jupyter-widgets/controls",
          "model_name": "HTMLModel",
          "model_module_version": "1.5.0",
          "state": {
            "_dom_classes": [],
            "_model_module": "@jupyter-widgets/controls",
            "_model_module_version": "1.5.0",
            "_model_name": "HTMLModel",
            "_view_count": null,
            "_view_module": "@jupyter-widgets/controls",
            "_view_module_version": "1.5.0",
            "_view_name": "HTMLView",
            "description": "",
            "description_tooltip": null,
            "layout": "IPY_MODEL_95c1e1e546d94454b76c3b9aa7f01bd9",
            "placeholder": "​",
            "style": "IPY_MODEL_8164aa861b524688b64cef0f9cd52b16",
            "value": " 1/1 [00:15&lt;00:00, 15.65s/ url]"
          }
        },
        "850dde913a174859a1b62932866334ea": {
          "model_module": "@jupyter-widgets/base",
          "model_name": "LayoutModel",
          "model_module_version": "1.2.0",
          "state": {
            "_model_module": "@jupyter-widgets/base",
            "_model_module_version": "1.2.0",
            "_model_name": "LayoutModel",
            "_view_count": null,
            "_view_module": "@jupyter-widgets/base",
            "_view_module_version": "1.2.0",
            "_view_name": "LayoutView",
            "align_content": null,
            "align_items": null,
            "align_self": null,
            "border": null,
            "bottom": null,
            "display": null,
            "flex": null,
            "flex_flow": null,
            "grid_area": null,
            "grid_auto_columns": null,
            "grid_auto_flow": null,
            "grid_auto_rows": null,
            "grid_column": null,
            "grid_gap": null,
            "grid_row": null,
            "grid_template_areas": null,
            "grid_template_columns": null,
            "grid_template_rows": null,
            "height": null,
            "justify_content": null,
            "justify_items": null,
            "left": null,
            "margin": null,
            "max_height": null,
            "max_width": null,
            "min_height": null,
            "min_width": null,
            "object_fit": null,
            "object_position": null,
            "order": null,
            "overflow": null,
            "overflow_x": null,
            "overflow_y": null,
            "padding": null,
            "right": null,
            "top": null,
            "visibility": null,
            "width": null
          }
        },
        "7b4eb2126afa440cb415e2c6181661a1": {
          "model_module": "@jupyter-widgets/base",
          "model_name": "LayoutModel",
          "model_module_version": "1.2.0",
          "state": {
            "_model_module": "@jupyter-widgets/base",
            "_model_module_version": "1.2.0",
            "_model_name": "LayoutModel",
            "_view_count": null,
            "_view_module": "@jupyter-widgets/base",
            "_view_module_version": "1.2.0",
            "_view_name": "LayoutView",
            "align_content": null,
            "align_items": null,
            "align_self": null,
            "border": null,
            "bottom": null,
            "display": null,
            "flex": null,
            "flex_flow": null,
            "grid_area": null,
            "grid_auto_columns": null,
            "grid_auto_flow": null,
            "grid_auto_rows": null,
            "grid_column": null,
            "grid_gap": null,
            "grid_row": null,
            "grid_template_areas": null,
            "grid_template_columns": null,
            "grid_template_rows": null,
            "height": null,
            "justify_content": null,
            "justify_items": null,
            "left": null,
            "margin": null,
            "max_height": null,
            "max_width": null,
            "min_height": null,
            "min_width": null,
            "object_fit": null,
            "object_position": null,
            "order": null,
            "overflow": null,
            "overflow_x": null,
            "overflow_y": null,
            "padding": null,
            "right": null,
            "top": null,
            "visibility": null,
            "width": null
          }
        },
        "017fe3a1a868481baf35f570c4086fe5": {
          "model_module": "@jupyter-widgets/controls",
          "model_name": "DescriptionStyleModel",
          "model_module_version": "1.5.0",
          "state": {
            "_model_module": "@jupyter-widgets/controls",
            "_model_module_version": "1.5.0",
            "_model_name": "DescriptionStyleModel",
            "_view_count": null,
            "_view_module": "@jupyter-widgets/base",
            "_view_module_version": "1.2.0",
            "_view_name": "StyleView",
            "description_width": ""
          }
        },
        "19cfb981bc584f22931a0fe99fb8508a": {
          "model_module": "@jupyter-widgets/base",
          "model_name": "LayoutModel",
          "model_module_version": "1.2.0",
          "state": {
            "_model_module": "@jupyter-widgets/base",
            "_model_module_version": "1.2.0",
            "_model_name": "LayoutModel",
            "_view_count": null,
            "_view_module": "@jupyter-widgets/base",
            "_view_module_version": "1.2.0",
            "_view_name": "LayoutView",
            "align_content": null,
            "align_items": null,
            "align_self": null,
            "border": null,
            "bottom": null,
            "display": null,
            "flex": null,
            "flex_flow": null,
            "grid_area": null,
            "grid_auto_columns": null,
            "grid_auto_flow": null,
            "grid_auto_rows": null,
            "grid_column": null,
            "grid_gap": null,
            "grid_row": null,
            "grid_template_areas": null,
            "grid_template_columns": null,
            "grid_template_rows": null,
            "height": null,
            "justify_content": null,
            "justify_items": null,
            "left": null,
            "margin": null,
            "max_height": null,
            "max_width": null,
            "min_height": null,
            "min_width": null,
            "object_fit": null,
            "object_position": null,
            "order": null,
            "overflow": null,
            "overflow_x": null,
            "overflow_y": null,
            "padding": null,
            "right": null,
            "top": null,
            "visibility": null,
            "width": "20px"
          }
        },
        "605cb231df9140718d34438cfc314569": {
          "model_module": "@jupyter-widgets/controls",
          "model_name": "ProgressStyleModel",
          "model_module_version": "1.5.0",
          "state": {
            "_model_module": "@jupyter-widgets/controls",
            "_model_module_version": "1.5.0",
            "_model_name": "ProgressStyleModel",
            "_view_count": null,
            "_view_module": "@jupyter-widgets/base",
            "_view_module_version": "1.2.0",
            "_view_name": "StyleView",
            "bar_color": null,
            "description_width": ""
          }
        },
        "95c1e1e546d94454b76c3b9aa7f01bd9": {
          "model_module": "@jupyter-widgets/base",
          "model_name": "LayoutModel",
          "model_module_version": "1.2.0",
          "state": {
            "_model_module": "@jupyter-widgets/base",
            "_model_module_version": "1.2.0",
            "_model_name": "LayoutModel",
            "_view_count": null,
            "_view_module": "@jupyter-widgets/base",
            "_view_module_version": "1.2.0",
            "_view_name": "LayoutView",
            "align_content": null,
            "align_items": null,
            "align_self": null,
            "border": null,
            "bottom": null,
            "display": null,
            "flex": null,
            "flex_flow": null,
            "grid_area": null,
            "grid_auto_columns": null,
            "grid_auto_flow": null,
            "grid_auto_rows": null,
            "grid_column": null,
            "grid_gap": null,
            "grid_row": null,
            "grid_template_areas": null,
            "grid_template_columns": null,
            "grid_template_rows": null,
            "height": null,
            "justify_content": null,
            "justify_items": null,
            "left": null,
            "margin": null,
            "max_height": null,
            "max_width": null,
            "min_height": null,
            "min_width": null,
            "object_fit": null,
            "object_position": null,
            "order": null,
            "overflow": null,
            "overflow_x": null,
            "overflow_y": null,
            "padding": null,
            "right": null,
            "top": null,
            "visibility": null,
            "width": null
          }
        },
        "8164aa861b524688b64cef0f9cd52b16": {
          "model_module": "@jupyter-widgets/controls",
          "model_name": "DescriptionStyleModel",
          "model_module_version": "1.5.0",
          "state": {
            "_model_module": "@jupyter-widgets/controls",
            "_model_module_version": "1.5.0",
            "_model_name": "DescriptionStyleModel",
            "_view_count": null,
            "_view_module": "@jupyter-widgets/base",
            "_view_module_version": "1.2.0",
            "_view_name": "StyleView",
            "description_width": ""
          }
        },
        "4b589d66ebe54c23b3a59e395a4185c3": {
          "model_module": "@jupyter-widgets/controls",
          "model_name": "HBoxModel",
          "model_module_version": "1.5.0",
          "state": {
            "_dom_classes": [],
            "_model_module": "@jupyter-widgets/controls",
            "_model_module_version": "1.5.0",
            "_model_name": "HBoxModel",
            "_view_count": null,
            "_view_module": "@jupyter-widgets/controls",
            "_view_module_version": "1.5.0",
            "_view_name": "HBoxView",
            "box_style": "",
            "children": [
              "IPY_MODEL_fd5a1f12a97e4185807474391442dddf",
              "IPY_MODEL_b95566c5c39a40b1b391d8ac875a5d4e",
              "IPY_MODEL_d1a80620f998464992eba6b412a7a494"
            ],
            "layout": "IPY_MODEL_488f4c4f2abd42f886d08bd7b743fd63"
          }
        },
        "fd5a1f12a97e4185807474391442dddf": {
          "model_module": "@jupyter-widgets/controls",
          "model_name": "HTMLModel",
          "model_module_version": "1.5.0",
          "state": {
            "_dom_classes": [],
            "_model_module": "@jupyter-widgets/controls",
            "_model_module_version": "1.5.0",
            "_model_name": "HTMLModel",
            "_view_count": null,
            "_view_module": "@jupyter-widgets/controls",
            "_view_module_version": "1.5.0",
            "_view_name": "HTMLView",
            "description": "",
            "description_tooltip": null,
            "layout": "IPY_MODEL_5f31a59a2d934a39aba9a21ca99b6921",
            "placeholder": "​",
            "style": "IPY_MODEL_d78a9a9cb313488ebf69069a0ab5ff72",
            "value": "Dl Size...: 100%"
          }
        },
        "b95566c5c39a40b1b391d8ac875a5d4e": {
          "model_module": "@jupyter-widgets/controls",
          "model_name": "FloatProgressModel",
          "model_module_version": "1.5.0",
          "state": {
            "_dom_classes": [],
            "_model_module": "@jupyter-widgets/controls",
            "_model_module_version": "1.5.0",
            "_model_name": "FloatProgressModel",
            "_view_count": null,
            "_view_module": "@jupyter-widgets/controls",
            "_view_module_version": "1.5.0",
            "_view_name": "ProgressView",
            "bar_style": "success",
            "description": "",
            "description_tooltip": null,
            "layout": "IPY_MODEL_a373ed701b144afdba92ca42da5255d6",
            "max": 1,
            "min": 0,
            "orientation": "horizontal",
            "style": "IPY_MODEL_22e8bd7979c543289901482c054f4be1",
            "value": 1
          }
        },
        "d1a80620f998464992eba6b412a7a494": {
          "model_module": "@jupyter-widgets/controls",
          "model_name": "HTMLModel",
          "model_module_version": "1.5.0",
          "state": {
            "_dom_classes": [],
            "_model_module": "@jupyter-widgets/controls",
            "_model_module_version": "1.5.0",
            "_model_name": "HTMLModel",
            "_view_count": null,
            "_view_module": "@jupyter-widgets/controls",
            "_view_module_version": "1.5.0",
            "_view_name": "HTMLView",
            "description": "",
            "description_tooltip": null,
            "layout": "IPY_MODEL_762b363fb6624153b52fda2be8adbb04",
            "placeholder": "​",
            "style": "IPY_MODEL_970c6124644e4cc9b73576a8b12d5ae4",
            "value": " 80/80 [00:15&lt;00:00,  9.47 MiB/s]"
          }
        },
        "488f4c4f2abd42f886d08bd7b743fd63": {
          "model_module": "@jupyter-widgets/base",
          "model_name": "LayoutModel",
          "model_module_version": "1.2.0",
          "state": {
            "_model_module": "@jupyter-widgets/base",
            "_model_module_version": "1.2.0",
            "_model_name": "LayoutModel",
            "_view_count": null,
            "_view_module": "@jupyter-widgets/base",
            "_view_module_version": "1.2.0",
            "_view_name": "LayoutView",
            "align_content": null,
            "align_items": null,
            "align_self": null,
            "border": null,
            "bottom": null,
            "display": null,
            "flex": null,
            "flex_flow": null,
            "grid_area": null,
            "grid_auto_columns": null,
            "grid_auto_flow": null,
            "grid_auto_rows": null,
            "grid_column": null,
            "grid_gap": null,
            "grid_row": null,
            "grid_template_areas": null,
            "grid_template_columns": null,
            "grid_template_rows": null,
            "height": null,
            "justify_content": null,
            "justify_items": null,
            "left": null,
            "margin": null,
            "max_height": null,
            "max_width": null,
            "min_height": null,
            "min_width": null,
            "object_fit": null,
            "object_position": null,
            "order": null,
            "overflow": null,
            "overflow_x": null,
            "overflow_y": null,
            "padding": null,
            "right": null,
            "top": null,
            "visibility": null,
            "width": null
          }
        },
        "5f31a59a2d934a39aba9a21ca99b6921": {
          "model_module": "@jupyter-widgets/base",
          "model_name": "LayoutModel",
          "model_module_version": "1.2.0",
          "state": {
            "_model_module": "@jupyter-widgets/base",
            "_model_module_version": "1.2.0",
            "_model_name": "LayoutModel",
            "_view_count": null,
            "_view_module": "@jupyter-widgets/base",
            "_view_module_version": "1.2.0",
            "_view_name": "LayoutView",
            "align_content": null,
            "align_items": null,
            "align_self": null,
            "border": null,
            "bottom": null,
            "display": null,
            "flex": null,
            "flex_flow": null,
            "grid_area": null,
            "grid_auto_columns": null,
            "grid_auto_flow": null,
            "grid_auto_rows": null,
            "grid_column": null,
            "grid_gap": null,
            "grid_row": null,
            "grid_template_areas": null,
            "grid_template_columns": null,
            "grid_template_rows": null,
            "height": null,
            "justify_content": null,
            "justify_items": null,
            "left": null,
            "margin": null,
            "max_height": null,
            "max_width": null,
            "min_height": null,
            "min_width": null,
            "object_fit": null,
            "object_position": null,
            "order": null,
            "overflow": null,
            "overflow_x": null,
            "overflow_y": null,
            "padding": null,
            "right": null,
            "top": null,
            "visibility": null,
            "width": null
          }
        },
        "d78a9a9cb313488ebf69069a0ab5ff72": {
          "model_module": "@jupyter-widgets/controls",
          "model_name": "DescriptionStyleModel",
          "model_module_version": "1.5.0",
          "state": {
            "_model_module": "@jupyter-widgets/controls",
            "_model_module_version": "1.5.0",
            "_model_name": "DescriptionStyleModel",
            "_view_count": null,
            "_view_module": "@jupyter-widgets/base",
            "_view_module_version": "1.2.0",
            "_view_name": "StyleView",
            "description_width": ""
          }
        },
        "a373ed701b144afdba92ca42da5255d6": {
          "model_module": "@jupyter-widgets/base",
          "model_name": "LayoutModel",
          "model_module_version": "1.2.0",
          "state": {
            "_model_module": "@jupyter-widgets/base",
            "_model_module_version": "1.2.0",
            "_model_name": "LayoutModel",
            "_view_count": null,
            "_view_module": "@jupyter-widgets/base",
            "_view_module_version": "1.2.0",
            "_view_name": "LayoutView",
            "align_content": null,
            "align_items": null,
            "align_self": null,
            "border": null,
            "bottom": null,
            "display": null,
            "flex": null,
            "flex_flow": null,
            "grid_area": null,
            "grid_auto_columns": null,
            "grid_auto_flow": null,
            "grid_auto_rows": null,
            "grid_column": null,
            "grid_gap": null,
            "grid_row": null,
            "grid_template_areas": null,
            "grid_template_columns": null,
            "grid_template_rows": null,
            "height": null,
            "justify_content": null,
            "justify_items": null,
            "left": null,
            "margin": null,
            "max_height": null,
            "max_width": null,
            "min_height": null,
            "min_width": null,
            "object_fit": null,
            "object_position": null,
            "order": null,
            "overflow": null,
            "overflow_x": null,
            "overflow_y": null,
            "padding": null,
            "right": null,
            "top": null,
            "visibility": null,
            "width": "20px"
          }
        },
        "22e8bd7979c543289901482c054f4be1": {
          "model_module": "@jupyter-widgets/controls",
          "model_name": "ProgressStyleModel",
          "model_module_version": "1.5.0",
          "state": {
            "_model_module": "@jupyter-widgets/controls",
            "_model_module_version": "1.5.0",
            "_model_name": "ProgressStyleModel",
            "_view_count": null,
            "_view_module": "@jupyter-widgets/base",
            "_view_module_version": "1.2.0",
            "_view_name": "StyleView",
            "bar_color": null,
            "description_width": ""
          }
        },
        "762b363fb6624153b52fda2be8adbb04": {
          "model_module": "@jupyter-widgets/base",
          "model_name": "LayoutModel",
          "model_module_version": "1.2.0",
          "state": {
            "_model_module": "@jupyter-widgets/base",
            "_model_module_version": "1.2.0",
            "_model_name": "LayoutModel",
            "_view_count": null,
            "_view_module": "@jupyter-widgets/base",
            "_view_module_version": "1.2.0",
            "_view_name": "LayoutView",
            "align_content": null,
            "align_items": null,
            "align_self": null,
            "border": null,
            "bottom": null,
            "display": null,
            "flex": null,
            "flex_flow": null,
            "grid_area": null,
            "grid_auto_columns": null,
            "grid_auto_flow": null,
            "grid_auto_rows": null,
            "grid_column": null,
            "grid_gap": null,
            "grid_row": null,
            "grid_template_areas": null,
            "grid_template_columns": null,
            "grid_template_rows": null,
            "height": null,
            "justify_content": null,
            "justify_items": null,
            "left": null,
            "margin": null,
            "max_height": null,
            "max_width": null,
            "min_height": null,
            "min_width": null,
            "object_fit": null,
            "object_position": null,
            "order": null,
            "overflow": null,
            "overflow_x": null,
            "overflow_y": null,
            "padding": null,
            "right": null,
            "top": null,
            "visibility": null,
            "width": null
          }
        },
        "970c6124644e4cc9b73576a8b12d5ae4": {
          "model_module": "@jupyter-widgets/controls",
          "model_name": "DescriptionStyleModel",
          "model_module_version": "1.5.0",
          "state": {
            "_model_module": "@jupyter-widgets/controls",
            "_model_module_version": "1.5.0",
            "_model_name": "DescriptionStyleModel",
            "_view_count": null,
            "_view_module": "@jupyter-widgets/base",
            "_view_module_version": "1.2.0",
            "_view_name": "StyleView",
            "description_width": ""
          }
        },
        "1d43baf6b35345beac4aca88cc30fc74": {
          "model_module": "@jupyter-widgets/controls",
          "model_name": "HBoxModel",
          "model_module_version": "1.5.0",
          "state": {
            "_dom_classes": [],
            "_model_module": "@jupyter-widgets/controls",
            "_model_module_version": "1.5.0",
            "_model_name": "HBoxModel",
            "_view_count": null,
            "_view_module": "@jupyter-widgets/controls",
            "_view_module_version": "1.5.0",
            "_view_name": "HBoxView",
            "box_style": "",
            "children": [
              "IPY_MODEL_e415ac28f3f447a3ac370633ecc159c1",
              "IPY_MODEL_df6661c1e1c143b8a851a21b52c1778a",
              "IPY_MODEL_718966aba6fb464782ca0738ed72fe5d"
            ],
            "layout": "IPY_MODEL_fdcf8763f58240639683a7a7083d3601"
          }
        },
        "e415ac28f3f447a3ac370633ecc159c1": {
          "model_module": "@jupyter-widgets/controls",
          "model_name": "HTMLModel",
          "model_module_version": "1.5.0",
          "state": {
            "_dom_classes": [],
            "_model_module": "@jupyter-widgets/controls",
            "_model_module_version": "1.5.0",
            "_model_name": "HTMLModel",
            "_view_count": null,
            "_view_module": "@jupyter-widgets/controls",
            "_view_module_version": "1.5.0",
            "_view_name": "HTMLView",
            "description": "",
            "description_tooltip": null,
            "layout": "IPY_MODEL_05e409117ed64c719a50667a842e1be7",
            "placeholder": "​",
            "style": "IPY_MODEL_7c027d7abc8e4a2cb8f3ac9d844607ae",
            "value": "Generating splits...: 100%"
          }
        },
        "df6661c1e1c143b8a851a21b52c1778a": {
          "model_module": "@jupyter-widgets/controls",
          "model_name": "FloatProgressModel",
          "model_module_version": "1.5.0",
          "state": {
            "_dom_classes": [],
            "_model_module": "@jupyter-widgets/controls",
            "_model_module_version": "1.5.0",
            "_model_name": "FloatProgressModel",
            "_view_count": null,
            "_view_module": "@jupyter-widgets/controls",
            "_view_module_version": "1.5.0",
            "_view_name": "ProgressView",
            "bar_style": "",
            "description": "",
            "description_tooltip": null,
            "layout": "IPY_MODEL_fd3193c2930c4b949bebc86c994c9d7a",
            "max": 3,
            "min": 0,
            "orientation": "horizontal",
            "style": "IPY_MODEL_5b0b008fbb164b198fc76c9c6cbcf8d2",
            "value": 3
          }
        },
        "718966aba6fb464782ca0738ed72fe5d": {
          "model_module": "@jupyter-widgets/controls",
          "model_name": "HTMLModel",
          "model_module_version": "1.5.0",
          "state": {
            "_dom_classes": [],
            "_model_module": "@jupyter-widgets/controls",
            "_model_module_version": "1.5.0",
            "_model_name": "HTMLModel",
            "_view_count": null,
            "_view_module": "@jupyter-widgets/controls",
            "_view_module_version": "1.5.0",
            "_view_name": "HTMLView",
            "description": "",
            "description_tooltip": null,
            "layout": "IPY_MODEL_ac382fce9ab544379db0fdb545ec21a5",
            "placeholder": "​",
            "style": "IPY_MODEL_2ee39ae77c1c46d0a69524c714f99f3f",
            "value": " 3/3 [00:51&lt;00:00, 17.47s/ splits]"
          }
        },
        "fdcf8763f58240639683a7a7083d3601": {
          "model_module": "@jupyter-widgets/base",
          "model_name": "LayoutModel",
          "model_module_version": "1.2.0",
          "state": {
            "_model_module": "@jupyter-widgets/base",
            "_model_module_version": "1.2.0",
            "_model_name": "LayoutModel",
            "_view_count": null,
            "_view_module": "@jupyter-widgets/base",
            "_view_module_version": "1.2.0",
            "_view_name": "LayoutView",
            "align_content": null,
            "align_items": null,
            "align_self": null,
            "border": null,
            "bottom": null,
            "display": null,
            "flex": null,
            "flex_flow": null,
            "grid_area": null,
            "grid_auto_columns": null,
            "grid_auto_flow": null,
            "grid_auto_rows": null,
            "grid_column": null,
            "grid_gap": null,
            "grid_row": null,
            "grid_template_areas": null,
            "grid_template_columns": null,
            "grid_template_rows": null,
            "height": null,
            "justify_content": null,
            "justify_items": null,
            "left": null,
            "margin": null,
            "max_height": null,
            "max_width": null,
            "min_height": null,
            "min_width": null,
            "object_fit": null,
            "object_position": null,
            "order": null,
            "overflow": null,
            "overflow_x": null,
            "overflow_y": null,
            "padding": null,
            "right": null,
            "top": null,
            "visibility": "hidden",
            "width": null
          }
        },
        "05e409117ed64c719a50667a842e1be7": {
          "model_module": "@jupyter-widgets/base",
          "model_name": "LayoutModel",
          "model_module_version": "1.2.0",
          "state": {
            "_model_module": "@jupyter-widgets/base",
            "_model_module_version": "1.2.0",
            "_model_name": "LayoutModel",
            "_view_count": null,
            "_view_module": "@jupyter-widgets/base",
            "_view_module_version": "1.2.0",
            "_view_name": "LayoutView",
            "align_content": null,
            "align_items": null,
            "align_self": null,
            "border": null,
            "bottom": null,
            "display": null,
            "flex": null,
            "flex_flow": null,
            "grid_area": null,
            "grid_auto_columns": null,
            "grid_auto_flow": null,
            "grid_auto_rows": null,
            "grid_column": null,
            "grid_gap": null,
            "grid_row": null,
            "grid_template_areas": null,
            "grid_template_columns": null,
            "grid_template_rows": null,
            "height": null,
            "justify_content": null,
            "justify_items": null,
            "left": null,
            "margin": null,
            "max_height": null,
            "max_width": null,
            "min_height": null,
            "min_width": null,
            "object_fit": null,
            "object_position": null,
            "order": null,
            "overflow": null,
            "overflow_x": null,
            "overflow_y": null,
            "padding": null,
            "right": null,
            "top": null,
            "visibility": null,
            "width": null
          }
        },
        "7c027d7abc8e4a2cb8f3ac9d844607ae": {
          "model_module": "@jupyter-widgets/controls",
          "model_name": "DescriptionStyleModel",
          "model_module_version": "1.5.0",
          "state": {
            "_model_module": "@jupyter-widgets/controls",
            "_model_module_version": "1.5.0",
            "_model_name": "DescriptionStyleModel",
            "_view_count": null,
            "_view_module": "@jupyter-widgets/base",
            "_view_module_version": "1.2.0",
            "_view_name": "StyleView",
            "description_width": ""
          }
        },
        "fd3193c2930c4b949bebc86c994c9d7a": {
          "model_module": "@jupyter-widgets/base",
          "model_name": "LayoutModel",
          "model_module_version": "1.2.0",
          "state": {
            "_model_module": "@jupyter-widgets/base",
            "_model_module_version": "1.2.0",
            "_model_name": "LayoutModel",
            "_view_count": null,
            "_view_module": "@jupyter-widgets/base",
            "_view_module_version": "1.2.0",
            "_view_name": "LayoutView",
            "align_content": null,
            "align_items": null,
            "align_self": null,
            "border": null,
            "bottom": null,
            "display": null,
            "flex": null,
            "flex_flow": null,
            "grid_area": null,
            "grid_auto_columns": null,
            "grid_auto_flow": null,
            "grid_auto_rows": null,
            "grid_column": null,
            "grid_gap": null,
            "grid_row": null,
            "grid_template_areas": null,
            "grid_template_columns": null,
            "grid_template_rows": null,
            "height": null,
            "justify_content": null,
            "justify_items": null,
            "left": null,
            "margin": null,
            "max_height": null,
            "max_width": null,
            "min_height": null,
            "min_width": null,
            "object_fit": null,
            "object_position": null,
            "order": null,
            "overflow": null,
            "overflow_x": null,
            "overflow_y": null,
            "padding": null,
            "right": null,
            "top": null,
            "visibility": null,
            "width": null
          }
        },
        "5b0b008fbb164b198fc76c9c6cbcf8d2": {
          "model_module": "@jupyter-widgets/controls",
          "model_name": "ProgressStyleModel",
          "model_module_version": "1.5.0",
          "state": {
            "_model_module": "@jupyter-widgets/controls",
            "_model_module_version": "1.5.0",
            "_model_name": "ProgressStyleModel",
            "_view_count": null,
            "_view_module": "@jupyter-widgets/base",
            "_view_module_version": "1.2.0",
            "_view_name": "StyleView",
            "bar_color": null,
            "description_width": ""
          }
        },
        "ac382fce9ab544379db0fdb545ec21a5": {
          "model_module": "@jupyter-widgets/base",
          "model_name": "LayoutModel",
          "model_module_version": "1.2.0",
          "state": {
            "_model_module": "@jupyter-widgets/base",
            "_model_module_version": "1.2.0",
            "_model_name": "LayoutModel",
            "_view_count": null,
            "_view_module": "@jupyter-widgets/base",
            "_view_module_version": "1.2.0",
            "_view_name": "LayoutView",
            "align_content": null,
            "align_items": null,
            "align_self": null,
            "border": null,
            "bottom": null,
            "display": null,
            "flex": null,
            "flex_flow": null,
            "grid_area": null,
            "grid_auto_columns": null,
            "grid_auto_flow": null,
            "grid_auto_rows": null,
            "grid_column": null,
            "grid_gap": null,
            "grid_row": null,
            "grid_template_areas": null,
            "grid_template_columns": null,
            "grid_template_rows": null,
            "height": null,
            "justify_content": null,
            "justify_items": null,
            "left": null,
            "margin": null,
            "max_height": null,
            "max_width": null,
            "min_height": null,
            "min_width": null,
            "object_fit": null,
            "object_position": null,
            "order": null,
            "overflow": null,
            "overflow_x": null,
            "overflow_y": null,
            "padding": null,
            "right": null,
            "top": null,
            "visibility": null,
            "width": null
          }
        },
        "2ee39ae77c1c46d0a69524c714f99f3f": {
          "model_module": "@jupyter-widgets/controls",
          "model_name": "DescriptionStyleModel",
          "model_module_version": "1.5.0",
          "state": {
            "_model_module": "@jupyter-widgets/controls",
            "_model_module_version": "1.5.0",
            "_model_name": "DescriptionStyleModel",
            "_view_count": null,
            "_view_module": "@jupyter-widgets/base",
            "_view_module_version": "1.2.0",
            "_view_name": "StyleView",
            "description_width": ""
          }
        },
        "51034204b2814c2ab523df992e7f2bd7": {
          "model_module": "@jupyter-widgets/controls",
          "model_name": "HBoxModel",
          "model_module_version": "1.5.0",
          "state": {
            "_dom_classes": [],
            "_model_module": "@jupyter-widgets/controls",
            "_model_module_version": "1.5.0",
            "_model_name": "HBoxModel",
            "_view_count": null,
            "_view_module": "@jupyter-widgets/controls",
            "_view_module_version": "1.5.0",
            "_view_name": "HBoxView",
            "box_style": "",
            "children": [
              "IPY_MODEL_7652ad02bca6480cad2d89ceb415c071",
              "IPY_MODEL_10bdb50303df44acbc7c4f2ffc34b36c",
              "IPY_MODEL_53fd7d5a2bd641c6bc5a97923ac0e60a"
            ],
            "layout": "IPY_MODEL_f4f14e15135c4b95abd324812f577cc3"
          }
        },
        "7652ad02bca6480cad2d89ceb415c071": {
          "model_module": "@jupyter-widgets/controls",
          "model_name": "HTMLModel",
          "model_module_version": "1.5.0",
          "state": {
            "_dom_classes": [],
            "_model_module": "@jupyter-widgets/controls",
            "_model_module_version": "1.5.0",
            "_model_name": "HTMLModel",
            "_view_count": null,
            "_view_module": "@jupyter-widgets/controls",
            "_view_module_version": "1.5.0",
            "_view_name": "HTMLView",
            "description": "",
            "description_tooltip": null,
            "layout": "IPY_MODEL_b4c1a5805d154184b1486ba83cde344d",
            "placeholder": "​",
            "style": "IPY_MODEL_1576f368efa84c39b98c9e674554cd61",
            "value": "Generating train examples...:  97%"
          }
        },
        "10bdb50303df44acbc7c4f2ffc34b36c": {
          "model_module": "@jupyter-widgets/controls",
          "model_name": "FloatProgressModel",
          "model_module_version": "1.5.0",
          "state": {
            "_dom_classes": [],
            "_model_module": "@jupyter-widgets/controls",
            "_model_module_version": "1.5.0",
            "_model_name": "FloatProgressModel",
            "_view_count": null,
            "_view_module": "@jupyter-widgets/controls",
            "_view_module_version": "1.5.0",
            "_view_name": "ProgressView",
            "bar_style": "",
            "description": "",
            "description_tooltip": null,
            "layout": "IPY_MODEL_9ebd641a0e104667afea1afb02c99675",
            "max": 25000,
            "min": 0,
            "orientation": "horizontal",
            "style": "IPY_MODEL_b33c92128d684c6188b0ba25abfe0f94",
            "value": 25000
          }
        },
        "53fd7d5a2bd641c6bc5a97923ac0e60a": {
          "model_module": "@jupyter-widgets/controls",
          "model_name": "HTMLModel",
          "model_module_version": "1.5.0",
          "state": {
            "_dom_classes": [],
            "_model_module": "@jupyter-widgets/controls",
            "_model_module_version": "1.5.0",
            "_model_name": "HTMLModel",
            "_view_count": null,
            "_view_module": "@jupyter-widgets/controls",
            "_view_module_version": "1.5.0",
            "_view_name": "HTMLView",
            "description": "",
            "description_tooltip": null,
            "layout": "IPY_MODEL_445f9f1512f44900ace03d971267deb9",
            "placeholder": "​",
            "style": "IPY_MODEL_7912e06cb362444aa5f071654f0b360a",
            "value": " 24200/25000 [00:12&lt;00:00, 3191.29 examples/s]"
          }
        },
        "f4f14e15135c4b95abd324812f577cc3": {
          "model_module": "@jupyter-widgets/base",
          "model_name": "LayoutModel",
          "model_module_version": "1.2.0",
          "state": {
            "_model_module": "@jupyter-widgets/base",
            "_model_module_version": "1.2.0",
            "_model_name": "LayoutModel",
            "_view_count": null,
            "_view_module": "@jupyter-widgets/base",
            "_view_module_version": "1.2.0",
            "_view_name": "LayoutView",
            "align_content": null,
            "align_items": null,
            "align_self": null,
            "border": null,
            "bottom": null,
            "display": null,
            "flex": null,
            "flex_flow": null,
            "grid_area": null,
            "grid_auto_columns": null,
            "grid_auto_flow": null,
            "grid_auto_rows": null,
            "grid_column": null,
            "grid_gap": null,
            "grid_row": null,
            "grid_template_areas": null,
            "grid_template_columns": null,
            "grid_template_rows": null,
            "height": null,
            "justify_content": null,
            "justify_items": null,
            "left": null,
            "margin": null,
            "max_height": null,
            "max_width": null,
            "min_height": null,
            "min_width": null,
            "object_fit": null,
            "object_position": null,
            "order": null,
            "overflow": null,
            "overflow_x": null,
            "overflow_y": null,
            "padding": null,
            "right": null,
            "top": null,
            "visibility": "hidden",
            "width": null
          }
        },
        "b4c1a5805d154184b1486ba83cde344d": {
          "model_module": "@jupyter-widgets/base",
          "model_name": "LayoutModel",
          "model_module_version": "1.2.0",
          "state": {
            "_model_module": "@jupyter-widgets/base",
            "_model_module_version": "1.2.0",
            "_model_name": "LayoutModel",
            "_view_count": null,
            "_view_module": "@jupyter-widgets/base",
            "_view_module_version": "1.2.0",
            "_view_name": "LayoutView",
            "align_content": null,
            "align_items": null,
            "align_self": null,
            "border": null,
            "bottom": null,
            "display": null,
            "flex": null,
            "flex_flow": null,
            "grid_area": null,
            "grid_auto_columns": null,
            "grid_auto_flow": null,
            "grid_auto_rows": null,
            "grid_column": null,
            "grid_gap": null,
            "grid_row": null,
            "grid_template_areas": null,
            "grid_template_columns": null,
            "grid_template_rows": null,
            "height": null,
            "justify_content": null,
            "justify_items": null,
            "left": null,
            "margin": null,
            "max_height": null,
            "max_width": null,
            "min_height": null,
            "min_width": null,
            "object_fit": null,
            "object_position": null,
            "order": null,
            "overflow": null,
            "overflow_x": null,
            "overflow_y": null,
            "padding": null,
            "right": null,
            "top": null,
            "visibility": null,
            "width": null
          }
        },
        "1576f368efa84c39b98c9e674554cd61": {
          "model_module": "@jupyter-widgets/controls",
          "model_name": "DescriptionStyleModel",
          "model_module_version": "1.5.0",
          "state": {
            "_model_module": "@jupyter-widgets/controls",
            "_model_module_version": "1.5.0",
            "_model_name": "DescriptionStyleModel",
            "_view_count": null,
            "_view_module": "@jupyter-widgets/base",
            "_view_module_version": "1.2.0",
            "_view_name": "StyleView",
            "description_width": ""
          }
        },
        "9ebd641a0e104667afea1afb02c99675": {
          "model_module": "@jupyter-widgets/base",
          "model_name": "LayoutModel",
          "model_module_version": "1.2.0",
          "state": {
            "_model_module": "@jupyter-widgets/base",
            "_model_module_version": "1.2.0",
            "_model_name": "LayoutModel",
            "_view_count": null,
            "_view_module": "@jupyter-widgets/base",
            "_view_module_version": "1.2.0",
            "_view_name": "LayoutView",
            "align_content": null,
            "align_items": null,
            "align_self": null,
            "border": null,
            "bottom": null,
            "display": null,
            "flex": null,
            "flex_flow": null,
            "grid_area": null,
            "grid_auto_columns": null,
            "grid_auto_flow": null,
            "grid_auto_rows": null,
            "grid_column": null,
            "grid_gap": null,
            "grid_row": null,
            "grid_template_areas": null,
            "grid_template_columns": null,
            "grid_template_rows": null,
            "height": null,
            "justify_content": null,
            "justify_items": null,
            "left": null,
            "margin": null,
            "max_height": null,
            "max_width": null,
            "min_height": null,
            "min_width": null,
            "object_fit": null,
            "object_position": null,
            "order": null,
            "overflow": null,
            "overflow_x": null,
            "overflow_y": null,
            "padding": null,
            "right": null,
            "top": null,
            "visibility": null,
            "width": null
          }
        },
        "b33c92128d684c6188b0ba25abfe0f94": {
          "model_module": "@jupyter-widgets/controls",
          "model_name": "ProgressStyleModel",
          "model_module_version": "1.5.0",
          "state": {
            "_model_module": "@jupyter-widgets/controls",
            "_model_module_version": "1.5.0",
            "_model_name": "ProgressStyleModel",
            "_view_count": null,
            "_view_module": "@jupyter-widgets/base",
            "_view_module_version": "1.2.0",
            "_view_name": "StyleView",
            "bar_color": null,
            "description_width": ""
          }
        },
        "445f9f1512f44900ace03d971267deb9": {
          "model_module": "@jupyter-widgets/base",
          "model_name": "LayoutModel",
          "model_module_version": "1.2.0",
          "state": {
            "_model_module": "@jupyter-widgets/base",
            "_model_module_version": "1.2.0",
            "_model_name": "LayoutModel",
            "_view_count": null,
            "_view_module": "@jupyter-widgets/base",
            "_view_module_version": "1.2.0",
            "_view_name": "LayoutView",
            "align_content": null,
            "align_items": null,
            "align_self": null,
            "border": null,
            "bottom": null,
            "display": null,
            "flex": null,
            "flex_flow": null,
            "grid_area": null,
            "grid_auto_columns": null,
            "grid_auto_flow": null,
            "grid_auto_rows": null,
            "grid_column": null,
            "grid_gap": null,
            "grid_row": null,
            "grid_template_areas": null,
            "grid_template_columns": null,
            "grid_template_rows": null,
            "height": null,
            "justify_content": null,
            "justify_items": null,
            "left": null,
            "margin": null,
            "max_height": null,
            "max_width": null,
            "min_height": null,
            "min_width": null,
            "object_fit": null,
            "object_position": null,
            "order": null,
            "overflow": null,
            "overflow_x": null,
            "overflow_y": null,
            "padding": null,
            "right": null,
            "top": null,
            "visibility": null,
            "width": null
          }
        },
        "7912e06cb362444aa5f071654f0b360a": {
          "model_module": "@jupyter-widgets/controls",
          "model_name": "DescriptionStyleModel",
          "model_module_version": "1.5.0",
          "state": {
            "_model_module": "@jupyter-widgets/controls",
            "_model_module_version": "1.5.0",
            "_model_name": "DescriptionStyleModel",
            "_view_count": null,
            "_view_module": "@jupyter-widgets/base",
            "_view_module_version": "1.2.0",
            "_view_name": "StyleView",
            "description_width": ""
          }
        },
        "e5d794f195c34ed5b54278d1692d4882": {
          "model_module": "@jupyter-widgets/controls",
          "model_name": "HBoxModel",
          "model_module_version": "1.5.0",
          "state": {
            "_dom_classes": [],
            "_model_module": "@jupyter-widgets/controls",
            "_model_module_version": "1.5.0",
            "_model_name": "HBoxModel",
            "_view_count": null,
            "_view_module": "@jupyter-widgets/controls",
            "_view_module_version": "1.5.0",
            "_view_name": "HBoxView",
            "box_style": "",
            "children": [
              "IPY_MODEL_61d3165b328f4ff0922b57cc28d78a4a",
              "IPY_MODEL_b5019cd6f9f041e09ae5f4a529adace9",
              "IPY_MODEL_e7245b903ec74ede88b9af6bf88a44e6"
            ],
            "layout": "IPY_MODEL_211efee245fc496d994068a3628959cb"
          }
        },
        "61d3165b328f4ff0922b57cc28d78a4a": {
          "model_module": "@jupyter-widgets/controls",
          "model_name": "HTMLModel",
          "model_module_version": "1.5.0",
          "state": {
            "_dom_classes": [],
            "_model_module": "@jupyter-widgets/controls",
            "_model_module_version": "1.5.0",
            "_model_name": "HTMLModel",
            "_view_count": null,
            "_view_module": "@jupyter-widgets/controls",
            "_view_module_version": "1.5.0",
            "_view_name": "HTMLView",
            "description": "",
            "description_tooltip": null,
            "layout": "IPY_MODEL_027b4634ee814bd6856892a82f6c80c6",
            "placeholder": "​",
            "style": "IPY_MODEL_1c319c3d69a14209bb6b5a9a8294619b",
            "value": "Shuffling /root/tensorflow_datasets/imdb_reviews/plain_text/incomplete.JU1N7P_1.0.0/imdb_reviews-train.tfrecord*...:   0%"
          }
        },
        "b5019cd6f9f041e09ae5f4a529adace9": {
          "model_module": "@jupyter-widgets/controls",
          "model_name": "FloatProgressModel",
          "model_module_version": "1.5.0",
          "state": {
            "_dom_classes": [],
            "_model_module": "@jupyter-widgets/controls",
            "_model_module_version": "1.5.0",
            "_model_name": "FloatProgressModel",
            "_view_count": null,
            "_view_module": "@jupyter-widgets/controls",
            "_view_module_version": "1.5.0",
            "_view_name": "ProgressView",
            "bar_style": "",
            "description": "",
            "description_tooltip": null,
            "layout": "IPY_MODEL_98967179d894409695f8083b24b4bdc3",
            "max": 25000,
            "min": 0,
            "orientation": "horizontal",
            "style": "IPY_MODEL_f17f484ded6946bf9cad94d1a609a0af",
            "value": 25000
          }
        },
        "e7245b903ec74ede88b9af6bf88a44e6": {
          "model_module": "@jupyter-widgets/controls",
          "model_name": "HTMLModel",
          "model_module_version": "1.5.0",
          "state": {
            "_dom_classes": [],
            "_model_module": "@jupyter-widgets/controls",
            "_model_module_version": "1.5.0",
            "_model_name": "HTMLModel",
            "_view_count": null,
            "_view_module": "@jupyter-widgets/controls",
            "_view_module_version": "1.5.0",
            "_view_name": "HTMLView",
            "description": "",
            "description_tooltip": null,
            "layout": "IPY_MODEL_5012edd55e0d4355b6438274ec039dab",
            "placeholder": "​",
            "style": "IPY_MODEL_2f7fabdb02b0490b86de722aabce52a4",
            "value": " 0/25000 [00:00&lt;?, ? examples/s]"
          }
        },
        "211efee245fc496d994068a3628959cb": {
          "model_module": "@jupyter-widgets/base",
          "model_name": "LayoutModel",
          "model_module_version": "1.2.0",
          "state": {
            "_model_module": "@jupyter-widgets/base",
            "_model_module_version": "1.2.0",
            "_model_name": "LayoutModel",
            "_view_count": null,
            "_view_module": "@jupyter-widgets/base",
            "_view_module_version": "1.2.0",
            "_view_name": "LayoutView",
            "align_content": null,
            "align_items": null,
            "align_self": null,
            "border": null,
            "bottom": null,
            "display": null,
            "flex": null,
            "flex_flow": null,
            "grid_area": null,
            "grid_auto_columns": null,
            "grid_auto_flow": null,
            "grid_auto_rows": null,
            "grid_column": null,
            "grid_gap": null,
            "grid_row": null,
            "grid_template_areas": null,
            "grid_template_columns": null,
            "grid_template_rows": null,
            "height": null,
            "justify_content": null,
            "justify_items": null,
            "left": null,
            "margin": null,
            "max_height": null,
            "max_width": null,
            "min_height": null,
            "min_width": null,
            "object_fit": null,
            "object_position": null,
            "order": null,
            "overflow": null,
            "overflow_x": null,
            "overflow_y": null,
            "padding": null,
            "right": null,
            "top": null,
            "visibility": "hidden",
            "width": null
          }
        },
        "027b4634ee814bd6856892a82f6c80c6": {
          "model_module": "@jupyter-widgets/base",
          "model_name": "LayoutModel",
          "model_module_version": "1.2.0",
          "state": {
            "_model_module": "@jupyter-widgets/base",
            "_model_module_version": "1.2.0",
            "_model_name": "LayoutModel",
            "_view_count": null,
            "_view_module": "@jupyter-widgets/base",
            "_view_module_version": "1.2.0",
            "_view_name": "LayoutView",
            "align_content": null,
            "align_items": null,
            "align_self": null,
            "border": null,
            "bottom": null,
            "display": null,
            "flex": null,
            "flex_flow": null,
            "grid_area": null,
            "grid_auto_columns": null,
            "grid_auto_flow": null,
            "grid_auto_rows": null,
            "grid_column": null,
            "grid_gap": null,
            "grid_row": null,
            "grid_template_areas": null,
            "grid_template_columns": null,
            "grid_template_rows": null,
            "height": null,
            "justify_content": null,
            "justify_items": null,
            "left": null,
            "margin": null,
            "max_height": null,
            "max_width": null,
            "min_height": null,
            "min_width": null,
            "object_fit": null,
            "object_position": null,
            "order": null,
            "overflow": null,
            "overflow_x": null,
            "overflow_y": null,
            "padding": null,
            "right": null,
            "top": null,
            "visibility": null,
            "width": null
          }
        },
        "1c319c3d69a14209bb6b5a9a8294619b": {
          "model_module": "@jupyter-widgets/controls",
          "model_name": "DescriptionStyleModel",
          "model_module_version": "1.5.0",
          "state": {
            "_model_module": "@jupyter-widgets/controls",
            "_model_module_version": "1.5.0",
            "_model_name": "DescriptionStyleModel",
            "_view_count": null,
            "_view_module": "@jupyter-widgets/base",
            "_view_module_version": "1.2.0",
            "_view_name": "StyleView",
            "description_width": ""
          }
        },
        "98967179d894409695f8083b24b4bdc3": {
          "model_module": "@jupyter-widgets/base",
          "model_name": "LayoutModel",
          "model_module_version": "1.2.0",
          "state": {
            "_model_module": "@jupyter-widgets/base",
            "_model_module_version": "1.2.0",
            "_model_name": "LayoutModel",
            "_view_count": null,
            "_view_module": "@jupyter-widgets/base",
            "_view_module_version": "1.2.0",
            "_view_name": "LayoutView",
            "align_content": null,
            "align_items": null,
            "align_self": null,
            "border": null,
            "bottom": null,
            "display": null,
            "flex": null,
            "flex_flow": null,
            "grid_area": null,
            "grid_auto_columns": null,
            "grid_auto_flow": null,
            "grid_auto_rows": null,
            "grid_column": null,
            "grid_gap": null,
            "grid_row": null,
            "grid_template_areas": null,
            "grid_template_columns": null,
            "grid_template_rows": null,
            "height": null,
            "justify_content": null,
            "justify_items": null,
            "left": null,
            "margin": null,
            "max_height": null,
            "max_width": null,
            "min_height": null,
            "min_width": null,
            "object_fit": null,
            "object_position": null,
            "order": null,
            "overflow": null,
            "overflow_x": null,
            "overflow_y": null,
            "padding": null,
            "right": null,
            "top": null,
            "visibility": null,
            "width": null
          }
        },
        "f17f484ded6946bf9cad94d1a609a0af": {
          "model_module": "@jupyter-widgets/controls",
          "model_name": "ProgressStyleModel",
          "model_module_version": "1.5.0",
          "state": {
            "_model_module": "@jupyter-widgets/controls",
            "_model_module_version": "1.5.0",
            "_model_name": "ProgressStyleModel",
            "_view_count": null,
            "_view_module": "@jupyter-widgets/base",
            "_view_module_version": "1.2.0",
            "_view_name": "StyleView",
            "bar_color": null,
            "description_width": ""
          }
        },
        "5012edd55e0d4355b6438274ec039dab": {
          "model_module": "@jupyter-widgets/base",
          "model_name": "LayoutModel",
          "model_module_version": "1.2.0",
          "state": {
            "_model_module": "@jupyter-widgets/base",
            "_model_module_version": "1.2.0",
            "_model_name": "LayoutModel",
            "_view_count": null,
            "_view_module": "@jupyter-widgets/base",
            "_view_module_version": "1.2.0",
            "_view_name": "LayoutView",
            "align_content": null,
            "align_items": null,
            "align_self": null,
            "border": null,
            "bottom": null,
            "display": null,
            "flex": null,
            "flex_flow": null,
            "grid_area": null,
            "grid_auto_columns": null,
            "grid_auto_flow": null,
            "grid_auto_rows": null,
            "grid_column": null,
            "grid_gap": null,
            "grid_row": null,
            "grid_template_areas": null,
            "grid_template_columns": null,
            "grid_template_rows": null,
            "height": null,
            "justify_content": null,
            "justify_items": null,
            "left": null,
            "margin": null,
            "max_height": null,
            "max_width": null,
            "min_height": null,
            "min_width": null,
            "object_fit": null,
            "object_position": null,
            "order": null,
            "overflow": null,
            "overflow_x": null,
            "overflow_y": null,
            "padding": null,
            "right": null,
            "top": null,
            "visibility": null,
            "width": null
          }
        },
        "2f7fabdb02b0490b86de722aabce52a4": {
          "model_module": "@jupyter-widgets/controls",
          "model_name": "DescriptionStyleModel",
          "model_module_version": "1.5.0",
          "state": {
            "_model_module": "@jupyter-widgets/controls",
            "_model_module_version": "1.5.0",
            "_model_name": "DescriptionStyleModel",
            "_view_count": null,
            "_view_module": "@jupyter-widgets/base",
            "_view_module_version": "1.2.0",
            "_view_name": "StyleView",
            "description_width": ""
          }
        },
        "49a635aa869847819bca4f6f47839cf8": {
          "model_module": "@jupyter-widgets/controls",
          "model_name": "HBoxModel",
          "model_module_version": "1.5.0",
          "state": {
            "_dom_classes": [],
            "_model_module": "@jupyter-widgets/controls",
            "_model_module_version": "1.5.0",
            "_model_name": "HBoxModel",
            "_view_count": null,
            "_view_module": "@jupyter-widgets/controls",
            "_view_module_version": "1.5.0",
            "_view_name": "HBoxView",
            "box_style": "",
            "children": [
              "IPY_MODEL_37f7e08e6a164d108356c2857ab25a0a",
              "IPY_MODEL_12bc52a27a2f4f1ea3bf158b25f9bc72",
              "IPY_MODEL_cd1f17245ea5414dae21749b9e5acf8b"
            ],
            "layout": "IPY_MODEL_f48dfb9db60e491ca331903bb26136db"
          }
        },
        "37f7e08e6a164d108356c2857ab25a0a": {
          "model_module": "@jupyter-widgets/controls",
          "model_name": "HTMLModel",
          "model_module_version": "1.5.0",
          "state": {
            "_dom_classes": [],
            "_model_module": "@jupyter-widgets/controls",
            "_model_module_version": "1.5.0",
            "_model_name": "HTMLModel",
            "_view_count": null,
            "_view_module": "@jupyter-widgets/controls",
            "_view_module_version": "1.5.0",
            "_view_name": "HTMLView",
            "description": "",
            "description_tooltip": null,
            "layout": "IPY_MODEL_176e5c1c2e4b40d6998152a077f161c2",
            "placeholder": "​",
            "style": "IPY_MODEL_cdbfc0b3f24649ce9f176d2b8a6d425f",
            "value": "Generating test examples...:  86%"
          }
        },
        "12bc52a27a2f4f1ea3bf158b25f9bc72": {
          "model_module": "@jupyter-widgets/controls",
          "model_name": "FloatProgressModel",
          "model_module_version": "1.5.0",
          "state": {
            "_dom_classes": [],
            "_model_module": "@jupyter-widgets/controls",
            "_model_module_version": "1.5.0",
            "_model_name": "FloatProgressModel",
            "_view_count": null,
            "_view_module": "@jupyter-widgets/controls",
            "_view_module_version": "1.5.0",
            "_view_name": "ProgressView",
            "bar_style": "",
            "description": "",
            "description_tooltip": null,
            "layout": "IPY_MODEL_fd401bed20944db79063f984b7b93342",
            "max": 25000,
            "min": 0,
            "orientation": "horizontal",
            "style": "IPY_MODEL_6bbb54e8c3874450b94030ca0e446c59",
            "value": 25000
          }
        },
        "cd1f17245ea5414dae21749b9e5acf8b": {
          "model_module": "@jupyter-widgets/controls",
          "model_name": "HTMLModel",
          "model_module_version": "1.5.0",
          "state": {
            "_dom_classes": [],
            "_model_module": "@jupyter-widgets/controls",
            "_model_module_version": "1.5.0",
            "_model_name": "HTMLModel",
            "_view_count": null,
            "_view_module": "@jupyter-widgets/controls",
            "_view_module_version": "1.5.0",
            "_view_name": "HTMLView",
            "description": "",
            "description_tooltip": null,
            "layout": "IPY_MODEL_66591cd34b9543d8adec6a34021e1593",
            "placeholder": "​",
            "style": "IPY_MODEL_37d597dd92d94a9b983f10cbd8bc0ab6",
            "value": " 21588/25000 [00:07&lt;00:00, 3681.80 examples/s]"
          }
        },
        "f48dfb9db60e491ca331903bb26136db": {
          "model_module": "@jupyter-widgets/base",
          "model_name": "LayoutModel",
          "model_module_version": "1.2.0",
          "state": {
            "_model_module": "@jupyter-widgets/base",
            "_model_module_version": "1.2.0",
            "_model_name": "LayoutModel",
            "_view_count": null,
            "_view_module": "@jupyter-widgets/base",
            "_view_module_version": "1.2.0",
            "_view_name": "LayoutView",
            "align_content": null,
            "align_items": null,
            "align_self": null,
            "border": null,
            "bottom": null,
            "display": null,
            "flex": null,
            "flex_flow": null,
            "grid_area": null,
            "grid_auto_columns": null,
            "grid_auto_flow": null,
            "grid_auto_rows": null,
            "grid_column": null,
            "grid_gap": null,
            "grid_row": null,
            "grid_template_areas": null,
            "grid_template_columns": null,
            "grid_template_rows": null,
            "height": null,
            "justify_content": null,
            "justify_items": null,
            "left": null,
            "margin": null,
            "max_height": null,
            "max_width": null,
            "min_height": null,
            "min_width": null,
            "object_fit": null,
            "object_position": null,
            "order": null,
            "overflow": null,
            "overflow_x": null,
            "overflow_y": null,
            "padding": null,
            "right": null,
            "top": null,
            "visibility": "hidden",
            "width": null
          }
        },
        "176e5c1c2e4b40d6998152a077f161c2": {
          "model_module": "@jupyter-widgets/base",
          "model_name": "LayoutModel",
          "model_module_version": "1.2.0",
          "state": {
            "_model_module": "@jupyter-widgets/base",
            "_model_module_version": "1.2.0",
            "_model_name": "LayoutModel",
            "_view_count": null,
            "_view_module": "@jupyter-widgets/base",
            "_view_module_version": "1.2.0",
            "_view_name": "LayoutView",
            "align_content": null,
            "align_items": null,
            "align_self": null,
            "border": null,
            "bottom": null,
            "display": null,
            "flex": null,
            "flex_flow": null,
            "grid_area": null,
            "grid_auto_columns": null,
            "grid_auto_flow": null,
            "grid_auto_rows": null,
            "grid_column": null,
            "grid_gap": null,
            "grid_row": null,
            "grid_template_areas": null,
            "grid_template_columns": null,
            "grid_template_rows": null,
            "height": null,
            "justify_content": null,
            "justify_items": null,
            "left": null,
            "margin": null,
            "max_height": null,
            "max_width": null,
            "min_height": null,
            "min_width": null,
            "object_fit": null,
            "object_position": null,
            "order": null,
            "overflow": null,
            "overflow_x": null,
            "overflow_y": null,
            "padding": null,
            "right": null,
            "top": null,
            "visibility": null,
            "width": null
          }
        },
        "cdbfc0b3f24649ce9f176d2b8a6d425f": {
          "model_module": "@jupyter-widgets/controls",
          "model_name": "DescriptionStyleModel",
          "model_module_version": "1.5.0",
          "state": {
            "_model_module": "@jupyter-widgets/controls",
            "_model_module_version": "1.5.0",
            "_model_name": "DescriptionStyleModel",
            "_view_count": null,
            "_view_module": "@jupyter-widgets/base",
            "_view_module_version": "1.2.0",
            "_view_name": "StyleView",
            "description_width": ""
          }
        },
        "fd401bed20944db79063f984b7b93342": {
          "model_module": "@jupyter-widgets/base",
          "model_name": "LayoutModel",
          "model_module_version": "1.2.0",
          "state": {
            "_model_module": "@jupyter-widgets/base",
            "_model_module_version": "1.2.0",
            "_model_name": "LayoutModel",
            "_view_count": null,
            "_view_module": "@jupyter-widgets/base",
            "_view_module_version": "1.2.0",
            "_view_name": "LayoutView",
            "align_content": null,
            "align_items": null,
            "align_self": null,
            "border": null,
            "bottom": null,
            "display": null,
            "flex": null,
            "flex_flow": null,
            "grid_area": null,
            "grid_auto_columns": null,
            "grid_auto_flow": null,
            "grid_auto_rows": null,
            "grid_column": null,
            "grid_gap": null,
            "grid_row": null,
            "grid_template_areas": null,
            "grid_template_columns": null,
            "grid_template_rows": null,
            "height": null,
            "justify_content": null,
            "justify_items": null,
            "left": null,
            "margin": null,
            "max_height": null,
            "max_width": null,
            "min_height": null,
            "min_width": null,
            "object_fit": null,
            "object_position": null,
            "order": null,
            "overflow": null,
            "overflow_x": null,
            "overflow_y": null,
            "padding": null,
            "right": null,
            "top": null,
            "visibility": null,
            "width": null
          }
        },
        "6bbb54e8c3874450b94030ca0e446c59": {
          "model_module": "@jupyter-widgets/controls",
          "model_name": "ProgressStyleModel",
          "model_module_version": "1.5.0",
          "state": {
            "_model_module": "@jupyter-widgets/controls",
            "_model_module_version": "1.5.0",
            "_model_name": "ProgressStyleModel",
            "_view_count": null,
            "_view_module": "@jupyter-widgets/base",
            "_view_module_version": "1.2.0",
            "_view_name": "StyleView",
            "bar_color": null,
            "description_width": ""
          }
        },
        "66591cd34b9543d8adec6a34021e1593": {
          "model_module": "@jupyter-widgets/base",
          "model_name": "LayoutModel",
          "model_module_version": "1.2.0",
          "state": {
            "_model_module": "@jupyter-widgets/base",
            "_model_module_version": "1.2.0",
            "_model_name": "LayoutModel",
            "_view_count": null,
            "_view_module": "@jupyter-widgets/base",
            "_view_module_version": "1.2.0",
            "_view_name": "LayoutView",
            "align_content": null,
            "align_items": null,
            "align_self": null,
            "border": null,
            "bottom": null,
            "display": null,
            "flex": null,
            "flex_flow": null,
            "grid_area": null,
            "grid_auto_columns": null,
            "grid_auto_flow": null,
            "grid_auto_rows": null,
            "grid_column": null,
            "grid_gap": null,
            "grid_row": null,
            "grid_template_areas": null,
            "grid_template_columns": null,
            "grid_template_rows": null,
            "height": null,
            "justify_content": null,
            "justify_items": null,
            "left": null,
            "margin": null,
            "max_height": null,
            "max_width": null,
            "min_height": null,
            "min_width": null,
            "object_fit": null,
            "object_position": null,
            "order": null,
            "overflow": null,
            "overflow_x": null,
            "overflow_y": null,
            "padding": null,
            "right": null,
            "top": null,
            "visibility": null,
            "width": null
          }
        },
        "37d597dd92d94a9b983f10cbd8bc0ab6": {
          "model_module": "@jupyter-widgets/controls",
          "model_name": "DescriptionStyleModel",
          "model_module_version": "1.5.0",
          "state": {
            "_model_module": "@jupyter-widgets/controls",
            "_model_module_version": "1.5.0",
            "_model_name": "DescriptionStyleModel",
            "_view_count": null,
            "_view_module": "@jupyter-widgets/base",
            "_view_module_version": "1.2.0",
            "_view_name": "StyleView",
            "description_width": ""
          }
        },
        "76b1bd6e5eb54a5a9f878b1468054e8f": {
          "model_module": "@jupyter-widgets/controls",
          "model_name": "HBoxModel",
          "model_module_version": "1.5.0",
          "state": {
            "_dom_classes": [],
            "_model_module": "@jupyter-widgets/controls",
            "_model_module_version": "1.5.0",
            "_model_name": "HBoxModel",
            "_view_count": null,
            "_view_module": "@jupyter-widgets/controls",
            "_view_module_version": "1.5.0",
            "_view_name": "HBoxView",
            "box_style": "",
            "children": [
              "IPY_MODEL_75b98c09a0b045658caa749f85ea82b8",
              "IPY_MODEL_e18028cb869f4a3e9c59145134ae8672",
              "IPY_MODEL_c669aa3b3f604df0825f7488d24bc3ba"
            ],
            "layout": "IPY_MODEL_1e00f8b2d0c44b8186938a4989070712"
          }
        },
        "75b98c09a0b045658caa749f85ea82b8": {
          "model_module": "@jupyter-widgets/controls",
          "model_name": "HTMLModel",
          "model_module_version": "1.5.0",
          "state": {
            "_dom_classes": [],
            "_model_module": "@jupyter-widgets/controls",
            "_model_module_version": "1.5.0",
            "_model_name": "HTMLModel",
            "_view_count": null,
            "_view_module": "@jupyter-widgets/controls",
            "_view_module_version": "1.5.0",
            "_view_name": "HTMLView",
            "description": "",
            "description_tooltip": null,
            "layout": "IPY_MODEL_fda6493acd4c43c7982b907050842ae8",
            "placeholder": "​",
            "style": "IPY_MODEL_1385351cf8ea4309934c1874f0f13c9b",
            "value": "Shuffling /root/tensorflow_datasets/imdb_reviews/plain_text/incomplete.JU1N7P_1.0.0/imdb_reviews-test.tfrecord*...:   0%"
          }
        },
        "e18028cb869f4a3e9c59145134ae8672": {
          "model_module": "@jupyter-widgets/controls",
          "model_name": "FloatProgressModel",
          "model_module_version": "1.5.0",
          "state": {
            "_dom_classes": [],
            "_model_module": "@jupyter-widgets/controls",
            "_model_module_version": "1.5.0",
            "_model_name": "FloatProgressModel",
            "_view_count": null,
            "_view_module": "@jupyter-widgets/controls",
            "_view_module_version": "1.5.0",
            "_view_name": "ProgressView",
            "bar_style": "",
            "description": "",
            "description_tooltip": null,
            "layout": "IPY_MODEL_29f3ccc137654f99b7ae5f0ba0f5742e",
            "max": 25000,
            "min": 0,
            "orientation": "horizontal",
            "style": "IPY_MODEL_a0ec8f6ae9c64f68b210dcf694cc078d",
            "value": 25000
          }
        },
        "c669aa3b3f604df0825f7488d24bc3ba": {
          "model_module": "@jupyter-widgets/controls",
          "model_name": "HTMLModel",
          "model_module_version": "1.5.0",
          "state": {
            "_dom_classes": [],
            "_model_module": "@jupyter-widgets/controls",
            "_model_module_version": "1.5.0",
            "_model_name": "HTMLModel",
            "_view_count": null,
            "_view_module": "@jupyter-widgets/controls",
            "_view_module_version": "1.5.0",
            "_view_name": "HTMLView",
            "description": "",
            "description_tooltip": null,
            "layout": "IPY_MODEL_f6c8e859af0c41538e20c01a14313170",
            "placeholder": "​",
            "style": "IPY_MODEL_c4d8a08a96ab4b0b98f34f3e8926ff7e",
            "value": " 0/25000 [00:00&lt;?, ? examples/s]"
          }
        },
        "1e00f8b2d0c44b8186938a4989070712": {
          "model_module": "@jupyter-widgets/base",
          "model_name": "LayoutModel",
          "model_module_version": "1.2.0",
          "state": {
            "_model_module": "@jupyter-widgets/base",
            "_model_module_version": "1.2.0",
            "_model_name": "LayoutModel",
            "_view_count": null,
            "_view_module": "@jupyter-widgets/base",
            "_view_module_version": "1.2.0",
            "_view_name": "LayoutView",
            "align_content": null,
            "align_items": null,
            "align_self": null,
            "border": null,
            "bottom": null,
            "display": null,
            "flex": null,
            "flex_flow": null,
            "grid_area": null,
            "grid_auto_columns": null,
            "grid_auto_flow": null,
            "grid_auto_rows": null,
            "grid_column": null,
            "grid_gap": null,
            "grid_row": null,
            "grid_template_areas": null,
            "grid_template_columns": null,
            "grid_template_rows": null,
            "height": null,
            "justify_content": null,
            "justify_items": null,
            "left": null,
            "margin": null,
            "max_height": null,
            "max_width": null,
            "min_height": null,
            "min_width": null,
            "object_fit": null,
            "object_position": null,
            "order": null,
            "overflow": null,
            "overflow_x": null,
            "overflow_y": null,
            "padding": null,
            "right": null,
            "top": null,
            "visibility": "hidden",
            "width": null
          }
        },
        "fda6493acd4c43c7982b907050842ae8": {
          "model_module": "@jupyter-widgets/base",
          "model_name": "LayoutModel",
          "model_module_version": "1.2.0",
          "state": {
            "_model_module": "@jupyter-widgets/base",
            "_model_module_version": "1.2.0",
            "_model_name": "LayoutModel",
            "_view_count": null,
            "_view_module": "@jupyter-widgets/base",
            "_view_module_version": "1.2.0",
            "_view_name": "LayoutView",
            "align_content": null,
            "align_items": null,
            "align_self": null,
            "border": null,
            "bottom": null,
            "display": null,
            "flex": null,
            "flex_flow": null,
            "grid_area": null,
            "grid_auto_columns": null,
            "grid_auto_flow": null,
            "grid_auto_rows": null,
            "grid_column": null,
            "grid_gap": null,
            "grid_row": null,
            "grid_template_areas": null,
            "grid_template_columns": null,
            "grid_template_rows": null,
            "height": null,
            "justify_content": null,
            "justify_items": null,
            "left": null,
            "margin": null,
            "max_height": null,
            "max_width": null,
            "min_height": null,
            "min_width": null,
            "object_fit": null,
            "object_position": null,
            "order": null,
            "overflow": null,
            "overflow_x": null,
            "overflow_y": null,
            "padding": null,
            "right": null,
            "top": null,
            "visibility": null,
            "width": null
          }
        },
        "1385351cf8ea4309934c1874f0f13c9b": {
          "model_module": "@jupyter-widgets/controls",
          "model_name": "DescriptionStyleModel",
          "model_module_version": "1.5.0",
          "state": {
            "_model_module": "@jupyter-widgets/controls",
            "_model_module_version": "1.5.0",
            "_model_name": "DescriptionStyleModel",
            "_view_count": null,
            "_view_module": "@jupyter-widgets/base",
            "_view_module_version": "1.2.0",
            "_view_name": "StyleView",
            "description_width": ""
          }
        },
        "29f3ccc137654f99b7ae5f0ba0f5742e": {
          "model_module": "@jupyter-widgets/base",
          "model_name": "LayoutModel",
          "model_module_version": "1.2.0",
          "state": {
            "_model_module": "@jupyter-widgets/base",
            "_model_module_version": "1.2.0",
            "_model_name": "LayoutModel",
            "_view_count": null,
            "_view_module": "@jupyter-widgets/base",
            "_view_module_version": "1.2.0",
            "_view_name": "LayoutView",
            "align_content": null,
            "align_items": null,
            "align_self": null,
            "border": null,
            "bottom": null,
            "display": null,
            "flex": null,
            "flex_flow": null,
            "grid_area": null,
            "grid_auto_columns": null,
            "grid_auto_flow": null,
            "grid_auto_rows": null,
            "grid_column": null,
            "grid_gap": null,
            "grid_row": null,
            "grid_template_areas": null,
            "grid_template_columns": null,
            "grid_template_rows": null,
            "height": null,
            "justify_content": null,
            "justify_items": null,
            "left": null,
            "margin": null,
            "max_height": null,
            "max_width": null,
            "min_height": null,
            "min_width": null,
            "object_fit": null,
            "object_position": null,
            "order": null,
            "overflow": null,
            "overflow_x": null,
            "overflow_y": null,
            "padding": null,
            "right": null,
            "top": null,
            "visibility": null,
            "width": null
          }
        },
        "a0ec8f6ae9c64f68b210dcf694cc078d": {
          "model_module": "@jupyter-widgets/controls",
          "model_name": "ProgressStyleModel",
          "model_module_version": "1.5.0",
          "state": {
            "_model_module": "@jupyter-widgets/controls",
            "_model_module_version": "1.5.0",
            "_model_name": "ProgressStyleModel",
            "_view_count": null,
            "_view_module": "@jupyter-widgets/base",
            "_view_module_version": "1.2.0",
            "_view_name": "StyleView",
            "bar_color": null,
            "description_width": ""
          }
        },
        "f6c8e859af0c41538e20c01a14313170": {
          "model_module": "@jupyter-widgets/base",
          "model_name": "LayoutModel",
          "model_module_version": "1.2.0",
          "state": {
            "_model_module": "@jupyter-widgets/base",
            "_model_module_version": "1.2.0",
            "_model_name": "LayoutModel",
            "_view_count": null,
            "_view_module": "@jupyter-widgets/base",
            "_view_module_version": "1.2.0",
            "_view_name": "LayoutView",
            "align_content": null,
            "align_items": null,
            "align_self": null,
            "border": null,
            "bottom": null,
            "display": null,
            "flex": null,
            "flex_flow": null,
            "grid_area": null,
            "grid_auto_columns": null,
            "grid_auto_flow": null,
            "grid_auto_rows": null,
            "grid_column": null,
            "grid_gap": null,
            "grid_row": null,
            "grid_template_areas": null,
            "grid_template_columns": null,
            "grid_template_rows": null,
            "height": null,
            "justify_content": null,
            "justify_items": null,
            "left": null,
            "margin": null,
            "max_height": null,
            "max_width": null,
            "min_height": null,
            "min_width": null,
            "object_fit": null,
            "object_position": null,
            "order": null,
            "overflow": null,
            "overflow_x": null,
            "overflow_y": null,
            "padding": null,
            "right": null,
            "top": null,
            "visibility": null,
            "width": null
          }
        },
        "c4d8a08a96ab4b0b98f34f3e8926ff7e": {
          "model_module": "@jupyter-widgets/controls",
          "model_name": "DescriptionStyleModel",
          "model_module_version": "1.5.0",
          "state": {
            "_model_module": "@jupyter-widgets/controls",
            "_model_module_version": "1.5.0",
            "_model_name": "DescriptionStyleModel",
            "_view_count": null,
            "_view_module": "@jupyter-widgets/base",
            "_view_module_version": "1.2.0",
            "_view_name": "StyleView",
            "description_width": ""
          }
        },
        "6cfb27fbd7544c2e8ea2573f614ded39": {
          "model_module": "@jupyter-widgets/controls",
          "model_name": "HBoxModel",
          "model_module_version": "1.5.0",
          "state": {
            "_dom_classes": [],
            "_model_module": "@jupyter-widgets/controls",
            "_model_module_version": "1.5.0",
            "_model_name": "HBoxModel",
            "_view_count": null,
            "_view_module": "@jupyter-widgets/controls",
            "_view_module_version": "1.5.0",
            "_view_name": "HBoxView",
            "box_style": "",
            "children": [
              "IPY_MODEL_be78bc59291e46d0aad3e3ef384a5a8a",
              "IPY_MODEL_2146631603dd42a59e429f113a693ef7",
              "IPY_MODEL_6e2ebad37d524800b8a0ca6b7b9c7486"
            ],
            "layout": "IPY_MODEL_02ecd30714ca4a4ab03dfc90998100b3"
          }
        },
        "be78bc59291e46d0aad3e3ef384a5a8a": {
          "model_module": "@jupyter-widgets/controls",
          "model_name": "HTMLModel",
          "model_module_version": "1.5.0",
          "state": {
            "_dom_classes": [],
            "_model_module": "@jupyter-widgets/controls",
            "_model_module_version": "1.5.0",
            "_model_name": "HTMLModel",
            "_view_count": null,
            "_view_module": "@jupyter-widgets/controls",
            "_view_module_version": "1.5.0",
            "_view_name": "HTMLView",
            "description": "",
            "description_tooltip": null,
            "layout": "IPY_MODEL_799bc90835404ea397963d3e8b33ccfb",
            "placeholder": "​",
            "style": "IPY_MODEL_a27b861bfdb74863a038d5a1c2eb7662",
            "value": "Generating unsupervised examples...:  94%"
          }
        },
        "2146631603dd42a59e429f113a693ef7": {
          "model_module": "@jupyter-widgets/controls",
          "model_name": "FloatProgressModel",
          "model_module_version": "1.5.0",
          "state": {
            "_dom_classes": [],
            "_model_module": "@jupyter-widgets/controls",
            "_model_module_version": "1.5.0",
            "_model_name": "FloatProgressModel",
            "_view_count": null,
            "_view_module": "@jupyter-widgets/controls",
            "_view_module_version": "1.5.0",
            "_view_name": "ProgressView",
            "bar_style": "",
            "description": "",
            "description_tooltip": null,
            "layout": "IPY_MODEL_c5893cc027564b6c9fa151bdeadf7aba",
            "max": 50000,
            "min": 0,
            "orientation": "horizontal",
            "style": "IPY_MODEL_ef6bc9169d9c47158d245437e4535d85",
            "value": 50000
          }
        },
        "6e2ebad37d524800b8a0ca6b7b9c7486": {
          "model_module": "@jupyter-widgets/controls",
          "model_name": "HTMLModel",
          "model_module_version": "1.5.0",
          "state": {
            "_dom_classes": [],
            "_model_module": "@jupyter-widgets/controls",
            "_model_module_version": "1.5.0",
            "_model_name": "HTMLModel",
            "_view_count": null,
            "_view_module": "@jupyter-widgets/controls",
            "_view_module_version": "1.5.0",
            "_view_name": "HTMLView",
            "description": "",
            "description_tooltip": null,
            "layout": "IPY_MODEL_3ed0025259c84ef58a24cda23f17abfe",
            "placeholder": "​",
            "style": "IPY_MODEL_7469786cb4f1449b888e6c888ae9c679",
            "value": " 47101/50000 [00:18&lt;00:00, 3281.28 examples/s]"
          }
        },
        "02ecd30714ca4a4ab03dfc90998100b3": {
          "model_module": "@jupyter-widgets/base",
          "model_name": "LayoutModel",
          "model_module_version": "1.2.0",
          "state": {
            "_model_module": "@jupyter-widgets/base",
            "_model_module_version": "1.2.0",
            "_model_name": "LayoutModel",
            "_view_count": null,
            "_view_module": "@jupyter-widgets/base",
            "_view_module_version": "1.2.0",
            "_view_name": "LayoutView",
            "align_content": null,
            "align_items": null,
            "align_self": null,
            "border": null,
            "bottom": null,
            "display": null,
            "flex": null,
            "flex_flow": null,
            "grid_area": null,
            "grid_auto_columns": null,
            "grid_auto_flow": null,
            "grid_auto_rows": null,
            "grid_column": null,
            "grid_gap": null,
            "grid_row": null,
            "grid_template_areas": null,
            "grid_template_columns": null,
            "grid_template_rows": null,
            "height": null,
            "justify_content": null,
            "justify_items": null,
            "left": null,
            "margin": null,
            "max_height": null,
            "max_width": null,
            "min_height": null,
            "min_width": null,
            "object_fit": null,
            "object_position": null,
            "order": null,
            "overflow": null,
            "overflow_x": null,
            "overflow_y": null,
            "padding": null,
            "right": null,
            "top": null,
            "visibility": "hidden",
            "width": null
          }
        },
        "799bc90835404ea397963d3e8b33ccfb": {
          "model_module": "@jupyter-widgets/base",
          "model_name": "LayoutModel",
          "model_module_version": "1.2.0",
          "state": {
            "_model_module": "@jupyter-widgets/base",
            "_model_module_version": "1.2.0",
            "_model_name": "LayoutModel",
            "_view_count": null,
            "_view_module": "@jupyter-widgets/base",
            "_view_module_version": "1.2.0",
            "_view_name": "LayoutView",
            "align_content": null,
            "align_items": null,
            "align_self": null,
            "border": null,
            "bottom": null,
            "display": null,
            "flex": null,
            "flex_flow": null,
            "grid_area": null,
            "grid_auto_columns": null,
            "grid_auto_flow": null,
            "grid_auto_rows": null,
            "grid_column": null,
            "grid_gap": null,
            "grid_row": null,
            "grid_template_areas": null,
            "grid_template_columns": null,
            "grid_template_rows": null,
            "height": null,
            "justify_content": null,
            "justify_items": null,
            "left": null,
            "margin": null,
            "max_height": null,
            "max_width": null,
            "min_height": null,
            "min_width": null,
            "object_fit": null,
            "object_position": null,
            "order": null,
            "overflow": null,
            "overflow_x": null,
            "overflow_y": null,
            "padding": null,
            "right": null,
            "top": null,
            "visibility": null,
            "width": null
          }
        },
        "a27b861bfdb74863a038d5a1c2eb7662": {
          "model_module": "@jupyter-widgets/controls",
          "model_name": "DescriptionStyleModel",
          "model_module_version": "1.5.0",
          "state": {
            "_model_module": "@jupyter-widgets/controls",
            "_model_module_version": "1.5.0",
            "_model_name": "DescriptionStyleModel",
            "_view_count": null,
            "_view_module": "@jupyter-widgets/base",
            "_view_module_version": "1.2.0",
            "_view_name": "StyleView",
            "description_width": ""
          }
        },
        "c5893cc027564b6c9fa151bdeadf7aba": {
          "model_module": "@jupyter-widgets/base",
          "model_name": "LayoutModel",
          "model_module_version": "1.2.0",
          "state": {
            "_model_module": "@jupyter-widgets/base",
            "_model_module_version": "1.2.0",
            "_model_name": "LayoutModel",
            "_view_count": null,
            "_view_module": "@jupyter-widgets/base",
            "_view_module_version": "1.2.0",
            "_view_name": "LayoutView",
            "align_content": null,
            "align_items": null,
            "align_self": null,
            "border": null,
            "bottom": null,
            "display": null,
            "flex": null,
            "flex_flow": null,
            "grid_area": null,
            "grid_auto_columns": null,
            "grid_auto_flow": null,
            "grid_auto_rows": null,
            "grid_column": null,
            "grid_gap": null,
            "grid_row": null,
            "grid_template_areas": null,
            "grid_template_columns": null,
            "grid_template_rows": null,
            "height": null,
            "justify_content": null,
            "justify_items": null,
            "left": null,
            "margin": null,
            "max_height": null,
            "max_width": null,
            "min_height": null,
            "min_width": null,
            "object_fit": null,
            "object_position": null,
            "order": null,
            "overflow": null,
            "overflow_x": null,
            "overflow_y": null,
            "padding": null,
            "right": null,
            "top": null,
            "visibility": null,
            "width": null
          }
        },
        "ef6bc9169d9c47158d245437e4535d85": {
          "model_module": "@jupyter-widgets/controls",
          "model_name": "ProgressStyleModel",
          "model_module_version": "1.5.0",
          "state": {
            "_model_module": "@jupyter-widgets/controls",
            "_model_module_version": "1.5.0",
            "_model_name": "ProgressStyleModel",
            "_view_count": null,
            "_view_module": "@jupyter-widgets/base",
            "_view_module_version": "1.2.0",
            "_view_name": "StyleView",
            "bar_color": null,
            "description_width": ""
          }
        },
        "3ed0025259c84ef58a24cda23f17abfe": {
          "model_module": "@jupyter-widgets/base",
          "model_name": "LayoutModel",
          "model_module_version": "1.2.0",
          "state": {
            "_model_module": "@jupyter-widgets/base",
            "_model_module_version": "1.2.0",
            "_model_name": "LayoutModel",
            "_view_count": null,
            "_view_module": "@jupyter-widgets/base",
            "_view_module_version": "1.2.0",
            "_view_name": "LayoutView",
            "align_content": null,
            "align_items": null,
            "align_self": null,
            "border": null,
            "bottom": null,
            "display": null,
            "flex": null,
            "flex_flow": null,
            "grid_area": null,
            "grid_auto_columns": null,
            "grid_auto_flow": null,
            "grid_auto_rows": null,
            "grid_column": null,
            "grid_gap": null,
            "grid_row": null,
            "grid_template_areas": null,
            "grid_template_columns": null,
            "grid_template_rows": null,
            "height": null,
            "justify_content": null,
            "justify_items": null,
            "left": null,
            "margin": null,
            "max_height": null,
            "max_width": null,
            "min_height": null,
            "min_width": null,
            "object_fit": null,
            "object_position": null,
            "order": null,
            "overflow": null,
            "overflow_x": null,
            "overflow_y": null,
            "padding": null,
            "right": null,
            "top": null,
            "visibility": null,
            "width": null
          }
        },
        "7469786cb4f1449b888e6c888ae9c679": {
          "model_module": "@jupyter-widgets/controls",
          "model_name": "DescriptionStyleModel",
          "model_module_version": "1.5.0",
          "state": {
            "_model_module": "@jupyter-widgets/controls",
            "_model_module_version": "1.5.0",
            "_model_name": "DescriptionStyleModel",
            "_view_count": null,
            "_view_module": "@jupyter-widgets/base",
            "_view_module_version": "1.2.0",
            "_view_name": "StyleView",
            "description_width": ""
          }
        },
        "4310fba015a649208fbcc51d5b01ad46": {
          "model_module": "@jupyter-widgets/controls",
          "model_name": "HBoxModel",
          "model_module_version": "1.5.0",
          "state": {
            "_dom_classes": [],
            "_model_module": "@jupyter-widgets/controls",
            "_model_module_version": "1.5.0",
            "_model_name": "HBoxModel",
            "_view_count": null,
            "_view_module": "@jupyter-widgets/controls",
            "_view_module_version": "1.5.0",
            "_view_name": "HBoxView",
            "box_style": "",
            "children": [
              "IPY_MODEL_fea5129b27274f46ba5efe947270aab4",
              "IPY_MODEL_9b924e363b0e4caa8665bc9cba71482b",
              "IPY_MODEL_12396efacc09414da9dd1bd1faca1d42"
            ],
            "layout": "IPY_MODEL_4e91c6980f5c4885b2d7f221bb0ed0d6"
          }
        },
        "fea5129b27274f46ba5efe947270aab4": {
          "model_module": "@jupyter-widgets/controls",
          "model_name": "HTMLModel",
          "model_module_version": "1.5.0",
          "state": {
            "_dom_classes": [],
            "_model_module": "@jupyter-widgets/controls",
            "_model_module_version": "1.5.0",
            "_model_name": "HTMLModel",
            "_view_count": null,
            "_view_module": "@jupyter-widgets/controls",
            "_view_module_version": "1.5.0",
            "_view_name": "HTMLView",
            "description": "",
            "description_tooltip": null,
            "layout": "IPY_MODEL_22430ca08ba243e6ab69ff32134c9e4a",
            "placeholder": "​",
            "style": "IPY_MODEL_a1f15e4c3ec54315be8184be93241ee1",
            "value": "Shuffling /root/tensorflow_datasets/imdb_reviews/plain_text/incomplete.JU1N7P_1.0.0/imdb_reviews-unsupervised.tfrecord*...:   0%"
          }
        },
        "9b924e363b0e4caa8665bc9cba71482b": {
          "model_module": "@jupyter-widgets/controls",
          "model_name": "FloatProgressModel",
          "model_module_version": "1.5.0",
          "state": {
            "_dom_classes": [],
            "_model_module": "@jupyter-widgets/controls",
            "_model_module_version": "1.5.0",
            "_model_name": "FloatProgressModel",
            "_view_count": null,
            "_view_module": "@jupyter-widgets/controls",
            "_view_module_version": "1.5.0",
            "_view_name": "ProgressView",
            "bar_style": "",
            "description": "",
            "description_tooltip": null,
            "layout": "IPY_MODEL_c93e4e36c7694479b75fe9267947044c",
            "max": 50000,
            "min": 0,
            "orientation": "horizontal",
            "style": "IPY_MODEL_aaa9c3530c1645ff82e4989fdfa48c57",
            "value": 50000
          }
        },
        "12396efacc09414da9dd1bd1faca1d42": {
          "model_module": "@jupyter-widgets/controls",
          "model_name": "HTMLModel",
          "model_module_version": "1.5.0",
          "state": {
            "_dom_classes": [],
            "_model_module": "@jupyter-widgets/controls",
            "_model_module_version": "1.5.0",
            "_model_name": "HTMLModel",
            "_view_count": null,
            "_view_module": "@jupyter-widgets/controls",
            "_view_module_version": "1.5.0",
            "_view_name": "HTMLView",
            "description": "",
            "description_tooltip": null,
            "layout": "IPY_MODEL_b64caa257ddb4057b2eea59d1eb3cbeb",
            "placeholder": "​",
            "style": "IPY_MODEL_9d84fd784c1a4877823366aa31f3835a",
            "value": " 0/50000 [00:00&lt;?, ? examples/s]"
          }
        },
        "4e91c6980f5c4885b2d7f221bb0ed0d6": {
          "model_module": "@jupyter-widgets/base",
          "model_name": "LayoutModel",
          "model_module_version": "1.2.0",
          "state": {
            "_model_module": "@jupyter-widgets/base",
            "_model_module_version": "1.2.0",
            "_model_name": "LayoutModel",
            "_view_count": null,
            "_view_module": "@jupyter-widgets/base",
            "_view_module_version": "1.2.0",
            "_view_name": "LayoutView",
            "align_content": null,
            "align_items": null,
            "align_self": null,
            "border": null,
            "bottom": null,
            "display": null,
            "flex": null,
            "flex_flow": null,
            "grid_area": null,
            "grid_auto_columns": null,
            "grid_auto_flow": null,
            "grid_auto_rows": null,
            "grid_column": null,
            "grid_gap": null,
            "grid_row": null,
            "grid_template_areas": null,
            "grid_template_columns": null,
            "grid_template_rows": null,
            "height": null,
            "justify_content": null,
            "justify_items": null,
            "left": null,
            "margin": null,
            "max_height": null,
            "max_width": null,
            "min_height": null,
            "min_width": null,
            "object_fit": null,
            "object_position": null,
            "order": null,
            "overflow": null,
            "overflow_x": null,
            "overflow_y": null,
            "padding": null,
            "right": null,
            "top": null,
            "visibility": "hidden",
            "width": null
          }
        },
        "22430ca08ba243e6ab69ff32134c9e4a": {
          "model_module": "@jupyter-widgets/base",
          "model_name": "LayoutModel",
          "model_module_version": "1.2.0",
          "state": {
            "_model_module": "@jupyter-widgets/base",
            "_model_module_version": "1.2.0",
            "_model_name": "LayoutModel",
            "_view_count": null,
            "_view_module": "@jupyter-widgets/base",
            "_view_module_version": "1.2.0",
            "_view_name": "LayoutView",
            "align_content": null,
            "align_items": null,
            "align_self": null,
            "border": null,
            "bottom": null,
            "display": null,
            "flex": null,
            "flex_flow": null,
            "grid_area": null,
            "grid_auto_columns": null,
            "grid_auto_flow": null,
            "grid_auto_rows": null,
            "grid_column": null,
            "grid_gap": null,
            "grid_row": null,
            "grid_template_areas": null,
            "grid_template_columns": null,
            "grid_template_rows": null,
            "height": null,
            "justify_content": null,
            "justify_items": null,
            "left": null,
            "margin": null,
            "max_height": null,
            "max_width": null,
            "min_height": null,
            "min_width": null,
            "object_fit": null,
            "object_position": null,
            "order": null,
            "overflow": null,
            "overflow_x": null,
            "overflow_y": null,
            "padding": null,
            "right": null,
            "top": null,
            "visibility": null,
            "width": null
          }
        },
        "a1f15e4c3ec54315be8184be93241ee1": {
          "model_module": "@jupyter-widgets/controls",
          "model_name": "DescriptionStyleModel",
          "model_module_version": "1.5.0",
          "state": {
            "_model_module": "@jupyter-widgets/controls",
            "_model_module_version": "1.5.0",
            "_model_name": "DescriptionStyleModel",
            "_view_count": null,
            "_view_module": "@jupyter-widgets/base",
            "_view_module_version": "1.2.0",
            "_view_name": "StyleView",
            "description_width": ""
          }
        },
        "c93e4e36c7694479b75fe9267947044c": {
          "model_module": "@jupyter-widgets/base",
          "model_name": "LayoutModel",
          "model_module_version": "1.2.0",
          "state": {
            "_model_module": "@jupyter-widgets/base",
            "_model_module_version": "1.2.0",
            "_model_name": "LayoutModel",
            "_view_count": null,
            "_view_module": "@jupyter-widgets/base",
            "_view_module_version": "1.2.0",
            "_view_name": "LayoutView",
            "align_content": null,
            "align_items": null,
            "align_self": null,
            "border": null,
            "bottom": null,
            "display": null,
            "flex": null,
            "flex_flow": null,
            "grid_area": null,
            "grid_auto_columns": null,
            "grid_auto_flow": null,
            "grid_auto_rows": null,
            "grid_column": null,
            "grid_gap": null,
            "grid_row": null,
            "grid_template_areas": null,
            "grid_template_columns": null,
            "grid_template_rows": null,
            "height": null,
            "justify_content": null,
            "justify_items": null,
            "left": null,
            "margin": null,
            "max_height": null,
            "max_width": null,
            "min_height": null,
            "min_width": null,
            "object_fit": null,
            "object_position": null,
            "order": null,
            "overflow": null,
            "overflow_x": null,
            "overflow_y": null,
            "padding": null,
            "right": null,
            "top": null,
            "visibility": null,
            "width": null
          }
        },
        "aaa9c3530c1645ff82e4989fdfa48c57": {
          "model_module": "@jupyter-widgets/controls",
          "model_name": "ProgressStyleModel",
          "model_module_version": "1.5.0",
          "state": {
            "_model_module": "@jupyter-widgets/controls",
            "_model_module_version": "1.5.0",
            "_model_name": "ProgressStyleModel",
            "_view_count": null,
            "_view_module": "@jupyter-widgets/base",
            "_view_module_version": "1.2.0",
            "_view_name": "StyleView",
            "bar_color": null,
            "description_width": ""
          }
        },
        "b64caa257ddb4057b2eea59d1eb3cbeb": {
          "model_module": "@jupyter-widgets/base",
          "model_name": "LayoutModel",
          "model_module_version": "1.2.0",
          "state": {
            "_model_module": "@jupyter-widgets/base",
            "_model_module_version": "1.2.0",
            "_model_name": "LayoutModel",
            "_view_count": null,
            "_view_module": "@jupyter-widgets/base",
            "_view_module_version": "1.2.0",
            "_view_name": "LayoutView",
            "align_content": null,
            "align_items": null,
            "align_self": null,
            "border": null,
            "bottom": null,
            "display": null,
            "flex": null,
            "flex_flow": null,
            "grid_area": null,
            "grid_auto_columns": null,
            "grid_auto_flow": null,
            "grid_auto_rows": null,
            "grid_column": null,
            "grid_gap": null,
            "grid_row": null,
            "grid_template_areas": null,
            "grid_template_columns": null,
            "grid_template_rows": null,
            "height": null,
            "justify_content": null,
            "justify_items": null,
            "left": null,
            "margin": null,
            "max_height": null,
            "max_width": null,
            "min_height": null,
            "min_width": null,
            "object_fit": null,
            "object_position": null,
            "order": null,
            "overflow": null,
            "overflow_x": null,
            "overflow_y": null,
            "padding": null,
            "right": null,
            "top": null,
            "visibility": null,
            "width": null
          }
        },
        "9d84fd784c1a4877823366aa31f3835a": {
          "model_module": "@jupyter-widgets/controls",
          "model_name": "DescriptionStyleModel",
          "model_module_version": "1.5.0",
          "state": {
            "_model_module": "@jupyter-widgets/controls",
            "_model_module_version": "1.5.0",
            "_model_name": "DescriptionStyleModel",
            "_view_count": null,
            "_view_module": "@jupyter-widgets/base",
            "_view_module_version": "1.2.0",
            "_view_name": "StyleView",
            "description_width": ""
          }
        }
      }
    }
  },
  "cells": [
    {
      "cell_type": "markdown",
      "metadata": {
        "id": "view-in-github",
        "colab_type": "text"
      },
      "source": [
        "<a href=\"https://colab.research.google.com/github/ashaduzzaman-sarker/Text-classification-Sentiment-Analysis/blob/main/Sentiment_Analysis_with_Simple_RNN%2C_LSTM%2C_GRU_and_Transfer_learning.ipynb\" target=\"_parent\"><img src=\"https://colab.research.google.com/assets/colab-badge.svg\" alt=\"Open In Colab\"/></a>"
      ]
    },
    {
      "cell_type": "markdown",
      "source": [
        "# Sentiment Analysis with Simple RNN, LSTM, GRU Conv1D & Transfer learning (Pretrained Word2Vec[Gensim])"
      ],
      "metadata": {
        "id": "4Iuq8s3kBvBq"
      }
    },
    {
      "cell_type": "markdown",
      "source": [
        "## Imports"
      ],
      "metadata": {
        "id": "v8ds_f7tCs9X"
      }
    },
    {
      "cell_type": "code",
      "execution_count": 2,
      "metadata": {
        "id": "5fbB0AJ5AYzp"
      },
      "outputs": [],
      "source": [
        "!pip install -q --upgrade keras tensorflow"
      ]
    },
    {
      "cell_type": "code",
      "source": [
        "import tensorflow as tf\n",
        "import numpy as np\n",
        "import matplotlib.pyplot as plt\n",
        "import sklearn\n",
        "import cv2\n",
        "from sklearn.metrics import confusion_matrix, roc_curve\n",
        "import seaborn as sns\n",
        "import datetime\n",
        "import pathlib\n",
        "import io\n",
        "import os\n",
        "import re\n",
        "import string\n",
        "import time\n",
        "from numpy import random\n",
        "import gensim.downloader as api\n",
        "from PIL import Image\n",
        "import tensorflow_datasets as tfds\n",
        "import tensorflow_probability as tfp\n",
        "\n",
        "from tensorflow.keras.models import Model\n",
        "from tensorflow.keras.layers import Layer\n",
        "from tensorflow.keras.layers import (Dense, Flatten, SimpleRNN, Conv1D, InputLayer, Bidirectional, GRU, LSTM, BatchNormalization, Dropout, Input, Embedding, TextVectorization)\n",
        "from tensorflow.keras.losses import BinaryCrossentropy, CategoricalCrossentropy, SparseCategoricalCrossentropy\n",
        "from tensorflow.keras.metrics import Accuracy, TopKCategoricalAccuracy, CategoricalAccuracy, SparseCategoricalAccuracy\n",
        "from tensorflow.keras.optimizers import Adam\n",
        "\n",
        "from google.colab import files\n",
        "from google.colab import drive\n",
        "from tensorboard.plugins import projector"
      ],
      "metadata": {
        "id": "0KhYTEHJC0S3"
      },
      "execution_count": 3,
      "outputs": []
    },
    {
      "cell_type": "markdown",
      "source": [
        "## Define Hyperparameters"
      ],
      "metadata": {
        "id": "muXAp2rEFekw"
      }
    },
    {
      "cell_type": "code",
      "source": [
        "BATCH_SIZE = 64"
      ],
      "metadata": {
        "id": "lOKIVx4IFdOJ"
      },
      "execution_count": 4,
      "outputs": []
    },
    {
      "cell_type": "markdown",
      "source": [
        "## Download IMDB Dataset"
      ],
      "metadata": {
        "id": "qVhza24QF446"
      }
    },
    {
      "cell_type": "code",
      "source": [
        "## Load IMDB Dataset from TF Hub\n",
        "train_ds, val_ds, test_ds = tfds.load(\n",
        "    name=\"imdb_reviews\",\n",
        "    split=('train[:80%]', 'train[80%:90%]', 'train[90%:]'),\n",
        "    as_supervised=True\n",
        ")"
      ],
      "metadata": {
        "colab": {
          "base_uri": "https://localhost:8080/",
          "height": 137,
          "referenced_widgets": [
            "052270fac6c8478f8e3c2ab85ab926d5",
            "19548118fb9e4a3d885e0e1f4b82a485",
            "e766f2ad17e14acf8dc749022577fe5f",
            "c3c145dbd06b4c42815fbf00b09ee4d0",
            "850dde913a174859a1b62932866334ea",
            "7b4eb2126afa440cb415e2c6181661a1",
            "017fe3a1a868481baf35f570c4086fe5",
            "19cfb981bc584f22931a0fe99fb8508a",
            "605cb231df9140718d34438cfc314569",
            "95c1e1e546d94454b76c3b9aa7f01bd9",
            "8164aa861b524688b64cef0f9cd52b16",
            "4b589d66ebe54c23b3a59e395a4185c3",
            "fd5a1f12a97e4185807474391442dddf",
            "b95566c5c39a40b1b391d8ac875a5d4e",
            "d1a80620f998464992eba6b412a7a494",
            "488f4c4f2abd42f886d08bd7b743fd63",
            "5f31a59a2d934a39aba9a21ca99b6921",
            "d78a9a9cb313488ebf69069a0ab5ff72",
            "a373ed701b144afdba92ca42da5255d6",
            "22e8bd7979c543289901482c054f4be1",
            "762b363fb6624153b52fda2be8adbb04",
            "970c6124644e4cc9b73576a8b12d5ae4",
            "1d43baf6b35345beac4aca88cc30fc74",
            "e415ac28f3f447a3ac370633ecc159c1",
            "df6661c1e1c143b8a851a21b52c1778a",
            "718966aba6fb464782ca0738ed72fe5d",
            "fdcf8763f58240639683a7a7083d3601",
            "05e409117ed64c719a50667a842e1be7",
            "7c027d7abc8e4a2cb8f3ac9d844607ae",
            "fd3193c2930c4b949bebc86c994c9d7a",
            "5b0b008fbb164b198fc76c9c6cbcf8d2",
            "ac382fce9ab544379db0fdb545ec21a5",
            "2ee39ae77c1c46d0a69524c714f99f3f",
            "51034204b2814c2ab523df992e7f2bd7",
            "7652ad02bca6480cad2d89ceb415c071",
            "10bdb50303df44acbc7c4f2ffc34b36c",
            "53fd7d5a2bd641c6bc5a97923ac0e60a",
            "f4f14e15135c4b95abd324812f577cc3",
            "b4c1a5805d154184b1486ba83cde344d",
            "1576f368efa84c39b98c9e674554cd61",
            "9ebd641a0e104667afea1afb02c99675",
            "b33c92128d684c6188b0ba25abfe0f94",
            "445f9f1512f44900ace03d971267deb9",
            "7912e06cb362444aa5f071654f0b360a",
            "e5d794f195c34ed5b54278d1692d4882",
            "61d3165b328f4ff0922b57cc28d78a4a",
            "b5019cd6f9f041e09ae5f4a529adace9",
            "e7245b903ec74ede88b9af6bf88a44e6",
            "211efee245fc496d994068a3628959cb",
            "027b4634ee814bd6856892a82f6c80c6",
            "1c319c3d69a14209bb6b5a9a8294619b",
            "98967179d894409695f8083b24b4bdc3",
            "f17f484ded6946bf9cad94d1a609a0af",
            "5012edd55e0d4355b6438274ec039dab",
            "2f7fabdb02b0490b86de722aabce52a4",
            "49a635aa869847819bca4f6f47839cf8",
            "37f7e08e6a164d108356c2857ab25a0a",
            "12bc52a27a2f4f1ea3bf158b25f9bc72",
            "cd1f17245ea5414dae21749b9e5acf8b",
            "f48dfb9db60e491ca331903bb26136db",
            "176e5c1c2e4b40d6998152a077f161c2",
            "cdbfc0b3f24649ce9f176d2b8a6d425f",
            "fd401bed20944db79063f984b7b93342",
            "6bbb54e8c3874450b94030ca0e446c59",
            "66591cd34b9543d8adec6a34021e1593",
            "37d597dd92d94a9b983f10cbd8bc0ab6",
            "76b1bd6e5eb54a5a9f878b1468054e8f",
            "75b98c09a0b045658caa749f85ea82b8",
            "e18028cb869f4a3e9c59145134ae8672",
            "c669aa3b3f604df0825f7488d24bc3ba",
            "1e00f8b2d0c44b8186938a4989070712",
            "fda6493acd4c43c7982b907050842ae8",
            "1385351cf8ea4309934c1874f0f13c9b",
            "29f3ccc137654f99b7ae5f0ba0f5742e",
            "a0ec8f6ae9c64f68b210dcf694cc078d",
            "f6c8e859af0c41538e20c01a14313170",
            "c4d8a08a96ab4b0b98f34f3e8926ff7e",
            "6cfb27fbd7544c2e8ea2573f614ded39",
            "be78bc59291e46d0aad3e3ef384a5a8a",
            "2146631603dd42a59e429f113a693ef7",
            "6e2ebad37d524800b8a0ca6b7b9c7486",
            "02ecd30714ca4a4ab03dfc90998100b3",
            "799bc90835404ea397963d3e8b33ccfb",
            "a27b861bfdb74863a038d5a1c2eb7662",
            "c5893cc027564b6c9fa151bdeadf7aba",
            "ef6bc9169d9c47158d245437e4535d85",
            "3ed0025259c84ef58a24cda23f17abfe",
            "7469786cb4f1449b888e6c888ae9c679",
            "4310fba015a649208fbcc51d5b01ad46",
            "fea5129b27274f46ba5efe947270aab4",
            "9b924e363b0e4caa8665bc9cba71482b",
            "12396efacc09414da9dd1bd1faca1d42",
            "4e91c6980f5c4885b2d7f221bb0ed0d6",
            "22430ca08ba243e6ab69ff32134c9e4a",
            "a1f15e4c3ec54315be8184be93241ee1",
            "c93e4e36c7694479b75fe9267947044c",
            "aaa9c3530c1645ff82e4989fdfa48c57",
            "b64caa257ddb4057b2eea59d1eb3cbeb",
            "9d84fd784c1a4877823366aa31f3835a"
          ]
        },
        "id": "q760fNfLF4G6",
        "outputId": "064d6e12-aea8-4a8e-fdd2-881169d9aa26"
      },
      "execution_count": 5,
      "outputs": [
        {
          "output_type": "stream",
          "name": "stdout",
          "text": [
            "Downloading and preparing dataset 80.23 MiB (download: 80.23 MiB, generated: Unknown size, total: 80.23 MiB) to /root/tensorflow_datasets/imdb_reviews/plain_text/1.0.0...\n"
          ]
        },
        {
          "output_type": "display_data",
          "data": {
            "text/plain": [
              "Dl Completed...: 0 url [00:00, ? url/s]"
            ],
            "application/vnd.jupyter.widget-view+json": {
              "version_major": 2,
              "version_minor": 0,
              "model_id": "052270fac6c8478f8e3c2ab85ab926d5"
            }
          },
          "metadata": {}
        },
        {
          "output_type": "display_data",
          "data": {
            "text/plain": [
              "Dl Size...: 0 MiB [00:00, ? MiB/s]"
            ],
            "application/vnd.jupyter.widget-view+json": {
              "version_major": 2,
              "version_minor": 0,
              "model_id": "4b589d66ebe54c23b3a59e395a4185c3"
            }
          },
          "metadata": {}
        },
        {
          "output_type": "display_data",
          "data": {
            "text/plain": [
              "Generating splits...:   0%|          | 0/3 [00:00<?, ? splits/s]"
            ],
            "application/vnd.jupyter.widget-view+json": {
              "version_major": 2,
              "version_minor": 0,
              "model_id": "1d43baf6b35345beac4aca88cc30fc74"
            }
          },
          "metadata": {}
        },
        {
          "output_type": "display_data",
          "data": {
            "text/plain": [
              "Generating train examples...:   0%|          | 0/25000 [00:00<?, ? examples/s]"
            ],
            "application/vnd.jupyter.widget-view+json": {
              "version_major": 2,
              "version_minor": 0,
              "model_id": "51034204b2814c2ab523df992e7f2bd7"
            }
          },
          "metadata": {}
        },
        {
          "output_type": "display_data",
          "data": {
            "text/plain": [
              "Shuffling /root/tensorflow_datasets/imdb_reviews/plain_text/incomplete.JU1N7P_1.0.0/imdb_reviews-train.tfrecor…"
            ],
            "application/vnd.jupyter.widget-view+json": {
              "version_major": 2,
              "version_minor": 0,
              "model_id": "e5d794f195c34ed5b54278d1692d4882"
            }
          },
          "metadata": {}
        },
        {
          "output_type": "display_data",
          "data": {
            "text/plain": [
              "Generating test examples...:   0%|          | 0/25000 [00:00<?, ? examples/s]"
            ],
            "application/vnd.jupyter.widget-view+json": {
              "version_major": 2,
              "version_minor": 0,
              "model_id": "49a635aa869847819bca4f6f47839cf8"
            }
          },
          "metadata": {}
        },
        {
          "output_type": "display_data",
          "data": {
            "text/plain": [
              "Shuffling /root/tensorflow_datasets/imdb_reviews/plain_text/incomplete.JU1N7P_1.0.0/imdb_reviews-test.tfrecord…"
            ],
            "application/vnd.jupyter.widget-view+json": {
              "version_major": 2,
              "version_minor": 0,
              "model_id": "76b1bd6e5eb54a5a9f878b1468054e8f"
            }
          },
          "metadata": {}
        },
        {
          "output_type": "display_data",
          "data": {
            "text/plain": [
              "Generating unsupervised examples...:   0%|          | 0/50000 [00:00<?, ? examples/s]"
            ],
            "application/vnd.jupyter.widget-view+json": {
              "version_major": 2,
              "version_minor": 0,
              "model_id": "6cfb27fbd7544c2e8ea2573f614ded39"
            }
          },
          "metadata": {}
        },
        {
          "output_type": "display_data",
          "data": {
            "text/plain": [
              "Shuffling /root/tensorflow_datasets/imdb_reviews/plain_text/incomplete.JU1N7P_1.0.0/imdb_reviews-unsupervised.…"
            ],
            "application/vnd.jupyter.widget-view+json": {
              "version_major": 2,
              "version_minor": 0,
              "model_id": "4310fba015a649208fbcc51d5b01ad46"
            }
          },
          "metadata": {}
        },
        {
          "output_type": "stream",
          "name": "stdout",
          "text": [
            "Dataset imdb_reviews downloaded and prepared to /root/tensorflow_datasets/imdb_reviews/plain_text/1.0.0. Subsequent calls will reuse this data.\n"
          ]
        }
      ]
    },
    {
      "cell_type": "code",
      "source": [
        "train_ds"
      ],
      "metadata": {
        "colab": {
          "base_uri": "https://localhost:8080/"
        },
        "id": "PHkA7myaGW5t",
        "outputId": "61abb60e-267c-4ee4-8d96-70302de8dbdc"
      },
      "execution_count": 6,
      "outputs": [
        {
          "output_type": "execute_result",
          "data": {
            "text/plain": [
              "<_PrefetchDataset element_spec=(TensorSpec(shape=(), dtype=tf.string, name=None), TensorSpec(shape=(), dtype=tf.int64, name=None))>"
            ]
          },
          "metadata": {},
          "execution_count": 6
        }
      ]
    },
    {
      "cell_type": "code",
      "source": [
        "# Let's print few samples from the dataset\n",
        "for text, label in train_ds.take(5):\n",
        "  print(f'text:', text.numpy())\n",
        "  print(f'label:',  label.numpy())"
      ],
      "metadata": {
        "colab": {
          "base_uri": "https://localhost:8080/"
        },
        "id": "c2T2Nz2tGeq9",
        "outputId": "cec24375-95dc-4f61-e012-01e69c2efb5c"
      },
      "execution_count": 7,
      "outputs": [
        {
          "output_type": "stream",
          "name": "stdout",
          "text": [
            "text: b\"This was an absolutely terrible movie. Don't be lured in by Christopher Walken or Michael Ironside. Both are great actors, but this must simply be their worst role in history. Even their great acting could not redeem this movie's ridiculous storyline. This movie is an early nineties US propaganda piece. The most pathetic scenes were those when the Columbian rebels were making their cases for revolutions. Maria Conchita Alonso appeared phony, and her pseudo-love affair with Walken was nothing but a pathetic emotional plug in a movie that was devoid of any real meaning. I am disappointed that there are movies like this, ruining actor's like Christopher Walken's good name. I could barely sit through it.\"\n",
            "label: 0\n",
            "text: b'I have been known to fall asleep during films, but this is usually due to a combination of things including, really tired, being warm and comfortable on the sette and having just eaten a lot. However on this occasion I fell asleep because the film was rubbish. The plot development was constant. Constantly slow and boring. Things seemed to happen, but with no explanation of what was causing them or why. I admit, I may have missed part of the film, but i watched the majority of it and everything just seemed to happen of its own accord without any real concern for anything else. I cant recommend this film at all.'\n",
            "label: 0\n",
            "text: b'Mann photographs the Alberta Rocky Mountains in a superb fashion, and Jimmy Stewart and Walter Brennan give enjoyable performances as they always seem to do. <br /><br />But come on Hollywood - a Mountie telling the people of Dawson City, Yukon to elect themselves a marshal (yes a marshal!) and to enforce the law themselves, then gunfighters battling it out on the streets for control of the town? <br /><br />Nothing even remotely resembling that happened on the Canadian side of the border during the Klondike gold rush. Mr. Mann and company appear to have mistaken Dawson City for Deadwood, the Canadian North for the American Wild West.<br /><br />Canadian viewers be prepared for a Reefer Madness type of enjoyable howl with this ludicrous plot, or, to shake your head in disgust.'\n",
            "label: 0\n",
            "text: b'This is the kind of film for a snowy Sunday afternoon when the rest of the world can go ahead with its own business as you descend into a big arm-chair and mellow for a couple of hours. Wonderful performances from Cher and Nicolas Cage (as always) gently row the plot along. There are no rapids to cross, no dangerous waters, just a warm and witty paddle through New York life at its best. A family film in every sense and one that deserves the praise it received.'\n",
            "label: 1\n",
            "text: b'As others have mentioned, all the women that go nude in this film are mostly absolutely gorgeous. The plot very ably shows the hypocrisy of the female libido. When men are around they want to be pursued, but when no \"men\" are around, they become the pursuers of a 14 year old boy. And the boy becomes a man really fast (we should all be so lucky at this age!). He then gets up the courage to pursue his true love.'\n",
            "label: 1\n"
          ]
        }
      ]
    },
    {
      "cell_type": "markdown",
      "source": [
        "## Data Preparation"
      ],
      "metadata": {
        "id": "zXHL-rq8HdvE"
      }
    },
    {
      "cell_type": "code",
      "source": [
        "## Standardization [Input: raw reviews | Output: standardized reviews]\n",
        "def standardization(input_data):\n",
        "  lowercase = tf.strings.lower(input_data)\n",
        "  stripped_html = tf.strings.regex_replace(lowercase, '<[^>]+>', '')\n",
        "  output = tf.strings.regex_replace(stripped_html, '[%s]' % re.escape(string.punctuation), '')\n",
        "  return output"
      ],
      "metadata": {
        "id": "pm2n6auUHfY3"
      },
      "execution_count": 8,
      "outputs": []
    },
    {
      "cell_type": "code",
      "source": [
        "standardization(tf.constant('This is the kind of film for a snowy Sunday afternoon when the rest of the world can go ahead with its own business as you descend into a big arm-chair and mellow for a couple of hours. Wonderful performances from Cher and Nicolas Cage (as always) gently row the plot along. There are no rapids to cross, no dangerous waters, just a warm and witty paddle through New York life at its best. A family film in every sense and one that deserves the praise it received.'))"
      ],
      "metadata": {
        "colab": {
          "base_uri": "https://localhost:8080/"
        },
        "id": "nnMutR3mItli",
        "outputId": "5d2cca7c-14f8-45b8-b4c2-a96195c0aeba"
      },
      "execution_count": 9,
      "outputs": [
        {
          "output_type": "execute_result",
          "data": {
            "text/plain": [
              "<tf.Tensor: shape=(), dtype=string, numpy=b'this is the kind of film for a snowy sunday afternoon when the rest of the world can go ahead with its own business as you descend into a big armchair and mellow for a couple of hours wonderful performances from cher and nicolas cage as always gently row the plot along there are no rapids to cross no dangerous waters just a warm and witty paddle through new york life at its best a family film in every sense and one that deserves the praise it received'>"
            ]
          },
          "metadata": {},
          "execution_count": 9
        }
      ]
    },
    {
      "cell_type": "code",
      "source": [
        "## Vectorization\n",
        "VOCAB_SIZE = 10000\n",
        "SEQUENCE_LENGTH = 250\n",
        "EMBEDDING_DIM = 300\n",
        "\n",
        "vectorize_layer = TextVectorization(\n",
        "    standardize=standardization,\n",
        "    max_tokens=VOCAB_SIZE,\n",
        "    output_mode='int',\n",
        "    output_sequence_length=SEQUENCE_LENGTH\n",
        ")\n",
        "\n",
        "training_data = train_ds.map(lambda x, y: x)  # Input: x, y and Output: x\n",
        "vectorize_layer.adapt(training_data)"
      ],
      "metadata": {
        "id": "8mwckzPtJMke"
      },
      "execution_count": 10,
      "outputs": []
    },
    {
      "cell_type": "code",
      "source": [
        "len(vectorize_layer.get_vocabulary())"
      ],
      "metadata": {
        "colab": {
          "base_uri": "https://localhost:8080/"
        },
        "id": "4JRm4X_GKBhH",
        "outputId": "813b5d09-65ed-4a75-f878-04d0ca2fcd39"
      },
      "execution_count": 11,
      "outputs": [
        {
          "output_type": "execute_result",
          "data": {
            "text/plain": [
              "10000"
            ]
          },
          "metadata": {},
          "execution_count": 11
        }
      ]
    },
    {
      "cell_type": "code",
      "source": [
        "vectorize_layer.get_vocabulary()[123]"
      ],
      "metadata": {
        "colab": {
          "base_uri": "https://localhost:8080/",
          "height": 36
        },
        "id": "-f97k1ABMpkt",
        "outputId": "37114edd-3a94-4df1-ac7c-fae0f51950fe"
      },
      "execution_count": 12,
      "outputs": [
        {
          "output_type": "execute_result",
          "data": {
            "text/plain": [
              "'better'"
            ],
            "application/vnd.google.colaboratory.intrinsic+json": {
              "type": "string"
            }
          },
          "metadata": {},
          "execution_count": 12
        }
      ]
    },
    {
      "cell_type": "code",
      "source": [
        "def vectorizer(review, label):\n",
        "  return vectorize_layer(review), label"
      ],
      "metadata": {
        "id": "fA5KKaM4KzrP"
      },
      "execution_count": 13,
      "outputs": []
    },
    {
      "cell_type": "code",
      "source": [
        "train_dataset = train_ds.map(vectorizer)\n",
        "val_dataset = val_ds.map(vectorizer)"
      ],
      "metadata": {
        "id": "hF2bLqaGLC0g"
      },
      "execution_count": 14,
      "outputs": []
    },
    {
      "cell_type": "code",
      "source": [
        "vectorize_layer.get_vocabulary()[123]"
      ],
      "metadata": {
        "colab": {
          "base_uri": "https://localhost:8080/",
          "height": 36
        },
        "id": "9zaRbwgTN-5g",
        "outputId": "c4dc5f60-a3a0-49b4-b1de-5f6ccf2cdd43"
      },
      "execution_count": 15,
      "outputs": [
        {
          "output_type": "execute_result",
          "data": {
            "text/plain": [
              "'better'"
            ],
            "application/vnd.google.colaboratory.intrinsic+json": {
              "type": "string"
            }
          },
          "metadata": {},
          "execution_count": 15
        }
      ]
    },
    {
      "cell_type": "code",
      "source": [
        "for review, label in train_dataset.take(1):\n",
        "  print(review)\n",
        "  print(label)"
      ],
      "metadata": {
        "colab": {
          "base_uri": "https://localhost:8080/"
        },
        "id": "eWOKnMgQOC-e",
        "outputId": "5c4fc506-1e70-47fa-bf58-d65e9fae5f6c"
      },
      "execution_count": 16,
      "outputs": [
        {
          "output_type": "stream",
          "name": "stdout",
          "text": [
            "tf.Tensor(\n",
            "[  10   13   33  410  375   17   89   26 9998    8   32 1338 4103   40\n",
            "  506    1  192   23   84  149   18   10  215  316   26   64  239  212\n",
            "    8  480   55   64   84  114   94   21 5600   10   92  626  736   10\n",
            "   17    7   33  396 9977  167 2453  406    2   87 1192  133   66  142\n",
            "   52    2    1 6960   66  244   64 2902   15    1 2792    1    1 1429\n",
            " 4989    3   39    1 1645   16 4103   13  155   18    4 1192  846 7659\n",
            "    8    4   17   12   13 3832    5   97  145 1215   11  230  673   12\n",
            "   48   23   92   37   10 7505  149   37 1338    1   49  407   11   94\n",
            " 1149  838  139    9    0    0    0    0    0    0    0    0    0    0\n",
            "    0    0    0    0    0    0    0    0    0    0    0    0    0    0\n",
            "    0    0    0    0    0    0    0    0    0    0    0    0    0    0\n",
            "    0    0    0    0    0    0    0    0    0    0    0    0    0    0\n",
            "    0    0    0    0    0    0    0    0    0    0    0    0    0    0\n",
            "    0    0    0    0    0    0    0    0    0    0    0    0    0    0\n",
            "    0    0    0    0    0    0    0    0    0    0    0    0    0    0\n",
            "    0    0    0    0    0    0    0    0    0    0    0    0    0    0\n",
            "    0    0    0    0    0    0    0    0    0    0    0    0    0    0\n",
            "    0    0    0    0    0    0    0    0    0    0    0    0], shape=(250,), dtype=int64)\n",
            "tf.Tensor(0, shape=(), dtype=int64)\n"
          ]
        }
      ]
    },
    {
      "cell_type": "code",
      "source": [
        "train_dataset=train_dataset.batch(BATCH_SIZE).prefetch(buffer_size=tf.data.AUTOTUNE)\n",
        "val_dataset=val_dataset.batch(BATCH_SIZE).prefetch(buffer_size=tf.data.AUTOTUNE)"
      ],
      "metadata": {
        "id": "xLkfttbWOQuL"
      },
      "execution_count": 17,
      "outputs": []
    },
    {
      "cell_type": "code",
      "source": [
        "train_dataset"
      ],
      "metadata": {
        "colab": {
          "base_uri": "https://localhost:8080/"
        },
        "id": "Er2xMBHdOZLx",
        "outputId": "8f7c41d8-dac4-46a3-926f-71bd8317e673"
      },
      "execution_count": 57,
      "outputs": [
        {
          "output_type": "execute_result",
          "data": {
            "text/plain": [
              "<_PrefetchDataset element_spec=(TensorSpec(shape=(None, None), dtype=tf.int64, name=None), TensorSpec(shape=(None,), dtype=tf.int64, name=None))>"
            ]
          },
          "metadata": {},
          "execution_count": 57
        }
      ]
    },
    {
      "cell_type": "markdown",
      "source": [
        "## Build the Simple RNN Model\n",
        "![](https://www.researchgate.net/publication/349025949/figure/fig5/AS:987328210284547@1612408797977/A-simple-RNN-architecture-unrolling.ppm)"
      ],
      "metadata": {
        "id": "NQw-Fm-7Oo90"
      }
    },
    {
      "cell_type": "code",
      "source": [
        "inputs = np.random.random([32, 10, 8]).astype(np.float32)\n",
        "simple_rnn = tf.keras.layers.SimpleRNN(4)\n",
        "output = simple_rnn(inputs)\n",
        "print(output.shape)"
      ],
      "metadata": {
        "colab": {
          "base_uri": "https://localhost:8080/"
        },
        "id": "-f2f28HxOlxL",
        "outputId": "5d2c0dc2-ec90-4c55-966e-f7d2a477d041"
      },
      "execution_count": null,
      "outputs": [
        {
          "output_type": "stream",
          "name": "stdout",
          "text": [
            "(32, 4)\n"
          ]
        }
      ]
    },
    {
      "cell_type": "code",
      "source": [
        "EMBEDDING_DIM = 64\n",
        "VOCAB_SIZE = 10000\n",
        "\n",
        "model = tf.keras.Sequential([\n",
        "    Input(shape=(SEQUENCE_LENGTH,)),\n",
        "    Embedding(VOCAB_SIZE, EMBEDDING_DIM),\n",
        "    SimpleRNN(32),\n",
        "    Dense(1, activation='sigmoid')\n",
        "])\n",
        "\n",
        "model.summary()"
      ],
      "metadata": {
        "colab": {
          "base_uri": "https://localhost:8080/",
          "height": 245
        },
        "id": "Zhrdz08tQUUn",
        "outputId": "dfbce74c-e5cc-469f-df5e-5482f9a78453"
      },
      "execution_count": null,
      "outputs": [
        {
          "output_type": "display_data",
          "data": {
            "text/plain": [
              "\u001b[1mModel: \"sequential_2\"\u001b[0m\n"
            ],
            "text/html": [
              "<pre style=\"white-space:pre;overflow-x:auto;line-height:normal;font-family:Menlo,'DejaVu Sans Mono',consolas,'Courier New',monospace\"><span style=\"font-weight: bold\">Model: \"sequential_2\"</span>\n",
              "</pre>\n"
            ]
          },
          "metadata": {}
        },
        {
          "output_type": "display_data",
          "data": {
            "text/plain": [
              "┏━━━━━━━━━━━━━━━━━━━━━━━━━━━━━━━━━━━━━━┳━━━━━━━━━━━━━━━━━━━━━━━━━━━━━┳━━━━━━━━━━━━━━━━━┓\n",
              "┃\u001b[1m \u001b[0m\u001b[1mLayer (type)                        \u001b[0m\u001b[1m \u001b[0m┃\u001b[1m \u001b[0m\u001b[1mOutput Shape               \u001b[0m\u001b[1m \u001b[0m┃\u001b[1m \u001b[0m\u001b[1m        Param #\u001b[0m\u001b[1m \u001b[0m┃\n",
              "┡━━━━━━━━━━━━━━━━━━━━━━━━━━━━━━━━━━━━━━╇━━━━━━━━━━━━━━━━━━━━━━━━━━━━━╇━━━━━━━━━━━━━━━━━┩\n",
              "│ embedding_2 (\u001b[38;5;33mEmbedding\u001b[0m)              │ (\u001b[38;5;45mNone\u001b[0m, \u001b[38;5;34m250\u001b[0m, \u001b[38;5;34m64\u001b[0m)             │         \u001b[38;5;34m640,000\u001b[0m │\n",
              "├──────────────────────────────────────┼─────────────────────────────┼─────────────────┤\n",
              "│ simple_rnn_5 (\u001b[38;5;33mSimpleRNN\u001b[0m)             │ (\u001b[38;5;45mNone\u001b[0m, \u001b[38;5;34m32\u001b[0m)                  │           \u001b[38;5;34m3,104\u001b[0m │\n",
              "├──────────────────────────────────────┼─────────────────────────────┼─────────────────┤\n",
              "│ dense_2 (\u001b[38;5;33mDense\u001b[0m)                      │ (\u001b[38;5;45mNone\u001b[0m, \u001b[38;5;34m1\u001b[0m)                   │              \u001b[38;5;34m33\u001b[0m │\n",
              "└──────────────────────────────────────┴─────────────────────────────┴─────────────────┘\n"
            ],
            "text/html": [
              "<pre style=\"white-space:pre;overflow-x:auto;line-height:normal;font-family:Menlo,'DejaVu Sans Mono',consolas,'Courier New',monospace\">┏━━━━━━━━━━━━━━━━━━━━━━━━━━━━━━━━━━━━━━┳━━━━━━━━━━━━━━━━━━━━━━━━━━━━━┳━━━━━━━━━━━━━━━━━┓\n",
              "┃<span style=\"font-weight: bold\"> Layer (type)                         </span>┃<span style=\"font-weight: bold\"> Output Shape                </span>┃<span style=\"font-weight: bold\">         Param # </span>┃\n",
              "┡━━━━━━━━━━━━━━━━━━━━━━━━━━━━━━━━━━━━━━╇━━━━━━━━━━━━━━━━━━━━━━━━━━━━━╇━━━━━━━━━━━━━━━━━┩\n",
              "│ embedding_2 (<span style=\"color: #0087ff; text-decoration-color: #0087ff\">Embedding</span>)              │ (<span style=\"color: #00d7ff; text-decoration-color: #00d7ff\">None</span>, <span style=\"color: #00af00; text-decoration-color: #00af00\">250</span>, <span style=\"color: #00af00; text-decoration-color: #00af00\">64</span>)             │         <span style=\"color: #00af00; text-decoration-color: #00af00\">640,000</span> │\n",
              "├──────────────────────────────────────┼─────────────────────────────┼─────────────────┤\n",
              "│ simple_rnn_5 (<span style=\"color: #0087ff; text-decoration-color: #0087ff\">SimpleRNN</span>)             │ (<span style=\"color: #00d7ff; text-decoration-color: #00d7ff\">None</span>, <span style=\"color: #00af00; text-decoration-color: #00af00\">32</span>)                  │           <span style=\"color: #00af00; text-decoration-color: #00af00\">3,104</span> │\n",
              "├──────────────────────────────────────┼─────────────────────────────┼─────────────────┤\n",
              "│ dense_2 (<span style=\"color: #0087ff; text-decoration-color: #0087ff\">Dense</span>)                      │ (<span style=\"color: #00d7ff; text-decoration-color: #00d7ff\">None</span>, <span style=\"color: #00af00; text-decoration-color: #00af00\">1</span>)                   │              <span style=\"color: #00af00; text-decoration-color: #00af00\">33</span> │\n",
              "└──────────────────────────────────────┴─────────────────────────────┴─────────────────┘\n",
              "</pre>\n"
            ]
          },
          "metadata": {}
        },
        {
          "output_type": "display_data",
          "data": {
            "text/plain": [
              "\u001b[1m Total params: \u001b[0m\u001b[38;5;34m643,137\u001b[0m (2.45 MB)\n"
            ],
            "text/html": [
              "<pre style=\"white-space:pre;overflow-x:auto;line-height:normal;font-family:Menlo,'DejaVu Sans Mono',consolas,'Courier New',monospace\"><span style=\"font-weight: bold\"> Total params: </span><span style=\"color: #00af00; text-decoration-color: #00af00\">643,137</span> (2.45 MB)\n",
              "</pre>\n"
            ]
          },
          "metadata": {}
        },
        {
          "output_type": "display_data",
          "data": {
            "text/plain": [
              "\u001b[1m Trainable params: \u001b[0m\u001b[38;5;34m643,137\u001b[0m (2.45 MB)\n"
            ],
            "text/html": [
              "<pre style=\"white-space:pre;overflow-x:auto;line-height:normal;font-family:Menlo,'DejaVu Sans Mono',consolas,'Courier New',monospace\"><span style=\"font-weight: bold\"> Trainable params: </span><span style=\"color: #00af00; text-decoration-color: #00af00\">643,137</span> (2.45 MB)\n",
              "</pre>\n"
            ]
          },
          "metadata": {}
        },
        {
          "output_type": "display_data",
          "data": {
            "text/plain": [
              "\u001b[1m Non-trainable params: \u001b[0m\u001b[38;5;34m0\u001b[0m (0.00 B)\n"
            ],
            "text/html": [
              "<pre style=\"white-space:pre;overflow-x:auto;line-height:normal;font-family:Menlo,'DejaVu Sans Mono',consolas,'Courier New',monospace\"><span style=\"font-weight: bold\"> Non-trainable params: </span><span style=\"color: #00af00; text-decoration-color: #00af00\">0</span> (0.00 B)\n",
              "</pre>\n"
            ]
          },
          "metadata": {}
        }
      ]
    },
    {
      "cell_type": "code",
      "source": [
        "checkpoint_filepath = '/content/drive/MyDrive/simple_rnn_model.keras' # Change the file extension to '.keras'\n",
        "checkpoint_callback = tf.keras.callbacks.ModelCheckpoint(\n",
        "    filepath=checkpoint_filepath,\n",
        "    # save_weights_only=True,\n",
        "    monitor='val_accuracy',\n",
        "    mode='max',\n",
        "    save_best_only=True\n",
        ")"
      ],
      "metadata": {
        "id": "j2IDlXbfSau6"
      },
      "execution_count": null,
      "outputs": []
    },
    {
      "cell_type": "code",
      "source": [
        "model.compile(\n",
        "    loss=tf.keras.losses.BinaryCrossentropy(),\n",
        "    optimizer=tf.keras.optimizers.Adam(1e-5),\n",
        "    metrics=['accuracy']\n",
        ")"
      ],
      "metadata": {
        "id": "Ym6_phTySBAq"
      },
      "execution_count": null,
      "outputs": []
    },
    {
      "cell_type": "code",
      "source": [
        "history = model.fit(\n",
        "    train_dataset,\n",
        "    validation_data=val_dataset,\n",
        "    epochs=20,\n",
        "    callbacks=[checkpoint_callback]\n",
        ")"
      ],
      "metadata": {
        "colab": {
          "base_uri": "https://localhost:8080/"
        },
        "id": "husuzrm6Rr7N",
        "outputId": "0cabf1ce-97a5-45ef-f217-303094febbc9"
      },
      "execution_count": null,
      "outputs": [
        {
          "output_type": "stream",
          "name": "stdout",
          "text": [
            "Epoch 1/20\n",
            "\u001b[1m313/313\u001b[0m \u001b[32m━━━━━━━━━━━━━━━━━━━━\u001b[0m\u001b[37m\u001b[0m \u001b[1m34s\u001b[0m 109ms/step - accuracy: 0.4925 - loss: 0.6933 - val_accuracy: 0.4900 - val_loss: 0.6933\n",
            "Epoch 2/20\n",
            "\u001b[1m313/313\u001b[0m \u001b[32m━━━━━━━━━━━━━━━━━━━━\u001b[0m\u001b[37m\u001b[0m \u001b[1m41s\u001b[0m 110ms/step - accuracy: 0.4920 - loss: 0.6933 - val_accuracy: 0.4900 - val_loss: 0.6933\n",
            "Epoch 3/20\n",
            "\u001b[1m313/313\u001b[0m \u001b[32m━━━━━━━━━━━━━━━━━━━━\u001b[0m\u001b[37m\u001b[0m \u001b[1m30s\u001b[0m 96ms/step - accuracy: 0.4917 - loss: 0.6932 - val_accuracy: 0.4900 - val_loss: 0.6933\n",
            "Epoch 4/20\n",
            "\u001b[1m313/313\u001b[0m \u001b[32m━━━━━━━━━━━━━━━━━━━━\u001b[0m\u001b[37m\u001b[0m \u001b[1m48s\u001b[0m 120ms/step - accuracy: 0.4916 - loss: 0.6932 - val_accuracy: 0.4900 - val_loss: 0.6933\n",
            "Epoch 5/20\n",
            "\u001b[1m313/313\u001b[0m \u001b[32m━━━━━━━━━━━━━━━━━━━━\u001b[0m\u001b[37m\u001b[0m \u001b[1m35s\u001b[0m 99ms/step - accuracy: 0.4906 - loss: 0.6932 - val_accuracy: 0.4900 - val_loss: 0.6933\n",
            "Epoch 6/20\n",
            "\u001b[1m313/313\u001b[0m \u001b[32m━━━━━━━━━━━━━━━━━━━━\u001b[0m\u001b[37m\u001b[0m \u001b[1m44s\u001b[0m 110ms/step - accuracy: 0.4906 - loss: 0.6932 - val_accuracy: 0.4900 - val_loss: 0.6933\n",
            "Epoch 7/20\n",
            "\u001b[1m313/313\u001b[0m \u001b[32m━━━━━━━━━━━━━━━━━━━━\u001b[0m\u001b[37m\u001b[0m \u001b[1m41s\u001b[0m 111ms/step - accuracy: 0.4900 - loss: 0.6932 - val_accuracy: 0.4900 - val_loss: 0.6933\n",
            "Epoch 8/20\n",
            "\u001b[1m313/313\u001b[0m \u001b[32m━━━━━━━━━━━━━━━━━━━━\u001b[0m\u001b[37m\u001b[0m \u001b[1m38s\u001b[0m 101ms/step - accuracy: 0.4900 - loss: 0.6932 - val_accuracy: 0.4900 - val_loss: 0.6933\n",
            "Epoch 9/20\n",
            "\u001b[1m313/313\u001b[0m \u001b[32m━━━━━━━━━━━━━━━━━━━━\u001b[0m\u001b[37m\u001b[0m \u001b[1m46s\u001b[0m 118ms/step - accuracy: 0.4900 - loss: 0.6932 - val_accuracy: 0.4900 - val_loss: 0.6933\n",
            "Epoch 10/20\n",
            "\u001b[1m313/313\u001b[0m \u001b[32m━━━━━━━━━━━━━━━━━━━━\u001b[0m\u001b[37m\u001b[0m \u001b[1m33s\u001b[0m 106ms/step - accuracy: 0.4901 - loss: 0.6932 - val_accuracy: 0.4900 - val_loss: 0.6933\n",
            "Epoch 11/20\n",
            "\u001b[1m313/313\u001b[0m \u001b[32m━━━━━━━━━━━━━━━━━━━━\u001b[0m\u001b[37m\u001b[0m \u001b[1m37s\u001b[0m 117ms/step - accuracy: 0.4901 - loss: 0.6932 - val_accuracy: 0.4900 - val_loss: 0.6933\n",
            "Epoch 12/20\n",
            "\u001b[1m313/313\u001b[0m \u001b[32m━━━━━━━━━━━━━━━━━━━━\u001b[0m\u001b[37m\u001b[0m \u001b[1m33s\u001b[0m 91ms/step - accuracy: 0.4906 - loss: 0.6932 - val_accuracy: 0.4900 - val_loss: 0.6933\n",
            "Epoch 13/20\n",
            "\u001b[1m313/313\u001b[0m \u001b[32m━━━━━━━━━━━━━━━━━━━━\u001b[0m\u001b[37m\u001b[0m \u001b[1m34s\u001b[0m 107ms/step - accuracy: 0.4904 - loss: 0.6932 - val_accuracy: 0.4900 - val_loss: 0.6933\n",
            "Epoch 14/20\n",
            "\u001b[1m313/313\u001b[0m \u001b[32m━━━━━━━━━━━━━━━━━━━━\u001b[0m\u001b[37m\u001b[0m \u001b[1m28s\u001b[0m 90ms/step - accuracy: 0.4902 - loss: 0.6932 - val_accuracy: 0.4900 - val_loss: 0.6933\n",
            "Epoch 15/20\n",
            "\u001b[1m313/313\u001b[0m \u001b[32m━━━━━━━━━━━━━━━━━━━━\u001b[0m\u001b[37m\u001b[0m \u001b[1m29s\u001b[0m 92ms/step - accuracy: 0.4899 - loss: 0.6932 - val_accuracy: 0.4900 - val_loss: 0.6933\n",
            "Epoch 16/20\n",
            "\u001b[1m313/313\u001b[0m \u001b[32m━━━━━━━━━━━━━━━━━━━━\u001b[0m\u001b[37m\u001b[0m \u001b[1m43s\u001b[0m 97ms/step - accuracy: 0.4898 - loss: 0.6932 - val_accuracy: 0.4900 - val_loss: 0.6933\n",
            "Epoch 17/20\n",
            "\u001b[1m313/313\u001b[0m \u001b[32m━━━━━━━━━━━━━━━━━━━━\u001b[0m\u001b[37m\u001b[0m \u001b[1m39s\u001b[0m 91ms/step - accuracy: 0.4898 - loss: 0.6932 - val_accuracy: 0.4900 - val_loss: 0.6933\n",
            "Epoch 18/20\n",
            "\u001b[1m313/313\u001b[0m \u001b[32m━━━━━━━━━━━━━━━━━━━━\u001b[0m\u001b[37m\u001b[0m \u001b[1m41s\u001b[0m 91ms/step - accuracy: 0.4892 - loss: 0.6932 - val_accuracy: 0.4900 - val_loss: 0.6933\n",
            "Epoch 19/20\n",
            "\u001b[1m313/313\u001b[0m \u001b[32m━━━━━━━━━━━━━━━━━━━━\u001b[0m\u001b[37m\u001b[0m \u001b[1m28s\u001b[0m 91ms/step - accuracy: 0.4886 - loss: 0.6932 - val_accuracy: 0.4900 - val_loss: 0.6933\n",
            "Epoch 20/20\n",
            "\u001b[1m313/313\u001b[0m \u001b[32m━━━━━━━━━━━━━━━━━━━━\u001b[0m\u001b[37m\u001b[0m \u001b[1m31s\u001b[0m 98ms/step - accuracy: 0.4883 - loss: 0.6932 - val_accuracy: 0.4900 - val_loss: 0.6933\n"
          ]
        }
      ]
    },
    {
      "cell_type": "code",
      "source": [
        "# Plot model accuracy results\n",
        "plt.plot(history.history['accuracy'])\n",
        "plt.plot(history.history['val_accuracy'])\n",
        "plt.title('Model Accuracy')\n",
        "plt.ylabel('Accuracy')\n",
        "plt.xlabel('Epoch')\n",
        "plt.legend(['Train', 'Validation'], loc='upper left')\n",
        "plt.show()"
      ],
      "metadata": {
        "colab": {
          "base_uri": "https://localhost:8080/",
          "height": 490
        },
        "id": "eq8sGOXPTUrR",
        "outputId": "aa79c6fa-a31c-4f2e-b15f-20ffc70f95bf"
      },
      "execution_count": null,
      "outputs": [
        {
          "output_type": "execute_result",
          "data": {
            "text/plain": [
              "<matplotlib.legend.Legend at 0x7da1adfaf1c0>"
            ]
          },
          "metadata": {},
          "execution_count": 47
        },
        {
          "output_type": "display_data",
          "data": {
            "text/plain": [
              "<Figure size 640x480 with 1 Axes>"
            ],
            "image/png": "[encoded data removed]"
          },
          "metadata": {}
        }
      ]
    },
    {
      "cell_type": "code",
      "source": [
        "# Plot model losses results\n",
        "plt.plot(history.history['loss'])\n",
        "plt.plot(history.history['val_loss'])\n",
        "plt.title('Model Loss')\n",
        "plt.ylabel('Loss')\n",
        "plt.xlabel('Epoch')\n",
        "plt.legend(['Train', 'Validation'], loc='upper left')\n",
        "plt.show()"
      ],
      "metadata": {
        "colab": {
          "base_uri": "https://localhost:8080/",
          "height": 490
        },
        "id": "fjRuhiO8Tjr4",
        "outputId": "1e28e785-8d15-4351-e697-25a7abc39e0b"
      },
      "execution_count": null,
      "outputs": [
        {
          "output_type": "execute_result",
          "data": {
            "text/plain": [
              "<matplotlib.legend.Legend at 0x7da1ac177850>"
            ]
          },
          "metadata": {},
          "execution_count": 48
        },
        {
          "output_type": "display_data",
          "data": {
            "text/plain": [
              "<Figure size 640x480 with 1 Axes>"
            ],
            "image/png": "[encoded data removed]"
          },
          "metadata": {}
        }
      ]
    },
    {
      "cell_type": "code",
      "source": [
        "## Evaluating on test dataset\n",
        "test_dataset = test_ds.map(vectorizer)\n",
        "test_dataset = test_dataset.batch(BATCH_SIZE).prefetch(tf.data.AUTOTUNE)\n",
        "model.evaluate(test_dataset)"
      ],
      "metadata": {
        "colab": {
          "base_uri": "https://localhost:8080/"
        },
        "id": "8b3irMvBT6eI",
        "outputId": "402e9146-f9d2-4da9-c1e3-fef254fa9d96"
      },
      "execution_count": null,
      "outputs": [
        {
          "output_type": "stream",
          "name": "stdout",
          "text": [
            "\u001b[1m40/40\u001b[0m \u001b[32m━━━━━━━━━━━━━━━━━━━━\u001b[0m\u001b[37m\u001b[0m \u001b[1m1s\u001b[0m 29ms/step - accuracy: 0.5154 - loss: 0.6930\n"
          ]
        },
        {
          "output_type": "execute_result",
          "data": {
            "text/plain": [
              "[0.6932028532028198, 0.4975999891757965]"
            ]
          },
          "metadata": {},
          "execution_count": 49
        }
      ]
    },
    {
      "cell_type": "markdown",
      "source": [
        "## Build LSTM (Multilayer and Bidirectional)\n",
        "\n",
        "![](https://miro.medium.com/v2/resize:fit:680/1*sf4vCzcyycSe7GC3dZ2u2w.png)"
      ],
      "metadata": {
        "id": "wEUmUDwXUMvY"
      }
    },
    {
      "cell_type": "code",
      "source": [
        "EMBEDDING_DIM = 64\n",
        "VOCAB_SIZE = 10000\n",
        "\n",
        "model = tf.keras.Sequential([\n",
        "    Input(shape=(SEQUENCE_LENGTH,)),\n",
        "    Embedding(VOCAB_SIZE, EMBEDDING_DIM),\n",
        "\n",
        "    Bidirectional(LSTM(64, return_sequences=True)),\n",
        "    Bidirectional(LSTM(32)),\n",
        "\n",
        "    Dense(64, activation='relu'),\n",
        "    Dropout(0.5),\n",
        "    Dense(1, activation='sigmoid')\n",
        "])\n",
        "\n",
        "model.summary()"
      ],
      "metadata": {
        "colab": {
          "base_uri": "https://localhost:8080/",
          "height": 343
        },
        "id": "3xoc3IZcUTPY",
        "outputId": "fda863db-2e62-4b6e-c0a7-3228596aed6c"
      },
      "execution_count": null,
      "outputs": [
        {
          "output_type": "display_data",
          "data": {
            "text/plain": [
              "\u001b[1mModel: \"sequential_3\"\u001b[0m\n"
            ],
            "text/html": [
              "<pre style=\"white-space:pre;overflow-x:auto;line-height:normal;font-family:Menlo,'DejaVu Sans Mono',consolas,'Courier New',monospace\"><span style=\"font-weight: bold\">Model: \"sequential_3\"</span>\n",
              "</pre>\n"
            ]
          },
          "metadata": {}
        },
        {
          "output_type": "display_data",
          "data": {
            "text/plain": [
              "┏━━━━━━━━━━━━━━━━━━━━━━━━━━━━━━━━━━━━━━┳━━━━━━━━━━━━━━━━━━━━━━━━━━━━━┳━━━━━━━━━━━━━━━━━┓\n",
              "┃\u001b[1m \u001b[0m\u001b[1mLayer (type)                        \u001b[0m\u001b[1m \u001b[0m┃\u001b[1m \u001b[0m\u001b[1mOutput Shape               \u001b[0m\u001b[1m \u001b[0m┃\u001b[1m \u001b[0m\u001b[1m        Param #\u001b[0m\u001b[1m \u001b[0m┃\n",
              "┡━━━━━━━━━━━━━━━━━━━━━━━━━━━━━━━━━━━━━━╇━━━━━━━━━━━━━━━━━━━━━━━━━━━━━╇━━━━━━━━━━━━━━━━━┩\n",
              "│ embedding_3 (\u001b[38;5;33mEmbedding\u001b[0m)              │ (\u001b[38;5;45mNone\u001b[0m, \u001b[38;5;34m250\u001b[0m, \u001b[38;5;34m64\u001b[0m)             │         \u001b[38;5;34m640,000\u001b[0m │\n",
              "├──────────────────────────────────────┼─────────────────────────────┼─────────────────┤\n",
              "│ bidirectional (\u001b[38;5;33mBidirectional\u001b[0m)        │ (\u001b[38;5;45mNone\u001b[0m, \u001b[38;5;34m250\u001b[0m, \u001b[38;5;34m128\u001b[0m)            │          \u001b[38;5;34m66,048\u001b[0m │\n",
              "├──────────────────────────────────────┼─────────────────────────────┼─────────────────┤\n",
              "│ bidirectional_1 (\u001b[38;5;33mBidirectional\u001b[0m)      │ (\u001b[38;5;45mNone\u001b[0m, \u001b[38;5;34m64\u001b[0m)                  │          \u001b[38;5;34m41,216\u001b[0m │\n",
              "├──────────────────────────────────────┼─────────────────────────────┼─────────────────┤\n",
              "│ dense_3 (\u001b[38;5;33mDense\u001b[0m)                      │ (\u001b[38;5;45mNone\u001b[0m, \u001b[38;5;34m64\u001b[0m)                  │           \u001b[38;5;34m4,160\u001b[0m │\n",
              "├──────────────────────────────────────┼─────────────────────────────┼─────────────────┤\n",
              "│ dropout (\u001b[38;5;33mDropout\u001b[0m)                    │ (\u001b[38;5;45mNone\u001b[0m, \u001b[38;5;34m64\u001b[0m)                  │               \u001b[38;5;34m0\u001b[0m │\n",
              "├──────────────────────────────────────┼─────────────────────────────┼─────────────────┤\n",
              "│ dense_4 (\u001b[38;5;33mDense\u001b[0m)                      │ (\u001b[38;5;45mNone\u001b[0m, \u001b[38;5;34m1\u001b[0m)                   │              \u001b[38;5;34m65\u001b[0m │\n",
              "└──────────────────────────────────────┴─────────────────────────────┴─────────────────┘\n"
            ],
            "text/html": [
              "<pre style=\"white-space:pre;overflow-x:auto;line-height:normal;font-family:Menlo,'DejaVu Sans Mono',consolas,'Courier New',monospace\">┏━━━━━━━━━━━━━━━━━━━━━━━━━━━━━━━━━━━━━━┳━━━━━━━━━━━━━━━━━━━━━━━━━━━━━┳━━━━━━━━━━━━━━━━━┓\n",
              "┃<span style=\"font-weight: bold\"> Layer (type)                         </span>┃<span style=\"font-weight: bold\"> Output Shape                </span>┃<span style=\"font-weight: bold\">         Param # </span>┃\n",
              "┡━━━━━━━━━━━━━━━━━━━━━━━━━━━━━━━━━━━━━━╇━━━━━━━━━━━━━━━━━━━━━━━━━━━━━╇━━━━━━━━━━━━━━━━━┩\n",
              "│ embedding_3 (<span style=\"color: #0087ff; text-decoration-color: #0087ff\">Embedding</span>)              │ (<span style=\"color: #00d7ff; text-decoration-color: #00d7ff\">None</span>, <span style=\"color: #00af00; text-decoration-color: #00af00\">250</span>, <span style=\"color: #00af00; text-decoration-color: #00af00\">64</span>)             │         <span style=\"color: #00af00; text-decoration-color: #00af00\">640,000</span> │\n",
              "├──────────────────────────────────────┼─────────────────────────────┼─────────────────┤\n",
              "│ bidirectional (<span style=\"color: #0087ff; text-decoration-color: #0087ff\">Bidirectional</span>)        │ (<span style=\"color: #00d7ff; text-decoration-color: #00d7ff\">None</span>, <span style=\"color: #00af00; text-decoration-color: #00af00\">250</span>, <span style=\"color: #00af00; text-decoration-color: #00af00\">128</span>)            │          <span style=\"color: #00af00; text-decoration-color: #00af00\">66,048</span> │\n",
              "├──────────────────────────────────────┼─────────────────────────────┼─────────────────┤\n",
              "│ bidirectional_1 (<span style=\"color: #0087ff; text-decoration-color: #0087ff\">Bidirectional</span>)      │ (<span style=\"color: #00d7ff; text-decoration-color: #00d7ff\">None</span>, <span style=\"color: #00af00; text-decoration-color: #00af00\">64</span>)                  │          <span style=\"color: #00af00; text-decoration-color: #00af00\">41,216</span> │\n",
              "├──────────────────────────────────────┼─────────────────────────────┼─────────────────┤\n",
              "│ dense_3 (<span style=\"color: #0087ff; text-decoration-color: #0087ff\">Dense</span>)                      │ (<span style=\"color: #00d7ff; text-decoration-color: #00d7ff\">None</span>, <span style=\"color: #00af00; text-decoration-color: #00af00\">64</span>)                  │           <span style=\"color: #00af00; text-decoration-color: #00af00\">4,160</span> │\n",
              "├──────────────────────────────────────┼─────────────────────────────┼─────────────────┤\n",
              "│ dropout (<span style=\"color: #0087ff; text-decoration-color: #0087ff\">Dropout</span>)                    │ (<span style=\"color: #00d7ff; text-decoration-color: #00d7ff\">None</span>, <span style=\"color: #00af00; text-decoration-color: #00af00\">64</span>)                  │               <span style=\"color: #00af00; text-decoration-color: #00af00\">0</span> │\n",
              "├──────────────────────────────────────┼─────────────────────────────┼─────────────────┤\n",
              "│ dense_4 (<span style=\"color: #0087ff; text-decoration-color: #0087ff\">Dense</span>)                      │ (<span style=\"color: #00d7ff; text-decoration-color: #00d7ff\">None</span>, <span style=\"color: #00af00; text-decoration-color: #00af00\">1</span>)                   │              <span style=\"color: #00af00; text-decoration-color: #00af00\">65</span> │\n",
              "└──────────────────────────────────────┴─────────────────────────────┴─────────────────┘\n",
              "</pre>\n"
            ]
          },
          "metadata": {}
        },
        {
          "output_type": "display_data",
          "data": {
            "text/plain": [
              "\u001b[1m Total params: \u001b[0m\u001b[38;5;34m751,489\u001b[0m (2.87 MB)\n"
            ],
            "text/html": [
              "<pre style=\"white-space:pre;overflow-x:auto;line-height:normal;font-family:Menlo,'DejaVu Sans Mono',consolas,'Courier New',monospace\"><span style=\"font-weight: bold\"> Total params: </span><span style=\"color: #00af00; text-decoration-color: #00af00\">751,489</span> (2.87 MB)\n",
              "</pre>\n"
            ]
          },
          "metadata": {}
        },
        {
          "output_type": "display_data",
          "data": {
            "text/plain": [
              "\u001b[1m Trainable params: \u001b[0m\u001b[38;5;34m751,489\u001b[0m (2.87 MB)\n"
            ],
            "text/html": [
              "<pre style=\"white-space:pre;overflow-x:auto;line-height:normal;font-family:Menlo,'DejaVu Sans Mono',consolas,'Courier New',monospace\"><span style=\"font-weight: bold\"> Trainable params: </span><span style=\"color: #00af00; text-decoration-color: #00af00\">751,489</span> (2.87 MB)\n",
              "</pre>\n"
            ]
          },
          "metadata": {}
        },
        {
          "output_type": "display_data",
          "data": {
            "text/plain": [
              "\u001b[1m Non-trainable params: \u001b[0m\u001b[38;5;34m0\u001b[0m (0.00 B)\n"
            ],
            "text/html": [
              "<pre style=\"white-space:pre;overflow-x:auto;line-height:normal;font-family:Menlo,'DejaVu Sans Mono',consolas,'Courier New',monospace\"><span style=\"font-weight: bold\"> Non-trainable params: </span><span style=\"color: #00af00; text-decoration-color: #00af00\">0</span> (0.00 B)\n",
              "</pre>\n"
            ]
          },
          "metadata": {}
        }
      ]
    },
    {
      "cell_type": "code",
      "source": [
        "checkpoint_filepath = '/content/drive/MyDrive/lstm_model.keras'\n",
        "checkpoint_callback = tf.keras.callbacks.ModelCheckpoint(\n",
        "    filepath=checkpoint_filepath,\n",
        "    # save_weights_only=True,\n",
        "    monitor='val_accuracy',\n",
        "    mode='max',\n",
        "    save_best_only=True\n",
        ")"
      ],
      "metadata": {
        "id": "eFB8PstLUsRI"
      },
      "execution_count": null,
      "outputs": []
    },
    {
      "cell_type": "code",
      "source": [
        "model.compile(\n",
        "    loss=tf.keras.losses.BinaryCrossentropy(),\n",
        "    optimizer=tf.keras.optimizers.Adam(1e-5),\n",
        "    metrics=['accuracy']\n",
        ")"
      ],
      "metadata": {
        "id": "TA6UipDPVBq0"
      },
      "execution_count": null,
      "outputs": []
    },
    {
      "cell_type": "code",
      "source": [
        "history = model.fit(\n",
        "    train_dataset,\n",
        "    validation_data=val_dataset,\n",
        "    epochs=10,\n",
        "    callbacks=[checkpoint_callback]\n",
        ")"
      ],
      "metadata": {
        "colab": {
          "base_uri": "https://localhost:8080/"
        },
        "id": "SGhZDpQ5VGmL",
        "outputId": "da65d94f-d49d-4740-e99e-6afa897758ee"
      },
      "execution_count": null,
      "outputs": [
        {
          "output_type": "stream",
          "name": "stdout",
          "text": [
            "Epoch 1/10\n",
            "\u001b[1m313/313\u001b[0m \u001b[32m━━━━━━━━━━━━━━━━━━━━\u001b[0m\u001b[37m\u001b[0m \u001b[1m248s\u001b[0m 792ms/step - accuracy: 0.4957 - loss: 0.6932 - val_accuracy: 0.4900 - val_loss: 0.6932\n",
            "Epoch 2/10\n",
            "\u001b[1m313/313\u001b[0m \u001b[32m━━━━━━━━━━━━━━━━━━━━\u001b[0m\u001b[37m\u001b[0m \u001b[1m253s\u001b[0m 809ms/step - accuracy: 0.5053 - loss: 0.6930 - val_accuracy: 0.4900 - val_loss: 0.6932\n",
            "Epoch 3/10\n",
            "\u001b[1m313/313\u001b[0m \u001b[32m━━━━━━━━━━━━━━━━━━━━\u001b[0m\u001b[37m\u001b[0m \u001b[1m234s\u001b[0m 748ms/step - accuracy: 0.5002 - loss: 0.6932 - val_accuracy: 0.4900 - val_loss: 0.6933\n",
            "Epoch 4/10\n",
            "\u001b[1m313/313\u001b[0m \u001b[32m━━━━━━━━━━━━━━━━━━━━\u001b[0m\u001b[37m\u001b[0m \u001b[1m281s\u001b[0m 900ms/step - accuracy: 0.4932 - loss: 0.6933 - val_accuracy: 0.4900 - val_loss: 0.6932\n",
            "Epoch 5/10\n",
            "\u001b[1m313/313\u001b[0m \u001b[32m━━━━━━━━━━━━━━━━━━━━\u001b[0m\u001b[37m\u001b[0m \u001b[1m226s\u001b[0m 722ms/step - accuracy: 0.5040 - loss: 0.6931 - val_accuracy: 0.4900 - val_loss: 0.6932\n",
            "Epoch 6/10\n",
            "\u001b[1m313/313\u001b[0m \u001b[32m━━━━━━━━━━━━━━━━━━━━\u001b[0m\u001b[37m\u001b[0m \u001b[1m215s\u001b[0m 687ms/step - accuracy: 0.4951 - loss: 0.6932 - val_accuracy: 0.4900 - val_loss: 0.6932\n",
            "Epoch 7/10\n",
            "\u001b[1m313/313\u001b[0m \u001b[32m━━━━━━━━━━━━━━━━━━━━\u001b[0m\u001b[37m\u001b[0m \u001b[1m212s\u001b[0m 676ms/step - accuracy: 0.5038 - loss: 0.6932 - val_accuracy: 0.4900 - val_loss: 0.6932\n",
            "Epoch 8/10\n",
            "\u001b[1m313/313\u001b[0m \u001b[32m━━━━━━━━━━━━━━━━━━━━\u001b[0m\u001b[37m\u001b[0m \u001b[1m213s\u001b[0m 680ms/step - accuracy: 0.4965 - loss: 0.6932 - val_accuracy: 0.4900 - val_loss: 0.6932\n",
            "Epoch 9/10\n",
            "\u001b[1m313/313\u001b[0m \u001b[32m━━━━━━━━━━━━━━━━━━━━\u001b[0m\u001b[37m\u001b[0m \u001b[1m210s\u001b[0m 672ms/step - accuracy: 0.5041 - loss: 0.6931 - val_accuracy: 0.4900 - val_loss: 0.6932\n",
            "Epoch 10/10\n",
            "\u001b[1m313/313\u001b[0m \u001b[32m━━━━━━━━━━━━━━━━━━━━\u001b[0m\u001b[37m\u001b[0m \u001b[1m214s\u001b[0m 682ms/step - accuracy: 0.5019 - loss: 0.6932 - val_accuracy: 0.4900 - val_loss: 0.6932\n"
          ]
        }
      ]
    },
    {
      "cell_type": "code",
      "source": [
        "# Plot accuracy results\n",
        "plt.plot(history.history['accuracy'])\n",
        "plt.plot(history.history['val_accuracy'])\n",
        "plt.title('Model Accuracy')\n",
        "plt.ylabel('Accuracy')\n",
        "plt.xlabel('Epoch')\n",
        "plt.legend(['Train', 'Validation'], loc='upper left')\n",
        "plt.show()"
      ],
      "metadata": {
        "colab": {
          "base_uri": "https://localhost:8080/",
          "height": 472
        },
        "id": "UhTx71b9VNpt",
        "outputId": "2ddcfbbb-f562-46ef-df82-a69eaef80fd2"
      },
      "execution_count": null,
      "outputs": [
        {
          "output_type": "display_data",
          "data": {
            "text/plain": [
              "<Figure size 640x480 with 1 Axes>"
            ],
            "image/png": "[encoded data removed]"
          },
          "metadata": {}
        }
      ]
    },
    {
      "cell_type": "code",
      "source": [
        "# Plot loss results\n",
        "plt.plot(history.history['loss'])\n",
        "plt.plot(history.history['val_loss'])\n",
        "plt.title('Model Loss')\n",
        "plt.ylabel('Loss')\n",
        "plt.xlabel('Epoch')\n",
        "plt.legend(['Train', 'Validation'], loc='upper left')\n",
        "plt.show()"
      ],
      "metadata": {
        "colab": {
          "base_uri": "https://localhost:8080/",
          "height": 472
        },
        "id": "STZ-LqQdVYXh",
        "outputId": "358de374-287b-4235-d4fb-0d01acc1c3a4"
      },
      "execution_count": null,
      "outputs": [
        {
          "output_type": "display_data",
          "data": {
            "text/plain": [
              "<Figure size 640x480 with 1 Axes>"
            ],
            "image/png": "[encoded data removed]"
          },
          "metadata": {}
        }
      ]
    },
    {
      "cell_type": "code",
      "source": [
        "# Evaluating on test dataset\n",
        "test_dataset = test_ds.map(vectorizer)\n",
        "test_dataset = test_dataset.batch(BATCH_SIZE).prefetch(tf.data.AUTOTUNE)\n",
        "model.evaluate(test_dataset)"
      ],
      "metadata": {
        "colab": {
          "base_uri": "https://localhost:8080/"
        },
        "id": "arETQJt4Vk6z",
        "outputId": "f0f72e5c-6d83-460d-b4de-fa447f3e03bf"
      },
      "execution_count": null,
      "outputs": [
        {
          "output_type": "stream",
          "name": "stdout",
          "text": [
            "\u001b[1m40/40\u001b[0m \u001b[32m━━━━━━━━━━━━━━━━━━━━\u001b[0m\u001b[37m\u001b[0m \u001b[1m8s\u001b[0m 194ms/step - accuracy: 0.5154 - loss: 0.6931\n"
          ]
        },
        {
          "output_type": "execute_result",
          "data": {
            "text/plain": [
              "[0.6931547522544861, 0.4975999891757965]"
            ]
          },
          "metadata": {},
          "execution_count": 58
        }
      ]
    },
    {
      "cell_type": "markdown",
      "source": [
        "## Build GRU (Multilayer and Bidirectional)\n",
        "\n",
        "![](https://www.researchgate.net/publication/368401217/figure/fig3/AS:11431281179417554@1691186189285/GRU-model-structureGRU-gated-recurrent-neural-network.png)"
      ],
      "metadata": {
        "id": "I_TB3mwGYUhN"
      }
    },
    {
      "cell_type": "code",
      "source": [
        "EMBEDDING_DIM = 64\n",
        "VOCAB_SIZE = 10000\n",
        "\n",
        "model = tf.keras.Sequential([\n",
        "    Input(shape=(SEQUENCE_LENGTH,)),\n",
        "    Embedding(VOCAB_SIZE, EMBEDDING_DIM),\n",
        "\n",
        "    Bidirectional(GRU(64, return_sequences=True)),\n",
        "    Bidirectional(GRU(32)),\n",
        "\n",
        "    Dense(64, activation='relu'),\n",
        "    Dropout(0.5),\n",
        "    Dense(1, activation='sigmoid')\n",
        "])\n",
        "\n",
        "model.summary()"
      ],
      "metadata": {
        "colab": {
          "base_uri": "https://localhost:8080/",
          "height": 343
        },
        "id": "FO4643s_aZd6",
        "outputId": "c9bba5ae-812c-4706-8ca0-bd0c2c094cad"
      },
      "execution_count": null,
      "outputs": [
        {
          "output_type": "display_data",
          "data": {
            "text/plain": [
              "\u001b[1mModel: \"sequential_4\"\u001b[0m\n"
            ],
            "text/html": [
              "<pre style=\"white-space:pre;overflow-x:auto;line-height:normal;font-family:Menlo,'DejaVu Sans Mono',consolas,'Courier New',monospace\"><span style=\"font-weight: bold\">Model: \"sequential_4\"</span>\n",
              "</pre>\n"
            ]
          },
          "metadata": {}
        },
        {
          "output_type": "display_data",
          "data": {
            "text/plain": [
              "┏━━━━━━━━━━━━━━━━━━━━━━━━━━━━━━━━━━━━━━┳━━━━━━━━━━━━━━━━━━━━━━━━━━━━━┳━━━━━━━━━━━━━━━━━┓\n",
              "┃\u001b[1m \u001b[0m\u001b[1mLayer (type)                        \u001b[0m\u001b[1m \u001b[0m┃\u001b[1m \u001b[0m\u001b[1mOutput Shape               \u001b[0m\u001b[1m \u001b[0m┃\u001b[1m \u001b[0m\u001b[1m        Param #\u001b[0m\u001b[1m \u001b[0m┃\n",
              "┡━━━━━━━━━━━━━━━━━━━━━━━━━━━━━━━━━━━━━━╇━━━━━━━━━━━━━━━━━━━━━━━━━━━━━╇━━━━━━━━━━━━━━━━━┩\n",
              "│ embedding_4 (\u001b[38;5;33mEmbedding\u001b[0m)              │ (\u001b[38;5;45mNone\u001b[0m, \u001b[38;5;34m250\u001b[0m, \u001b[38;5;34m64\u001b[0m)             │         \u001b[38;5;34m640,000\u001b[0m │\n",
              "├──────────────────────────────────────┼─────────────────────────────┼─────────────────┤\n",
              "│ bidirectional_2 (\u001b[38;5;33mBidirectional\u001b[0m)      │ (\u001b[38;5;45mNone\u001b[0m, \u001b[38;5;34m250\u001b[0m, \u001b[38;5;34m128\u001b[0m)            │          \u001b[38;5;34m49,920\u001b[0m │\n",
              "├──────────────────────────────────────┼─────────────────────────────┼─────────────────┤\n",
              "│ bidirectional_3 (\u001b[38;5;33mBidirectional\u001b[0m)      │ (\u001b[38;5;45mNone\u001b[0m, \u001b[38;5;34m64\u001b[0m)                  │          \u001b[38;5;34m31,104\u001b[0m │\n",
              "├──────────────────────────────────────┼─────────────────────────────┼─────────────────┤\n",
              "│ dense_5 (\u001b[38;5;33mDense\u001b[0m)                      │ (\u001b[38;5;45mNone\u001b[0m, \u001b[38;5;34m64\u001b[0m)                  │           \u001b[38;5;34m4,160\u001b[0m │\n",
              "├──────────────────────────────────────┼─────────────────────────────┼─────────────────┤\n",
              "│ dropout_1 (\u001b[38;5;33mDropout\u001b[0m)                  │ (\u001b[38;5;45mNone\u001b[0m, \u001b[38;5;34m64\u001b[0m)                  │               \u001b[38;5;34m0\u001b[0m │\n",
              "├──────────────────────────────────────┼─────────────────────────────┼─────────────────┤\n",
              "│ dense_6 (\u001b[38;5;33mDense\u001b[0m)                      │ (\u001b[38;5;45mNone\u001b[0m, \u001b[38;5;34m1\u001b[0m)                   │              \u001b[38;5;34m65\u001b[0m │\n",
              "└──────────────────────────────────────┴─────────────────────────────┴─────────────────┘\n"
            ],
            "text/html": [
              "<pre style=\"white-space:pre;overflow-x:auto;line-height:normal;font-family:Menlo,'DejaVu Sans Mono',consolas,'Courier New',monospace\">┏━━━━━━━━━━━━━━━━━━━━━━━━━━━━━━━━━━━━━━┳━━━━━━━━━━━━━━━━━━━━━━━━━━━━━┳━━━━━━━━━━━━━━━━━┓\n",
              "┃<span style=\"font-weight: bold\"> Layer (type)                         </span>┃<span style=\"font-weight: bold\"> Output Shape                </span>┃<span style=\"font-weight: bold\">         Param # </span>┃\n",
              "┡━━━━━━━━━━━━━━━━━━━━━━━━━━━━━━━━━━━━━━╇━━━━━━━━━━━━━━━━━━━━━━━━━━━━━╇━━━━━━━━━━━━━━━━━┩\n",
              "│ embedding_4 (<span style=\"color: #0087ff; text-decoration-color: #0087ff\">Embedding</span>)              │ (<span style=\"color: #00d7ff; text-decoration-color: #00d7ff\">None</span>, <span style=\"color: #00af00; text-decoration-color: #00af00\">250</span>, <span style=\"color: #00af00; text-decoration-color: #00af00\">64</span>)             │         <span style=\"color: #00af00; text-decoration-color: #00af00\">640,000</span> │\n",
              "├──────────────────────────────────────┼─────────────────────────────┼─────────────────┤\n",
              "│ bidirectional_2 (<span style=\"color: #0087ff; text-decoration-color: #0087ff\">Bidirectional</span>)      │ (<span style=\"color: #00d7ff; text-decoration-color: #00d7ff\">None</span>, <span style=\"color: #00af00; text-decoration-color: #00af00\">250</span>, <span style=\"color: #00af00; text-decoration-color: #00af00\">128</span>)            │          <span style=\"color: #00af00; text-decoration-color: #00af00\">49,920</span> │\n",
              "├──────────────────────────────────────┼─────────────────────────────┼─────────────────┤\n",
              "│ bidirectional_3 (<span style=\"color: #0087ff; text-decoration-color: #0087ff\">Bidirectional</span>)      │ (<span style=\"color: #00d7ff; text-decoration-color: #00d7ff\">None</span>, <span style=\"color: #00af00; text-decoration-color: #00af00\">64</span>)                  │          <span style=\"color: #00af00; text-decoration-color: #00af00\">31,104</span> │\n",
              "├──────────────────────────────────────┼─────────────────────────────┼─────────────────┤\n",
              "│ dense_5 (<span style=\"color: #0087ff; text-decoration-color: #0087ff\">Dense</span>)                      │ (<span style=\"color: #00d7ff; text-decoration-color: #00d7ff\">None</span>, <span style=\"color: #00af00; text-decoration-color: #00af00\">64</span>)                  │           <span style=\"color: #00af00; text-decoration-color: #00af00\">4,160</span> │\n",
              "├──────────────────────────────────────┼─────────────────────────────┼─────────────────┤\n",
              "│ dropout_1 (<span style=\"color: #0087ff; text-decoration-color: #0087ff\">Dropout</span>)                  │ (<span style=\"color: #00d7ff; text-decoration-color: #00d7ff\">None</span>, <span style=\"color: #00af00; text-decoration-color: #00af00\">64</span>)                  │               <span style=\"color: #00af00; text-decoration-color: #00af00\">0</span> │\n",
              "├──────────────────────────────────────┼─────────────────────────────┼─────────────────┤\n",
              "│ dense_6 (<span style=\"color: #0087ff; text-decoration-color: #0087ff\">Dense</span>)                      │ (<span style=\"color: #00d7ff; text-decoration-color: #00d7ff\">None</span>, <span style=\"color: #00af00; text-decoration-color: #00af00\">1</span>)                   │              <span style=\"color: #00af00; text-decoration-color: #00af00\">65</span> │\n",
              "└──────────────────────────────────────┴─────────────────────────────┴─────────────────┘\n",
              "</pre>\n"
            ]
          },
          "metadata": {}
        },
        {
          "output_type": "display_data",
          "data": {
            "text/plain": [
              "\u001b[1m Total params: \u001b[0m\u001b[38;5;34m725,249\u001b[0m (2.77 MB)\n"
            ],
            "text/html": [
              "<pre style=\"white-space:pre;overflow-x:auto;line-height:normal;font-family:Menlo,'DejaVu Sans Mono',consolas,'Courier New',monospace\"><span style=\"font-weight: bold\"> Total params: </span><span style=\"color: #00af00; text-decoration-color: #00af00\">725,249</span> (2.77 MB)\n",
              "</pre>\n"
            ]
          },
          "metadata": {}
        },
        {
          "output_type": "display_data",
          "data": {
            "text/plain": [
              "\u001b[1m Trainable params: \u001b[0m\u001b[38;5;34m725,249\u001b[0m (2.77 MB)\n"
            ],
            "text/html": [
              "<pre style=\"white-space:pre;overflow-x:auto;line-height:normal;font-family:Menlo,'DejaVu Sans Mono',consolas,'Courier New',monospace\"><span style=\"font-weight: bold\"> Trainable params: </span><span style=\"color: #00af00; text-decoration-color: #00af00\">725,249</span> (2.77 MB)\n",
              "</pre>\n"
            ]
          },
          "metadata": {}
        },
        {
          "output_type": "display_data",
          "data": {
            "text/plain": [
              "\u001b[1m Non-trainable params: \u001b[0m\u001b[38;5;34m0\u001b[0m (0.00 B)\n"
            ],
            "text/html": [
              "<pre style=\"white-space:pre;overflow-x:auto;line-height:normal;font-family:Menlo,'DejaVu Sans Mono',consolas,'Courier New',monospace\"><span style=\"font-weight: bold\"> Non-trainable params: </span><span style=\"color: #00af00; text-decoration-color: #00af00\">0</span> (0.00 B)\n",
              "</pre>\n"
            ]
          },
          "metadata": {}
        }
      ]
    },
    {
      "cell_type": "code",
      "source": [
        "checkpoint_filepath = '/content/drive/MyDrive/gru_model.keras'\n",
        "checkpoint_callback = tf.keras.callbacks.ModelCheckpoint(\n",
        "    filepath=checkpoint_filepath,\n",
        "    # save_weights_only=True,\n",
        "    monitor='val_accuracy',\n",
        "    mode='max',\n",
        "    save_best_only=True\n",
        "    )"
      ],
      "metadata": {
        "id": "1gZ17TDpaknK"
      },
      "execution_count": null,
      "outputs": []
    },
    {
      "cell_type": "code",
      "source": [
        "model.compile(\n",
        "    loss=tf.keras.losses.BinaryCrossentropy(),\n",
        "    optimizer=tf.keras.optimizers.Adam(1e-5),\n",
        "    metrics=['accuracy']\n",
        ")"
      ],
      "metadata": {
        "id": "8SWxUWGtax8P"
      },
      "execution_count": null,
      "outputs": []
    },
    {
      "cell_type": "code",
      "source": [
        "history = model.fit(\n",
        "    train_dataset,\n",
        "    validation_data=val_dataset,\n",
        "    epochs=10,\n",
        "    callbacks=[checkpoint_callback]\n",
        ")"
      ],
      "metadata": {
        "colab": {
          "base_uri": "https://localhost:8080/"
        },
        "id": "E3U327Xea2Oa",
        "outputId": "bc246e44-d209-4dc8-c4b1-0c226eb44430"
      },
      "execution_count": null,
      "outputs": [
        {
          "output_type": "stream",
          "name": "stdout",
          "text": [
            "Epoch 1/10\n",
            "\u001b[1m313/313\u001b[0m \u001b[32m━━━━━━━━━━━━━━━━━━━━\u001b[0m\u001b[37m\u001b[0m \u001b[1m302s\u001b[0m 789ms/step - accuracy: 0.4951 - loss: 0.6933 - val_accuracy: 0.4900 - val_loss: 0.6932\n",
            "Epoch 2/10\n",
            "\u001b[1m313/313\u001b[0m \u001b[32m━━━━━━━━━━━━━━━━━━━━\u001b[0m\u001b[37m\u001b[0m \u001b[1m244s\u001b[0m 779ms/step - accuracy: 0.4985 - loss: 0.6932 - val_accuracy: 0.4900 - val_loss: 0.6932\n",
            "Epoch 3/10\n",
            "\u001b[1m313/313\u001b[0m \u001b[32m━━━━━━━━━━━━━━━━━━━━\u001b[0m\u001b[37m\u001b[0m \u001b[1m266s\u001b[0m 791ms/step - accuracy: 0.5004 - loss: 0.6932 - val_accuracy: 0.4900 - val_loss: 0.6933\n",
            "Epoch 4/10\n",
            "\u001b[1m313/313\u001b[0m \u001b[32m━━━━━━━━━━━━━━━━━━━━\u001b[0m\u001b[37m\u001b[0m \u001b[1m268s\u001b[0m 813ms/step - accuracy: 0.4949 - loss: 0.6933 - val_accuracy: 0.4900 - val_loss: 0.6932\n",
            "Epoch 5/10\n",
            "\u001b[1m313/313\u001b[0m \u001b[32m━━━━━━━━━━━━━━━━━━━━\u001b[0m\u001b[37m\u001b[0m \u001b[1m289s\u001b[0m 902ms/step - accuracy: 0.4950 - loss: 0.6933 - val_accuracy: 0.4900 - val_loss: 0.6932\n",
            "Epoch 6/10\n",
            "\u001b[1m313/313\u001b[0m \u001b[32m━━━━━━━━━━━━━━━━━━━━\u001b[0m\u001b[37m\u001b[0m \u001b[1m273s\u001b[0m 873ms/step - accuracy: 0.5032 - loss: 0.6931 - val_accuracy: 0.4900 - val_loss: 0.6932\n",
            "Epoch 7/10\n",
            "\u001b[1m313/313\u001b[0m \u001b[32m━━━━━━━━━━━━━━━━━━━━\u001b[0m\u001b[37m\u001b[0m \u001b[1m342s\u001b[0m 938ms/step - accuracy: 0.5008 - loss: 0.6932 - val_accuracy: 0.4900 - val_loss: 0.6932\n",
            "Epoch 8/10\n",
            "\u001b[1m313/313\u001b[0m \u001b[32m━━━━━━━━━━━━━━━━━━━━\u001b[0m\u001b[37m\u001b[0m \u001b[1m299s\u001b[0m 864ms/step - accuracy: 0.4913 - loss: 0.6933 - val_accuracy: 0.4900 - val_loss: 0.6932\n",
            "Epoch 9/10\n",
            "\u001b[1m313/313\u001b[0m \u001b[32m━━━━━━━━━━━━━━━━━━━━\u001b[0m\u001b[37m\u001b[0m \u001b[1m339s\u001b[0m 918ms/step - accuracy: 0.5013 - loss: 0.6931 - val_accuracy: 0.4900 - val_loss: 0.6932\n",
            "Epoch 10/10\n",
            "\u001b[1m313/313\u001b[0m \u001b[32m━━━━━━━━━━━━━━━━━━━━\u001b[0m\u001b[37m\u001b[0m \u001b[1m345s\u001b[0m 992ms/step - accuracy: 0.5012 - loss: 0.6932 - val_accuracy: 0.4900 - val_loss: 0.6932\n"
          ]
        }
      ]
    },
    {
      "cell_type": "code",
      "source": [
        "plt.plot(history.history['accuracy'])\n",
        "plt.plot(history.history['val_accuracy'])\n",
        "plt.title('Model Accuracy')\n",
        "plt.ylabel('Accuracy')\n",
        "plt.xlabel('Epoch')\n",
        "plt.legend(['Train', 'Validation'], loc='upper left')\n",
        "plt.show()"
      ],
      "metadata": {
        "colab": {
          "base_uri": "https://localhost:8080/",
          "height": 472
        },
        "id": "WA6yg1mYa8l6",
        "outputId": "56c6a1e5-976e-48b4-daa9-038a051989d2"
      },
      "execution_count": null,
      "outputs": [
        {
          "output_type": "display_data",
          "data": {
            "text/plain": [
              "<Figure size 640x480 with 1 Axes>"
            ],
            "image/png": "[encoded data removed]"
          },
          "metadata": {}
        }
      ]
    },
    {
      "cell_type": "code",
      "source": [
        "plt.plot(history.history['loss'])\n",
        "plt.plot(history.history['val_loss'])\n",
        "plt.title('Model Loss')\n",
        "plt.ylabel('Loss')\n",
        "plt.xlabel('Epoch')\n",
        "plt.legend(['Train', 'Validation'], loc='upper left')\n",
        "plt.show()"
      ],
      "metadata": {
        "colab": {
          "base_uri": "https://localhost:8080/",
          "height": 472
        },
        "id": "0wDIoxb9bARE",
        "outputId": "53bc9218-9546-44f3-b809-7d3e6c3d20f6"
      },
      "execution_count": null,
      "outputs": [
        {
          "output_type": "display_data",
          "data": {
            "text/plain": [
              "<Figure size 640x480 with 1 Axes>"
            ],
            "image/png": "[encoded data removed]"
          },
          "metadata": {}
        }
      ]
    },
    {
      "cell_type": "code",
      "source": [
        "# Evaluate on Test Dataset\n",
        "test_dataset = test_ds.map(vectorizer)\n",
        "test_dataset = test_dataset.batch(BATCH_SIZE).prefetch(tf.data.AUTOTUNE)\n",
        "model.evaluate(test_dataset)"
      ],
      "metadata": {
        "colab": {
          "base_uri": "https://localhost:8080/"
        },
        "id": "q3XUzACxbZQl",
        "outputId": "f1065a15-fb79-4b53-ef63-ff2ea5c81794"
      },
      "execution_count": null,
      "outputs": [
        {
          "output_type": "stream",
          "name": "stdout",
          "text": [
            "\u001b[1m40/40\u001b[0m \u001b[32m━━━━━━━━━━━━━━━━━━━━\u001b[0m\u001b[37m\u001b[0m \u001b[1m8s\u001b[0m 197ms/step - accuracy: 0.5154 - loss: 0.6930\n"
          ]
        },
        {
          "output_type": "execute_result",
          "data": {
            "text/plain": [
              "[0.6931708455085754, 0.4975999891757965]"
            ]
          },
          "metadata": {},
          "execution_count": 65
        }
      ]
    },
    {
      "cell_type": "markdown",
      "source": [
        "## Build the Conv1D Model"
      ],
      "metadata": {
        "id": "IwwkIlUQcKef"
      }
    },
    {
      "cell_type": "code",
      "source": [
        "import tensorflow as tf\n",
        "from tensorflow.keras.layers import Input, Embedding, Conv1D, Flatten, Dense, Dropout\n",
        "from tensorflow.keras.models import Sequential\n",
        "\n",
        "# Parameters\n",
        "EMBEDDING_DIM = 300\n",
        "VOCAB_SIZE = 10000\n",
        "SEQUENCE_LENGTH = 250\n",
        "\n",
        "model = tf.keras.models.Sequential([\n",
        "    Input(shape=(250,)),\n",
        "    Embedding(VOCAB_SIZE, EMBEDDING_DIM),\n",
        "    Conv1D(32, 3, activation='relu'),\n",
        "    tf.keras.layers.GlobalMaxPooling1D(),\n",
        "    Dense(32, activation='relu'),\n",
        "    Dropout(0.5),\n",
        "    Dense(1, activation='sigmoid'),\n",
        "])\n",
        "\n",
        "model.summary()"
      ],
      "metadata": {
        "colab": {
          "base_uri": "https://localhost:8080/",
          "height": 360
        },
        "id": "U5iUfsOqcgv_",
        "outputId": "855458c3-39b7-456e-a306-5090c97038e7"
      },
      "execution_count": 18,
      "outputs": [
        {
          "output_type": "display_data",
          "data": {
            "text/plain": [
              "\u001b[1mModel: \"sequential\"\u001b[0m\n"
            ],
            "text/html": [
              "<pre style=\"white-space:pre;overflow-x:auto;line-height:normal;font-family:Menlo,'DejaVu Sans Mono',consolas,'Courier New',monospace\"><span style=\"font-weight: bold\">Model: \"sequential\"</span>\n",
              "</pre>\n"
            ]
          },
          "metadata": {}
        },
        {
          "output_type": "display_data",
          "data": {
            "text/plain": [
              "┏━━━━━━━━━━━━━━━━━━━━━━━━━━━━━━━━━━━━━━┳━━━━━━━━━━━━━━━━━━━━━━━━━━━━━┳━━━━━━━━━━━━━━━━━┓\n",
              "┃\u001b[1m \u001b[0m\u001b[1mLayer (type)                        \u001b[0m\u001b[1m \u001b[0m┃\u001b[1m \u001b[0m\u001b[1mOutput Shape               \u001b[0m\u001b[1m \u001b[0m┃\u001b[1m \u001b[0m\u001b[1m        Param #\u001b[0m\u001b[1m \u001b[0m┃\n",
              "┡━━━━━━━━━━━━━━━━━━━━━━━━━━━━━━━━━━━━━━╇━━━━━━━━━━━━━━━━━━━━━━━━━━━━━╇━━━━━━━━━━━━━━━━━┩\n",
              "│ embedding (\u001b[38;5;33mEmbedding\u001b[0m)                │ (\u001b[38;5;45mNone\u001b[0m, \u001b[38;5;34m250\u001b[0m, \u001b[38;5;34m300\u001b[0m)            │       \u001b[38;5;34m3,000,000\u001b[0m │\n",
              "├──────────────────────────────────────┼─────────────────────────────┼─────────────────┤\n",
              "│ conv1d (\u001b[38;5;33mConv1D\u001b[0m)                      │ (\u001b[38;5;45mNone\u001b[0m, \u001b[38;5;34m248\u001b[0m, \u001b[38;5;34m32\u001b[0m)             │          \u001b[38;5;34m28,832\u001b[0m │\n",
              "├──────────────────────────────────────┼─────────────────────────────┼─────────────────┤\n",
              "│ global_max_pooling1d                 │ (\u001b[38;5;45mNone\u001b[0m, \u001b[38;5;34m32\u001b[0m)                  │               \u001b[38;5;34m0\u001b[0m │\n",
              "│ (\u001b[38;5;33mGlobalMaxPooling1D\u001b[0m)                 │                             │                 │\n",
              "├──────────────────────────────────────┼─────────────────────────────┼─────────────────┤\n",
              "│ dense (\u001b[38;5;33mDense\u001b[0m)                        │ (\u001b[38;5;45mNone\u001b[0m, \u001b[38;5;34m32\u001b[0m)                  │           \u001b[38;5;34m1,056\u001b[0m │\n",
              "├──────────────────────────────────────┼─────────────────────────────┼─────────────────┤\n",
              "│ dropout (\u001b[38;5;33mDropout\u001b[0m)                    │ (\u001b[38;5;45mNone\u001b[0m, \u001b[38;5;34m32\u001b[0m)                  │               \u001b[38;5;34m0\u001b[0m │\n",
              "├──────────────────────────────────────┼─────────────────────────────┼─────────────────┤\n",
              "│ dense_1 (\u001b[38;5;33mDense\u001b[0m)                      │ (\u001b[38;5;45mNone\u001b[0m, \u001b[38;5;34m1\u001b[0m)                   │              \u001b[38;5;34m33\u001b[0m │\n",
              "└──────────────────────────────────────┴─────────────────────────────┴─────────────────┘\n"
            ],
            "text/html": [
              "<pre style=\"white-space:pre;overflow-x:auto;line-height:normal;font-family:Menlo,'DejaVu Sans Mono',consolas,'Courier New',monospace\">┏━━━━━━━━━━━━━━━━━━━━━━━━━━━━━━━━━━━━━━┳━━━━━━━━━━━━━━━━━━━━━━━━━━━━━┳━━━━━━━━━━━━━━━━━┓\n",
              "┃<span style=\"font-weight: bold\"> Layer (type)                         </span>┃<span style=\"font-weight: bold\"> Output Shape                </span>┃<span style=\"font-weight: bold\">         Param # </span>┃\n",
              "┡━━━━━━━━━━━━━━━━━━━━━━━━━━━━━━━━━━━━━━╇━━━━━━━━━━━━━━━━━━━━━━━━━━━━━╇━━━━━━━━━━━━━━━━━┩\n",
              "│ embedding (<span style=\"color: #0087ff; text-decoration-color: #0087ff\">Embedding</span>)                │ (<span style=\"color: #00d7ff; text-decoration-color: #00d7ff\">None</span>, <span style=\"color: #00af00; text-decoration-color: #00af00\">250</span>, <span style=\"color: #00af00; text-decoration-color: #00af00\">300</span>)            │       <span style=\"color: #00af00; text-decoration-color: #00af00\">3,000,000</span> │\n",
              "├──────────────────────────────────────┼─────────────────────────────┼─────────────────┤\n",
              "│ conv1d (<span style=\"color: #0087ff; text-decoration-color: #0087ff\">Conv1D</span>)                      │ (<span style=\"color: #00d7ff; text-decoration-color: #00d7ff\">None</span>, <span style=\"color: #00af00; text-decoration-color: #00af00\">248</span>, <span style=\"color: #00af00; text-decoration-color: #00af00\">32</span>)             │          <span style=\"color: #00af00; text-decoration-color: #00af00\">28,832</span> │\n",
              "├──────────────────────────────────────┼─────────────────────────────┼─────────────────┤\n",
              "│ global_max_pooling1d                 │ (<span style=\"color: #00d7ff; text-decoration-color: #00d7ff\">None</span>, <span style=\"color: #00af00; text-decoration-color: #00af00\">32</span>)                  │               <span style=\"color: #00af00; text-decoration-color: #00af00\">0</span> │\n",
              "│ (<span style=\"color: #0087ff; text-decoration-color: #0087ff\">GlobalMaxPooling1D</span>)                 │                             │                 │\n",
              "├──────────────────────────────────────┼─────────────────────────────┼─────────────────┤\n",
              "│ dense (<span style=\"color: #0087ff; text-decoration-color: #0087ff\">Dense</span>)                        │ (<span style=\"color: #00d7ff; text-decoration-color: #00d7ff\">None</span>, <span style=\"color: #00af00; text-decoration-color: #00af00\">32</span>)                  │           <span style=\"color: #00af00; text-decoration-color: #00af00\">1,056</span> │\n",
              "├──────────────────────────────────────┼─────────────────────────────┼─────────────────┤\n",
              "│ dropout (<span style=\"color: #0087ff; text-decoration-color: #0087ff\">Dropout</span>)                    │ (<span style=\"color: #00d7ff; text-decoration-color: #00d7ff\">None</span>, <span style=\"color: #00af00; text-decoration-color: #00af00\">32</span>)                  │               <span style=\"color: #00af00; text-decoration-color: #00af00\">0</span> │\n",
              "├──────────────────────────────────────┼─────────────────────────────┼─────────────────┤\n",
              "│ dense_1 (<span style=\"color: #0087ff; text-decoration-color: #0087ff\">Dense</span>)                      │ (<span style=\"color: #00d7ff; text-decoration-color: #00d7ff\">None</span>, <span style=\"color: #00af00; text-decoration-color: #00af00\">1</span>)                   │              <span style=\"color: #00af00; text-decoration-color: #00af00\">33</span> │\n",
              "└──────────────────────────────────────┴─────────────────────────────┴─────────────────┘\n",
              "</pre>\n"
            ]
          },
          "metadata": {}
        },
        {
          "output_type": "display_data",
          "data": {
            "text/plain": [
              "\u001b[1m Total params: \u001b[0m\u001b[38;5;34m3,029,921\u001b[0m (11.56 MB)\n"
            ],
            "text/html": [
              "<pre style=\"white-space:pre;overflow-x:auto;line-height:normal;font-family:Menlo,'DejaVu Sans Mono',consolas,'Courier New',monospace\"><span style=\"font-weight: bold\"> Total params: </span><span style=\"color: #00af00; text-decoration-color: #00af00\">3,029,921</span> (11.56 MB)\n",
              "</pre>\n"
            ]
          },
          "metadata": {}
        },
        {
          "output_type": "display_data",
          "data": {
            "text/plain": [
              "\u001b[1m Trainable params: \u001b[0m\u001b[38;5;34m3,029,921\u001b[0m (11.56 MB)\n"
            ],
            "text/html": [
              "<pre style=\"white-space:pre;overflow-x:auto;line-height:normal;font-family:Menlo,'DejaVu Sans Mono',consolas,'Courier New',monospace\"><span style=\"font-weight: bold\"> Trainable params: </span><span style=\"color: #00af00; text-decoration-color: #00af00\">3,029,921</span> (11.56 MB)\n",
              "</pre>\n"
            ]
          },
          "metadata": {}
        },
        {
          "output_type": "display_data",
          "data": {
            "text/plain": [
              "\u001b[1m Non-trainable params: \u001b[0m\u001b[38;5;34m0\u001b[0m (0.00 B)\n"
            ],
            "text/html": [
              "<pre style=\"white-space:pre;overflow-x:auto;line-height:normal;font-family:Menlo,'DejaVu Sans Mono',consolas,'Courier New',monospace\"><span style=\"font-weight: bold\"> Non-trainable params: </span><span style=\"color: #00af00; text-decoration-color: #00af00\">0</span> (0.00 B)\n",
              "</pre>\n"
            ]
          },
          "metadata": {}
        }
      ]
    },
    {
      "cell_type": "code",
      "source": [
        "checkpoint_filepath = '/content/drive/MyDrive/conv1d_model.keras'\n",
        "checkpoint_callback = tf.keras.callbacks.ModelCheckpoint(\n",
        "    filepath=checkpoint_filepath,\n",
        "    monitor='val_accuracy',\n",
        "    mode='max',\n",
        "    save_best_only=True\n",
        ")"
      ],
      "metadata": {
        "id": "HeEmVuZzc--J"
      },
      "execution_count": 19,
      "outputs": []
    },
    {
      "cell_type": "code",
      "source": [
        "model.compile(\n",
        "    loss=tf.keras.losses.BinaryCrossentropy(),\n",
        "    optimizer=tf.keras.optimizers.Adam(1e-5),\n",
        "    metrics=['accuracy']\n",
        ")"
      ],
      "metadata": {
        "id": "8F1-M_Z8dNof"
      },
      "execution_count": 20,
      "outputs": []
    },
    {
      "cell_type": "code",
      "source": [
        "history = model.fit(\n",
        "    train_dataset,\n",
        "    validation_data=val_dataset,\n",
        "    epochs=10,\n",
        "    callbacks=[checkpoint_callback]\n",
        ")"
      ],
      "metadata": {
        "colab": {
          "base_uri": "https://localhost:8080/"
        },
        "id": "Wk3cX7AndU7a",
        "outputId": "457b5464-7319-46ab-d609-d7da6a878b0d"
      },
      "execution_count": 21,
      "outputs": [
        {
          "output_type": "stream",
          "name": "stdout",
          "text": [
            "Epoch 1/10\n",
            "\u001b[1m313/313\u001b[0m \u001b[32m━━━━━━━━━━━━━━━━━━━━\u001b[0m\u001b[37m\u001b[0m \u001b[1m68s\u001b[0m 213ms/step - accuracy: 0.4979 - loss: 0.6963 - val_accuracy: 0.5104 - val_loss: 0.6922\n",
            "Epoch 2/10\n",
            "\u001b[1m313/313\u001b[0m \u001b[32m━━━━━━━━━━━━━━━━━━━━\u001b[0m\u001b[37m\u001b[0m \u001b[1m58s\u001b[0m 184ms/step - accuracy: 0.5044 - loss: 0.6948 - val_accuracy: 0.5120 - val_loss: 0.6909\n",
            "Epoch 3/10\n",
            "\u001b[1m313/313\u001b[0m \u001b[32m━━━━━━━━━━━━━━━━━━━━\u001b[0m\u001b[37m\u001b[0m \u001b[1m53s\u001b[0m 170ms/step - accuracy: 0.5203 - loss: 0.6923 - val_accuracy: 0.5452 - val_loss: 0.6894\n",
            "Epoch 4/10\n",
            "\u001b[1m313/313\u001b[0m \u001b[32m━━━━━━━━━━━━━━━━━━━━\u001b[0m\u001b[37m\u001b[0m \u001b[1m83s\u001b[0m 174ms/step - accuracy: 0.5364 - loss: 0.6893 - val_accuracy: 0.6052 - val_loss: 0.6870\n",
            "Epoch 5/10\n",
            "\u001b[1m313/313\u001b[0m \u001b[32m━━━━━━━━━━━━━━━━━━━━\u001b[0m\u001b[37m\u001b[0m \u001b[1m83s\u001b[0m 178ms/step - accuracy: 0.5559 - loss: 0.6864 - val_accuracy: 0.6684 - val_loss: 0.6838\n",
            "Epoch 6/10\n",
            "\u001b[1m313/313\u001b[0m \u001b[32m━━━━━━━━━━━━━━━━━━━━\u001b[0m\u001b[37m\u001b[0m \u001b[1m80s\u001b[0m 171ms/step - accuracy: 0.5775 - loss: 0.6828 - val_accuracy: 0.6872 - val_loss: 0.6803\n",
            "Epoch 7/10\n",
            "\u001b[1m313/313\u001b[0m \u001b[32m━━━━━━━━━━━━━━━━━━━━\u001b[0m\u001b[37m\u001b[0m \u001b[1m82s\u001b[0m 170ms/step - accuracy: 0.6016 - loss: 0.6775 - val_accuracy: 0.7032 - val_loss: 0.6763\n",
            "Epoch 8/10\n",
            "\u001b[1m313/313\u001b[0m \u001b[32m━━━━━━━━━━━━━━━━━━━━\u001b[0m\u001b[37m\u001b[0m \u001b[1m91s\u001b[0m 199ms/step - accuracy: 0.6166 - loss: 0.6739 - val_accuracy: 0.7040 - val_loss: 0.6723\n",
            "Epoch 9/10\n",
            "\u001b[1m313/313\u001b[0m \u001b[32m━━━━━━━━━━━━━━━━━━━━\u001b[0m\u001b[37m\u001b[0m \u001b[1m79s\u001b[0m 188ms/step - accuracy: 0.6248 - loss: 0.6700 - val_accuracy: 0.6988 - val_loss: 0.6679\n",
            "Epoch 10/10\n",
            "\u001b[1m313/313\u001b[0m \u001b[32m━━━━━━━━━━━━━━━━━━━━\u001b[0m\u001b[37m\u001b[0m \u001b[1m55s\u001b[0m 176ms/step - accuracy: 0.6399 - loss: 0.6644 - val_accuracy: 0.6956 - val_loss: 0.6630\n"
          ]
        }
      ]
    },
    {
      "cell_type": "code",
      "source": [
        "plt.plot(history.history['accuracy'])\n",
        "plt.plot(history.history['val_accuracy'])\n",
        "plt.title('Model Accuracy')\n",
        "plt.ylabel('Accuracy')\n",
        "plt.xlabel('Epoch')\n",
        "plt.legend(['Train', 'Validation'], loc='upper left')\n",
        "plt.show()"
      ],
      "metadata": {
        "id": "mFRaHXu4dgoe",
        "colab": {
          "base_uri": "https://localhost:8080/",
          "height": 472
        },
        "outputId": "a793c092-94aa-4265-d7bc-c7bfb9fea969"
      },
      "execution_count": 22,
      "outputs": [
        {
          "output_type": "display_data",
          "data": {
            "text/plain": [
              "<Figure size 640x480 with 1 Axes>"
            ],
            "image/png": "[encoded data removed]"
          },
          "metadata": {}
        }
      ]
    },
    {
      "cell_type": "code",
      "source": [
        "plt.plot(history.history['loss'])\n",
        "plt.plot(history.history['val_loss'])\n",
        "plt.title('Model Loss')\n",
        "plt.ylabel('Loss')\n",
        "plt.xlabel('Epoch')\n",
        "plt.legend(['Train', 'Validation'], loc='upper left')\n",
        "plt.show()"
      ],
      "metadata": {
        "id": "7h79ENa8dnPl",
        "colab": {
          "base_uri": "https://localhost:8080/",
          "height": 472
        },
        "outputId": "a2864546-e9d1-400a-9235-d211a2882c30"
      },
      "execution_count": 23,
      "outputs": [
        {
          "output_type": "display_data",
          "data": {
            "text/plain": [
              "<Figure size 640x480 with 1 Axes>"
            ],
            "image/png": "[encoded data removed]"
          },
          "metadata": {}
        }
      ]
    },
    {
      "cell_type": "code",
      "source": [
        "model.load_weights(checkpoint_filepath)\n",
        "\n",
        "test_dataset = test_ds.map(vectorizer)\n",
        "test_dataset = test_dataset.batch(BATCH_SIZE).prefetch(tf.data.AUTOTUNE)\n",
        "model.evaluate(test_dataset)"
      ],
      "metadata": {
        "id": "wYVNgTo0duPP",
        "colab": {
          "base_uri": "https://localhost:8080/"
        },
        "outputId": "2354121a-084a-4d2e-d5ab-bb090ef3350e"
      },
      "execution_count": 24,
      "outputs": [
        {
          "output_type": "stream",
          "name": "stdout",
          "text": [
            "\u001b[1m40/40\u001b[0m \u001b[32m━━━━━━━━━━━━━━━━━━━━\u001b[0m\u001b[37m\u001b[0m \u001b[1m2s\u001b[0m 50ms/step - accuracy: 0.7135 - loss: 0.6718\n"
          ]
        },
        {
          "output_type": "execute_result",
          "data": {
            "text/plain": [
              "[0.6717967987060547, 0.7131999731063843]"
            ]
          },
          "metadata": {},
          "execution_count": 24
        }
      ]
    },
    {
      "cell_type": "markdown",
      "source": [
        "## Transfer Learning with Pretrained Word2Vec [Gensim]"
      ],
      "metadata": {
        "id": "YN5AQ_Ckd1tk"
      }
    },
    {
      "cell_type": "code",
      "source": [
        "work2vec_model = api.load('word2vec-google-news-300')"
      ],
      "metadata": {
        "id": "4VowdHvSd9Re"
      },
      "execution_count": null,
      "outputs": []
    },
    {
      "cell_type": "code",
      "source": [
        "work2vec_model.vectors.shape"
      ],
      "metadata": {
        "colab": {
          "base_uri": "https://localhost:8080/"
        },
        "id": "fxtB5gqsMjGn",
        "outputId": "66fe4ea6-e587-4693-ede4-2f4914d9a53f"
      },
      "execution_count": 30,
      "outputs": [
        {
          "output_type": "execute_result",
          "data": {
            "text/plain": [
              "(3000000, 300)"
            ]
          },
          "metadata": {},
          "execution_count": 30
        }
      ]
    },
    {
      "cell_type": "code",
      "source": [
        "len(work2vec_model['The'])"
      ],
      "metadata": {
        "id": "6bzf46m2mwVw",
        "colab": {
          "base_uri": "https://localhost:8080/"
        },
        "outputId": "3d649638-f85c-4fd5-99d3-338fbfaf05e8"
      },
      "execution_count": 33,
      "outputs": [
        {
          "output_type": "execute_result",
          "data": {
            "text/plain": [
              "300"
            ]
          },
          "metadata": {},
          "execution_count": 33
        }
      ]
    },
    {
      "cell_type": "code",
      "source": [
        "work2vec_model.most_similar('good')"
      ],
      "metadata": {
        "id": "FtJAGC1Qm_VH",
        "colab": {
          "base_uri": "https://localhost:8080/"
        },
        "outputId": "9d6a8945-7c37-4be1-a204-34f5c11e42d3"
      },
      "execution_count": 34,
      "outputs": [
        {
          "output_type": "execute_result",
          "data": {
            "text/plain": [
              "[('great', 0.7291510105133057),\n",
              " ('bad', 0.7190051078796387),\n",
              " ('terrific', 0.6889115571975708),\n",
              " ('decent', 0.6837348341941833),\n",
              " ('nice', 0.6836092472076416),\n",
              " ('excellent', 0.644292950630188),\n",
              " ('fantastic', 0.6407778263092041),\n",
              " ('better', 0.6120728850364685),\n",
              " ('solid', 0.5806034803390503),\n",
              " ('lousy', 0.576420247554779)]"
            ]
          },
          "metadata": {},
          "execution_count": 34
        }
      ]
    },
    {
      "cell_type": "code",
      "source": [
        "word2vec = work2vec_model"
      ],
      "metadata": {
        "id": "I4CUZm-4NLTB"
      },
      "execution_count": 36,
      "outputs": []
    },
    {
      "cell_type": "code",
      "source": [
        "def first_caps(word):\n",
        "    return word.capitalize()\n",
        "\n",
        "pretrained_embeddings = []\n",
        "\n",
        "for i, word in enumerate(vectorize_layer.get_vocabulary()):\n",
        "    try:\n",
        "        # Try to get the embedding directly\n",
        "        embedding = word2vec[word]\n",
        "    except KeyError:\n",
        "        print(f\"Word not found in pretrained embeddings: {word}\")\n",
        "        try:\n",
        "            # Try to get the embedding with first letter capitalized\n",
        "            embedding = word2vec[first_caps(word)]\n",
        "            print(f\"Found by capitalizing: {first_caps(word)}\")\n",
        "        except KeyError:\n",
        "            # If still not found, use a random embedding\n",
        "            print(f\"No solution found for word: {word}\")\n",
        "            embedding = np.random.normal(loc=0, scale=1, size=(EMBEDDING_DIM,))\n",
        "\n",
        "    pretrained_embeddings.append(embedding)\n",
        "\n",
        "    if i % 1000 == 0:\n",
        "        print(f\"Processed {i} words out of {len(vectorize_layer.get_vocabulary())}\")\n",
        "\n",
        "print(\"Finished processing all words.\")\n"
      ],
      "metadata": {
        "id": "bWB-n5THol_P",
        "colab": {
          "base_uri": "https://localhost:8080/"
        },
        "outputId": "8eb9dcd0-d831-4cc5-eae8-d9dc6548af59"
      },
      "execution_count": 37,
      "outputs": [
        {
          "output_type": "stream",
          "name": "stdout",
          "text": [
            "Word not found in pretrained embeddings: \n",
            "No solution found for word: \n",
            "Processed 0 words out of 10000\n",
            "Word not found in pretrained embeddings: [UNK]\n",
            "No solution found for word: [UNK]\n",
            "Word not found in pretrained embeddings: and\n",
            "Found by capitalizing: And\n",
            "Word not found in pretrained embeddings: a\n",
            "Found by capitalizing: A\n",
            "Word not found in pretrained embeddings: of\n",
            "Found by capitalizing: Of\n",
            "Word not found in pretrained embeddings: to\n",
            "Found by capitalizing: To\n",
            "Word not found in pretrained embeddings: doesnt\n",
            "No solution found for word: doesnt\n",
            "Word not found in pretrained embeddings: didnt\n",
            "No solution found for word: didnt\n",
            "Word not found in pretrained embeddings: isnt\n",
            "No solution found for word: isnt\n",
            "Word not found in pretrained embeddings: wasnt\n",
            "No solution found for word: wasnt\n",
            "Word not found in pretrained embeddings: 10\n",
            "No solution found for word: 10\n",
            "Word not found in pretrained embeddings: 80s\n",
            "No solution found for word: 80s\n",
            "Word not found in pretrained embeddings: 20\n",
            "No solution found for word: 20\n",
            "Word not found in pretrained embeddings: 70s\n",
            "No solution found for word: 70s\n",
            "Processed 1000 words out of 10000\n",
            "Word not found in pretrained embeddings: 15\n",
            "No solution found for word: 15\n",
            "Word not found in pretrained embeddings: 12\n",
            "No solution found for word: 12\n",
            "Word not found in pretrained embeddings: 30\n",
            "No solution found for word: 30\n",
            "Word not found in pretrained embeddings: humour\n",
            "Found by capitalizing: Humour\n",
            "Word not found in pretrained embeddings: 100\n",
            "No solution found for word: 100\n",
            "Word not found in pretrained embeddings: hasnt\n",
            "No solution found for word: hasnt\n",
            "Word not found in pretrained embeddings: 90\n",
            "No solution found for word: 90\n",
            "Word not found in pretrained embeddings: favourite\n",
            "Found by capitalizing: Favourite\n",
            "Word not found in pretrained embeddings: shouldnt\n",
            "No solution found for word: shouldnt\n",
            "Word not found in pretrained embeddings: theatre\n",
            "Found by capitalizing: Theatre\n",
            "Word not found in pretrained embeddings: 60s\n",
            "No solution found for word: 60s\n",
            "Word not found in pretrained embeddings: 40\n",
            "No solution found for word: 40\n",
            "Word not found in pretrained embeddings: lowbudget\n",
            "No solution found for word: lowbudget\n",
            "Word not found in pretrained embeddings: 50\n",
            "No solution found for word: 50\n",
            "Word not found in pretrained embeddings: welles\n",
            "Found by capitalizing: Welles\n",
            "Word not found in pretrained embeddings: 1950s\n",
            "No solution found for word: 1950s\n",
            "Word not found in pretrained embeddings: tarzan\n",
            "Found by capitalizing: Tarzan\n",
            "Processed 2000 words out of 10000\n",
            "Word not found in pretrained embeddings: 90s\n",
            "No solution found for word: 90s\n",
            "Word not found in pretrained embeddings: keaton\n",
            "Found by capitalizing: Keaton\n",
            "Word not found in pretrained embeddings: 11\n",
            "No solution found for word: 11\n",
            "Word not found in pretrained embeddings: sinatra\n",
            "Found by capitalizing: Sinatra\n",
            "Word not found in pretrained embeddings: 1970s\n",
            "No solution found for word: 1970s\n",
            "Word not found in pretrained embeddings: 1010\n",
            "No solution found for word: 1010\n",
            "Word not found in pretrained embeddings: 50s\n",
            "No solution found for word: 50s\n",
            "Word not found in pretrained embeddings: overthetop\n",
            "No solution found for word: overthetop\n",
            "Word not found in pretrained embeddings: 1980s\n",
            "No solution found for word: 1980s\n",
            "Word not found in pretrained embeddings: 13\n",
            "No solution found for word: 13\n",
            "Word not found in pretrained embeddings: 25\n",
            "No solution found for word: 25\n",
            "Word not found in pretrained embeddings: 1930s\n",
            "No solution found for word: 1930s\n",
            "Word not found in pretrained embeddings: 14\n",
            "No solution found for word: 14\n",
            "Word not found in pretrained embeddings: aint\n",
            "Found by capitalizing: Aint\n",
            "Word not found in pretrained embeddings: lugosi\n",
            "Found by capitalizing: Lugosi\n",
            "Word not found in pretrained embeddings: columbo\n",
            "Found by capitalizing: Columbo\n",
            "Word not found in pretrained embeddings: writerdirector\n",
            "No solution found for word: writerdirector\n",
            "Word not found in pretrained embeddings: pacino\n",
            "Found by capitalizing: Pacino\n",
            "Word not found in pretrained embeddings: bmovie\n",
            "No solution found for word: bmovie\n",
            "Word not found in pretrained embeddings: moviethe\n",
            "No solution found for word: moviethe\n",
            "Word not found in pretrained embeddings: itthe\n",
            "No solution found for word: itthe\n",
            "Word not found in pretrained embeddings: grey\n",
            "Found by capitalizing: Grey\n",
            "Word not found in pretrained embeddings: filmthe\n",
            "No solution found for word: filmthe\n",
            "Word not found in pretrained embeddings: 810\n",
            "No solution found for word: 810\n",
            "Word not found in pretrained embeddings: hitchcock\n",
            "Found by capitalizing: Hitchcock\n",
            "Processed 3000 words out of 10000\n",
            "Word not found in pretrained embeddings: 2006\n",
            "No solution found for word: 2006\n",
            "Word not found in pretrained embeddings: 2000\n",
            "No solution found for word: 2000\n",
            "Word not found in pretrained embeddings: 710\n",
            "No solution found for word: 710\n",
            "Word not found in pretrained embeddings: 2001\n",
            "No solution found for word: 2001\n",
            "Word not found in pretrained embeddings: seagal\n",
            "Found by capitalizing: Seagal\n",
            "Word not found in pretrained embeddings: brando\n",
            "Found by capitalizing: Brando\n",
            "Word not found in pretrained embeddings: 18\n",
            "No solution found for word: 18\n",
            "Word not found in pretrained embeddings: matthau\n",
            "Found by capitalizing: Matthau\n",
            "Word not found in pretrained embeddings: colour\n",
            "Found by capitalizing: Colour\n",
            "Word not found in pretrained embeddings: 30s\n",
            "No solution found for word: 30s\n",
            "Word not found in pretrained embeddings: wwii\n",
            "No solution found for word: wwii\n",
            "Word not found in pretrained embeddings: stanwyck\n",
            "Found by capitalizing: Stanwyck\n",
            "Word not found in pretrained embeddings: 110\n",
            "No solution found for word: 110\n",
            "Word not found in pretrained embeddings: branagh\n",
            "Found by capitalizing: Branagh\n",
            "Word not found in pretrained embeddings: 911\n",
            "No solution found for word: 911\n",
            "Word not found in pretrained embeddings: sandler\n",
            "Found by capitalizing: Sandler\n",
            "Word not found in pretrained embeddings: mst3k\n",
            "No solution found for word: mst3k\n",
            "Word not found in pretrained embeddings: 24\n",
            "No solution found for word: 24\n",
            "Word not found in pretrained embeddings: 1960s\n",
            "No solution found for word: 1960s\n",
            "Word not found in pretrained embeddings: widmark\n",
            "Found by capitalizing: Widmark\n",
            "Word not found in pretrained embeddings: moviei\n",
            "No solution found for word: moviei\n",
            "Word not found in pretrained embeddings: bettie\n",
            "Found by capitalizing: Bettie\n",
            "Word not found in pretrained embeddings: 80\n",
            "No solution found for word: 80\n",
            "Word not found in pretrained embeddings: 17\n",
            "No solution found for word: 17\n",
            "Word not found in pretrained embeddings: eyre\n",
            "Found by capitalizing: Eyre\n",
            "Word not found in pretrained embeddings: denzel\n",
            "Found by capitalizing: Denzel\n",
            "Word not found in pretrained embeddings: 40s\n",
            "No solution found for word: 40s\n",
            "Word not found in pretrained embeddings: streisand\n",
            "Found by capitalizing: Streisand\n",
            "Word not found in pretrained embeddings: realise\n",
            "Found by capitalizing: Realise\n",
            "Word not found in pretrained embeddings: 20th\n",
            "No solution found for word: 20th\n",
            "Word not found in pretrained embeddings: spielberg\n",
            "Found by capitalizing: Spielberg\n",
            "Word not found in pretrained embeddings: mustsee\n",
            "No solution found for word: mustsee\n",
            "Word not found in pretrained embeddings: carrey\n",
            "Found by capitalizing: Carrey\n",
            "Word not found in pretrained embeddings: 910\n",
            "No solution found for word: 910\n",
            "Word not found in pretrained embeddings: 45\n",
            "No solution found for word: 45\n",
            "Word not found in pretrained embeddings: karloff\n",
            "Found by capitalizing: Karloff\n",
            "Word not found in pretrained embeddings: cusack\n",
            "Found by capitalizing: Cusack\n",
            "Word not found in pretrained embeddings: 2005\n",
            "No solution found for word: 2005\n",
            "Word not found in pretrained embeddings: falk\n",
            "Found by capitalizing: Falk\n",
            "Word not found in pretrained embeddings: 310\n",
            "No solution found for word: 310\n",
            "Word not found in pretrained embeddings: 2003\n",
            "No solution found for word: 2003\n",
            "Word not found in pretrained embeddings: 2002\n",
            "No solution found for word: 2002\n",
            "Word not found in pretrained embeddings: ritter\n",
            "Found by capitalizing: Ritter\n",
            "Word not found in pretrained embeddings: 410\n",
            "No solution found for word: 410\n",
            "Word not found in pretrained embeddings: 1996\n",
            "No solution found for word: 1996\n",
            "Word not found in pretrained embeddings: uwe\n",
            "Found by capitalizing: Uwe\n",
            "Word not found in pretrained embeddings: 2004\n",
            "No solution found for word: 2004\n",
            "Word not found in pretrained embeddings: 60\n",
            "No solution found for word: 60\n",
            "Word not found in pretrained embeddings: heston\n",
            "Found by capitalizing: Heston\n",
            "Processed 4000 words out of 10000\n",
            "Word not found in pretrained embeddings: brosnan\n",
            "Found by capitalizing: Brosnan\n",
            "Word not found in pretrained embeddings: 1980\n",
            "No solution found for word: 1980\n",
            "Word not found in pretrained embeddings: 16\n",
            "No solution found for word: 16\n",
            "Word not found in pretrained embeddings: 1990s\n",
            "No solution found for word: 1990s\n",
            "Word not found in pretrained embeddings: walken\n",
            "Found by capitalizing: Walken\n",
            "Word not found in pretrained embeddings: hollywoods\n",
            "Found by capitalizing: Hollywoods\n",
            "Word not found in pretrained embeddings: voight\n",
            "Found by capitalizing: Voight\n",
            "Word not found in pretrained embeddings: paulie\n",
            "Found by capitalizing: Paulie\n",
            "Word not found in pretrained embeddings: elvira\n",
            "Found by capitalizing: Elvira\n",
            "Word not found in pretrained embeddings: mildred\n",
            "Found by capitalizing: Mildred\n",
            "Word not found in pretrained embeddings: madefortv\n",
            "No solution found for word: madefortv\n",
            "Word not found in pretrained embeddings: eastwood\n",
            "Found by capitalizing: Eastwood\n",
            "Word not found in pretrained embeddings: cagney\n",
            "Found by capitalizing: Cagney\n",
            "Word not found in pretrained embeddings: 1999\n",
            "No solution found for word: 1999\n",
            "Word not found in pretrained embeddings: niro\n",
            "Found by capitalizing: Niro\n",
            "Word not found in pretrained embeddings: flynn\n",
            "Found by capitalizing: Flynn\n",
            "Word not found in pretrained embeddings: orson\n",
            "Found by capitalizing: Orson\n",
            "Word not found in pretrained embeddings: christy\n",
            "Found by capitalizing: Christy\n",
            "Word not found in pretrained embeddings: miike\n",
            "Found by capitalizing: Miike\n",
            "Word not found in pretrained embeddings: lemmon\n",
            "Found by capitalizing: Lemmon\n",
            "Word not found in pretrained embeddings: astaire\n",
            "Found by capitalizing: Astaire\n",
            "Word not found in pretrained embeddings: fonda\n",
            "Found by capitalizing: Fonda\n",
            "Word not found in pretrained embeddings: 1983\n",
            "No solution found for word: 1983\n",
            "Word not found in pretrained embeddings: onedimensional\n",
            "No solution found for word: onedimensional\n",
            "Word not found in pretrained embeddings: lundgren\n",
            "Found by capitalizing: Lundgren\n",
            "Word not found in pretrained embeddings: 2007\n",
            "No solution found for word: 2007\n",
            "Word not found in pretrained embeddings: streep\n",
            "Found by capitalizing: Streep\n",
            "Word not found in pretrained embeddings: bacall\n",
            "Found by capitalizing: Bacall\n",
            "Word not found in pretrained embeddings: 1990\n",
            "No solution found for word: 1990\n",
            "Word not found in pretrained embeddings: kubrick\n",
            "Found by capitalizing: Kubrick\n",
            "Word not found in pretrained embeddings: polanski\n",
            "Found by capitalizing: Polanski\n",
            "Word not found in pretrained embeddings: paltrow\n",
            "Found by capitalizing: Paltrow\n",
            "Word not found in pretrained embeddings: 13th\n",
            "No solution found for word: 13th\n",
            "Word not found in pretrained embeddings: ramones\n",
            "Found by capitalizing: Ramones\n",
            "Word not found in pretrained embeddings: gundam\n",
            "Found by capitalizing: Gundam\n",
            "Word not found in pretrained embeddings: 1972\n",
            "No solution found for word: 1972\n",
            "Word not found in pretrained embeddings: belushi\n",
            "Found by capitalizing: Belushi\n",
            "Word not found in pretrained embeddings: 70\n",
            "No solution found for word: 70\n",
            "Word not found in pretrained embeddings: 3000\n",
            "No solution found for word: 3000\n",
            "Word not found in pretrained embeddings: 210\n",
            "No solution found for word: 210\n",
            "Word not found in pretrained embeddings: romero\n",
            "Found by capitalizing: Romero\n",
            "Word not found in pretrained embeddings: bergman\n",
            "Found by capitalizing: Bergman\n",
            "Word not found in pretrained embeddings: beatty\n",
            "Found by capitalizing: Beatty\n",
            "Word not found in pretrained embeddings: 35\n",
            "No solution found for word: 35\n",
            "Word not found in pretrained embeddings: carradine\n",
            "Found by capitalizing: Carradine\n",
            "Word not found in pretrained embeddings: wellwritten\n",
            "No solution found for word: wellwritten\n",
            "Word not found in pretrained embeddings: sabrina\n",
            "Found by capitalizing: Sabrina\n",
            "Word not found in pretrained embeddings: raines\n",
            "Found by capitalizing: Raines\n",
            "Word not found in pretrained embeddings: othello\n",
            "Found by capitalizing: Othello\n",
            "Word not found in pretrained embeddings: meryl\n",
            "Found by capitalizing: Meryl\n",
            "Word not found in pretrained embeddings: lumet\n",
            "Found by capitalizing: Lumet\n",
            "Word not found in pretrained embeddings: favour\n",
            "Found by capitalizing: Favour\n",
            "Word not found in pretrained embeddings: disneys\n",
            "Found by capitalizing: Disneys\n",
            "Word not found in pretrained embeddings: bakshi\n",
            "Found by capitalizing: Bakshi\n",
            "Word not found in pretrained embeddings: antwone\n",
            "Found by capitalizing: Antwone\n",
            "Word not found in pretrained embeddings: ustinov\n",
            "Found by capitalizing: Ustinov\n",
            "Processed 5000 words out of 10000\n",
            "Word not found in pretrained embeddings: damme\n",
            "Found by capitalizing: Damme\n",
            "Word not found in pretrained embeddings: barrymore\n",
            "Found by capitalizing: Barrymore\n",
            "Word not found in pretrained embeddings: 19th\n",
            "No solution found for word: 19th\n",
            "Word not found in pretrained embeddings: 1995\n",
            "No solution found for word: 1995\n",
            "Word not found in pretrained embeddings: behaviour\n",
            "Found by capitalizing: Behaviour\n",
            "Word not found in pretrained embeddings: amitabh\n",
            "Found by capitalizing: Amitabh\n",
            "Word not found in pretrained embeddings: 1971\n",
            "No solution found for word: 1971\n",
            "Word not found in pretrained embeddings: whoopi\n",
            "Found by capitalizing: Whoopi\n",
            "Word not found in pretrained embeddings: shakespeares\n",
            "Found by capitalizing: Shakespeares\n",
            "Word not found in pretrained embeddings: palance\n",
            "Found by capitalizing: Palance\n",
            "Word not found in pretrained embeddings: kolchak\n",
            "Found by capitalizing: Kolchak\n",
            "Word not found in pretrained embeddings: connery\n",
            "Found by capitalizing: Connery\n",
            "Word not found in pretrained embeddings: carell\n",
            "Found by capitalizing: Carell\n",
            "Word not found in pretrained embeddings: biko\n",
            "Found by capitalizing: Biko\n",
            "Word not found in pretrained embeddings: 73\n",
            "No solution found for word: 73\n",
            "Word not found in pretrained embeddings: 1973\n",
            "No solution found for word: 1973\n",
            "Word not found in pretrained embeddings: timon\n",
            "Found by capitalizing: Timon\n",
            "Word not found in pretrained embeddings: malone\n",
            "Found by capitalizing: Malone\n",
            "Word not found in pretrained embeddings: hawke\n",
            "Found by capitalizing: Hawke\n",
            "Word not found in pretrained embeddings: griffith\n",
            "Found by capitalizing: Griffith\n",
            "Word not found in pretrained embeddings: dolph\n",
            "Found by capitalizing: Dolph\n",
            "Word not found in pretrained embeddings: 1997\n",
            "No solution found for word: 1997\n",
            "Word not found in pretrained embeddings: 1987\n",
            "No solution found for word: 1987\n",
            "Word not found in pretrained embeddings: 1968\n",
            "No solution found for word: 1968\n",
            "Word not found in pretrained embeddings: 1933\n",
            "No solution found for word: 1933\n",
            "Word not found in pretrained embeddings: winchester\n",
            "Found by capitalizing: Winchester\n",
            "Word not found in pretrained embeddings: rukh\n",
            "Found by capitalizing: Rukh\n",
            "Word not found in pretrained embeddings: pg13\n",
            "No solution found for word: pg13\n",
            "Word not found in pretrained embeddings: hitlers\n",
            "Found by capitalizing: Hitlers\n",
            "Word not found in pretrained embeddings: drivein\n",
            "No solution found for word: drivein\n",
            "Word not found in pretrained embeddings: 1993\n",
            "No solution found for word: 1993\n",
            "Word not found in pretrained embeddings: 1940s\n",
            "No solution found for word: 1940s\n",
            "Word not found in pretrained embeddings: mclaglen\n",
            "No solution found for word: mclaglen\n",
            "Word not found in pretrained embeddings: foxx\n",
            "Found by capitalizing: Foxx\n",
            "Word not found in pretrained embeddings: 1989\n",
            "No solution found for word: 1989\n",
            "Word not found in pretrained embeddings: thoughtprovoking\n",
            "No solution found for word: thoughtprovoking\n",
            "Word not found in pretrained embeddings: sg1\n",
            "No solution found for word: sg1\n",
            "Word not found in pretrained embeddings: 1986\n",
            "No solution found for word: 1986\n",
            "Word not found in pretrained embeddings: welldone\n",
            "Found by capitalizing: Welldone\n",
            "Word not found in pretrained embeddings: fontaine\n",
            "Found by capitalizing: Fontaine\n",
            "Word not found in pretrained embeddings: esther\n",
            "Found by capitalizing: Esther\n",
            "Word not found in pretrained embeddings: altman\n",
            "Found by capitalizing: Altman\n",
            "Word not found in pretrained embeddings: 75\n",
            "No solution found for word: 75\n",
            "Word not found in pretrained embeddings: 1981\n",
            "No solution found for word: 1981\n",
            "Word not found in pretrained embeddings: 1945\n",
            "No solution found for word: 1945\n",
            "Word not found in pretrained embeddings: –\n",
            "No solution found for word: –\n",
            "Word not found in pretrained embeddings: stallone\n",
            "Found by capitalizing: Stallone\n",
            "Word not found in pretrained embeddings: sirk\n",
            "Found by capitalizing: Sirk\n",
            "Word not found in pretrained embeddings: basinger\n",
            "Found by capitalizing: Basinger\n",
            "Word not found in pretrained embeddings: 23\n",
            "No solution found for word: 23\n",
            "Word not found in pretrained embeddings: 1984\n",
            "No solution found for word: 1984\n",
            "Word not found in pretrained embeddings: wendigo\n",
            "Found by capitalizing: Wendigo\n",
            "Word not found in pretrained embeddings: realised\n",
            "Found by capitalizing: Realised\n",
            "Word not found in pretrained embeddings: palma\n",
            "Found by capitalizing: Palma\n",
            "Word not found in pretrained embeddings: laurence\n",
            "Found by capitalizing: Laurence\n",
            "Word not found in pretrained embeddings: fulci\n",
            "Found by capitalizing: Fulci\n",
            "Word not found in pretrained embeddings: centre\n",
            "Found by capitalizing: Centre\n",
            "Word not found in pretrained embeddings: cassidy\n",
            "Found by capitalizing: Cassidy\n",
            "Word not found in pretrained embeddings: allens\n",
            "Found by capitalizing: Allens\n",
            "Word not found in pretrained embeddings: 1936\n",
            "No solution found for word: 1936\n",
            "Word not found in pretrained embeddings: paxton\n",
            "Found by capitalizing: Paxton\n",
            "Word not found in pretrained embeddings: nicolas\n",
            "Found by capitalizing: Nicolas\n",
            "Word not found in pretrained embeddings: marlon\n",
            "Found by capitalizing: Marlon\n",
            "Word not found in pretrained embeddings: gere\n",
            "Found by capitalizing: Gere\n",
            "Word not found in pretrained embeddings: gamera\n",
            "Found by capitalizing: Gamera\n",
            "Word not found in pretrained embeddings: austen\n",
            "Found by capitalizing: Austen\n",
            "Word not found in pretrained embeddings: 1979\n",
            "No solution found for word: 1979\n",
            "Word not found in pretrained embeddings: 1970\n",
            "No solution found for word: 1970\n",
            "Word not found in pretrained embeddings: tarantino\n",
            "Found by capitalizing: Tarantino\n",
            "Word not found in pretrained embeddings: ratso\n",
            "Found by capitalizing: Ratso\n",
            "Word not found in pretrained embeddings: mathieu\n",
            "Found by capitalizing: Mathieu\n",
            "Word not found in pretrained embeddings: deanna\n",
            "Found by capitalizing: Deanna\n",
            "Word not found in pretrained embeddings: audrey\n",
            "Found by capitalizing: Audrey\n",
            "Word not found in pretrained embeddings: alexandre\n",
            "Found by capitalizing: Alexandre\n",
            "Word not found in pretrained embeddings: 2008\n",
            "No solution found for word: 2008\n",
            "Word not found in pretrained embeddings: 1976\n",
            "No solution found for word: 1976\n",
            "Word not found in pretrained embeddings: 1969\n",
            "No solution found for word: 1969\n",
            "Word not found in pretrained embeddings: 1939\n",
            "No solution found for word: 1939\n",
            "Word not found in pretrained embeddings: soso\n",
            "Found by capitalizing: Soso\n",
            "Word not found in pretrained embeddings: quaid\n",
            "Found by capitalizing: Quaid\n",
            "Word not found in pretrained embeddings: kline\n",
            "Found by capitalizing: Kline\n",
            "Word not found in pretrained embeddings: deniro\n",
            "Found by capitalizing: Deniro\n",
            "Word not found in pretrained embeddings: quentin\n",
            "Found by capitalizing: Quentin\n",
            "Word not found in pretrained embeddings: knightley\n",
            "Found by capitalizing: Knightley\n",
            "Word not found in pretrained embeddings: duvall\n",
            "Found by capitalizing: Duvall\n",
            "Word not found in pretrained embeddings: beowulf\n",
            "Found by capitalizing: Beowulf\n",
            "Word not found in pretrained embeddings: verhoeven\n",
            "Found by capitalizing: Verhoeven\n",
            "Processed 6000 words out of 10000\n",
            "Word not found in pretrained embeddings: lukas\n",
            "Found by capitalizing: Lukas\n",
            "Word not found in pretrained embeddings: ingrid\n",
            "Found by capitalizing: Ingrid\n",
            "Word not found in pretrained embeddings: hackman\n",
            "Found by capitalizing: Hackman\n",
            "Word not found in pretrained embeddings: freddys\n",
            "Found by capitalizing: Freddys\n",
            "Word not found in pretrained embeddings: 95\n",
            "No solution found for word: 95\n",
            "Word not found in pretrained embeddings: 1978\n",
            "No solution found for word: 1978\n",
            "Word not found in pretrained embeddings: zizek\n",
            "Found by capitalizing: Zizek\n",
            "Word not found in pretrained embeddings: wellmade\n",
            "No solution found for word: wellmade\n",
            "Word not found in pretrained embeddings: irene\n",
            "Found by capitalizing: Irene\n",
            "Word not found in pretrained embeddings: fairbanks\n",
            "Found by capitalizing: Fairbanks\n",
            "Word not found in pretrained embeddings: bronson\n",
            "Found by capitalizing: Bronson\n",
            "Word not found in pretrained embeddings: amrita\n",
            "Found by capitalizing: Amrita\n",
            "Word not found in pretrained embeddings: 28\n",
            "No solution found for word: 28\n",
            "Word not found in pretrained embeddings: 22\n",
            "No solution found for word: 22\n",
            "Word not found in pretrained embeddings: 21st\n",
            "No solution found for word: 21st\n",
            "Word not found in pretrained embeddings: 1988\n",
            "No solution found for word: 1988\n",
            "Word not found in pretrained embeddings: 1977\n",
            "No solution found for word: 1977\n",
            "Word not found in pretrained embeddings: 1000\n",
            "No solution found for word: 1000\n",
            "Word not found in pretrained embeddings: scorsese\n",
            "Found by capitalizing: Scorsese\n",
            "Word not found in pretrained embeddings: melvyn\n",
            "Found by capitalizing: Melvyn\n",
            "Word not found in pretrained embeddings: kinnear\n",
            "Found by capitalizing: Kinnear\n",
            "Word not found in pretrained embeddings: gypo\n",
            "Found by capitalizing: Gypo\n",
            "Word not found in pretrained embeddings: dillinger\n",
            "Found by capitalizing: Dillinger\n",
            "Word not found in pretrained embeddings: cushing\n",
            "Found by capitalizing: Cushing\n",
            "Word not found in pretrained embeddings: 1991\n",
            "No solution found for word: 1991\n",
            "Word not found in pretrained embeddings: 1985\n",
            "No solution found for word: 1985\n",
            "Word not found in pretrained embeddings: 19\n",
            "No solution found for word: 19\n",
            "Word not found in pretrained embeddings: zane\n",
            "Found by capitalizing: Zane\n",
            "Word not found in pretrained embeddings: stewarts\n",
            "Found by capitalizing: Stewarts\n",
            "Word not found in pretrained embeddings: soderbergh\n",
            "Found by capitalizing: Soderbergh\n",
            "Word not found in pretrained embeddings: mitchum\n",
            "Found by capitalizing: Mitchum\n",
            "Word not found in pretrained embeddings: kazan\n",
            "Found by capitalizing: Kazan\n",
            "Word not found in pretrained embeddings: juliette\n",
            "Found by capitalizing: Juliette\n",
            "Word not found in pretrained embeddings: huston\n",
            "Found by capitalizing: Huston\n",
            "Word not found in pretrained embeddings: ebert\n",
            "Found by capitalizing: Ebert\n",
            "Word not found in pretrained embeddings: timberlake\n",
            "Found by capitalizing: Timberlake\n",
            "Word not found in pretrained embeddings: kurosawa\n",
            "Found by capitalizing: Kurosawa\n",
            "Word not found in pretrained embeddings: hartley\n",
            "Found by capitalizing: Hartley\n",
            "Word not found in pretrained embeddings: harlow\n",
            "Found by capitalizing: Harlow\n",
            "Word not found in pretrained embeddings: bmovies\n",
            "No solution found for word: bmovies\n",
            "Word not found in pretrained embeddings: 1994\n",
            "No solution found for word: 1994\n",
            "Word not found in pretrained embeddings: 1950\n",
            "No solution found for word: 1950\n",
            "Word not found in pretrained embeddings: zombi\n",
            "Found by capitalizing: Zombi\n",
            "Word not found in pretrained embeddings: loretta\n",
            "Found by capitalizing: Loretta\n",
            "Word not found in pretrained embeddings: jacksons\n",
            "Found by capitalizing: Jacksons\n",
            "Word not found in pretrained embeddings: itthis\n",
            "No solution found for word: itthis\n",
            "Word not found in pretrained embeddings: itit\n",
            "No solution found for word: itit\n",
            "Word not found in pretrained embeddings: hayworth\n",
            "Found by capitalizing: Hayworth\n",
            "Word not found in pretrained embeddings: goldblum\n",
            "Found by capitalizing: Goldblum\n",
            "Word not found in pretrained embeddings: daylewis\n",
            "No solution found for word: daylewis\n",
            "Word not found in pretrained embeddings: cecil\n",
            "Found by capitalizing: Cecil\n",
            "Word not found in pretrained embeddings: africanamerican\n",
            "No solution found for word: africanamerican\n",
            "Word not found in pretrained embeddings: affleck\n",
            "Found by capitalizing: Affleck\n",
            "Word not found in pretrained embeddings: 21\n",
            "No solution found for word: 21\n",
            "Word not found in pretrained embeddings: 1959\n",
            "No solution found for word: 1959\n",
            "Word not found in pretrained embeddings: 1944\n",
            "No solution found for word: 1944\n",
            "Word not found in pretrained embeddings: xfiles\n",
            "No solution found for word: xfiles\n",
            "Word not found in pretrained embeddings: wayans\n",
            "Found by capitalizing: Wayans\n",
            "Word not found in pretrained embeddings: vargas\n",
            "Found by capitalizing: Vargas\n",
            "Word not found in pretrained embeddings: timethe\n",
            "No solution found for word: timethe\n",
            "Word not found in pretrained embeddings: silverman\n",
            "Found by capitalizing: Silverman\n",
            "Word not found in pretrained embeddings: scotts\n",
            "Found by capitalizing: Scotts\n",
            "Word not found in pretrained embeddings: reiser\n",
            "Found by capitalizing: Reiser\n",
            "Word not found in pretrained embeddings: pickford\n",
            "Found by capitalizing: Pickford\n",
            "Word not found in pretrained embeddings: nolte\n",
            "Found by capitalizing: Nolte\n",
            "Word not found in pretrained embeddings: liveaction\n",
            "No solution found for word: liveaction\n",
            "Word not found in pretrained embeddings: edith\n",
            "Found by capitalizing: Edith\n",
            "Word not found in pretrained embeddings: colours\n",
            "Found by capitalizing: Colours\n",
            "Word not found in pretrained embeddings: caron\n",
            "Found by capitalizing: Caron\n",
            "Word not found in pretrained embeddings: bsg\n",
            "No solution found for word: bsg\n",
            "Word not found in pretrained embeddings: axe\n",
            "Found by capitalizing: Axe\n",
            "Word not found in pretrained embeddings: 1974\n",
            "No solution found for word: 1974\n",
            "Word not found in pretrained embeddings: wellacted\n",
            "No solution found for word: wellacted\n",
            "Word not found in pretrained embeddings: soylent\n",
            "Found by capitalizing: Soylent\n",
            "Word not found in pretrained embeddings: rosemarys\n",
            "No solution found for word: rosemarys\n",
            "Word not found in pretrained embeddings: ohara\n",
            "Found by capitalizing: Ohara\n",
            "Word not found in pretrained embeddings: macarthur\n",
            "Found by capitalizing: Macarthur\n",
            "Word not found in pretrained embeddings: harriet\n",
            "Found by capitalizing: Harriet\n",
            "Word not found in pretrained embeddings: gwyneth\n",
            "Found by capitalizing: Gwyneth\n",
            "Word not found in pretrained embeddings: gillian\n",
            "Found by capitalizing: Gillian\n",
            "Word not found in pretrained embeddings: fishburne\n",
            "Found by capitalizing: Fishburne\n",
            "Word not found in pretrained embeddings: attenborough\n",
            "Found by capitalizing: Attenborough\n",
            "Word not found in pretrained embeddings: 300\n",
            "No solution found for word: 300\n",
            "Word not found in pretrained embeddings: 1975\n",
            "No solution found for word: 1975\n",
            "Word not found in pretrained embeddings: 1940\n",
            "No solution found for word: 1940\n",
            "Word not found in pretrained embeddings: troma\n",
            "Found by capitalizing: Troma\n",
            "Word not found in pretrained embeddings: sarandon\n",
            "Found by capitalizing: Sarandon\n",
            "Word not found in pretrained embeddings: pumbaa\n",
            "Found by capitalizing: Pumbaa\n",
            "Word not found in pretrained embeddings: hepburn\n",
            "Found by capitalizing: Hepburn\n",
            "Word not found in pretrained embeddings: firstrate\n",
            "No solution found for word: firstrate\n",
            "Word not found in pretrained embeddings: clive\n",
            "Found by capitalizing: Clive\n",
            "Word not found in pretrained embeddings: chiba\n",
            "Found by capitalizing: Chiba\n",
            "Word not found in pretrained embeddings: adele\n",
            "Found by capitalizing: Adele\n",
            "Word not found in pretrained embeddings: 1998\n",
            "No solution found for word: 1998\n",
            "Word not found in pretrained embeddings: tomei\n",
            "Found by capitalizing: Tomei\n",
            "Word not found in pretrained embeddings: thurman\n",
            "Found by capitalizing: Thurman\n",
            "Word not found in pretrained embeddings: preminger\n",
            "Found by capitalizing: Preminger\n",
            "Word not found in pretrained embeddings: penelope\n",
            "Found by capitalizing: Penelope\n",
            "Word not found in pretrained embeddings: pegg\n",
            "Found by capitalizing: Pegg\n",
            "Word not found in pretrained embeddings: minnelli\n",
            "Found by capitalizing: Minnelli\n",
            "Word not found in pretrained embeddings: mcqueen\n",
            "Found by capitalizing: Mcqueen\n",
            "Processed 7000 words out of 10000\n",
            "Word not found in pretrained embeddings: collette\n",
            "Found by capitalizing: Collette\n",
            "Word not found in pretrained embeddings: antonioni\n",
            "Found by capitalizing: Antonioni\n",
            "Word not found in pretrained embeddings: 1982\n",
            "No solution found for word: 1982\n",
            "Word not found in pretrained embeddings: 1920s\n",
            "No solution found for word: 1920s\n",
            "Word not found in pretrained embeddings: 101\n",
            "No solution found for word: 101\n",
            "Word not found in pretrained embeddings: tonys\n",
            "Found by capitalizing: Tonys\n",
            "Word not found in pretrained embeddings: tongueincheek\n",
            "No solution found for word: tongueincheek\n",
            "Word not found in pretrained embeddings: tierney\n",
            "Found by capitalizing: Tierney\n",
            "Word not found in pretrained embeddings: themthe\n",
            "No solution found for word: themthe\n",
            "Word not found in pretrained embeddings: thelma\n",
            "Found by capitalizing: Thelma\n",
            "Word not found in pretrained embeddings: selfindulgent\n",
            "No solution found for word: selfindulgent\n",
            "Word not found in pretrained embeddings: realises\n",
            "Found by capitalizing: Realises\n",
            "Word not found in pretrained embeddings: programme\n",
            "Found by capitalizing: Programme\n",
            "Word not found in pretrained embeddings: precode\n",
            "No solution found for word: precode\n",
            "Word not found in pretrained embeddings: moores\n",
            "Found by capitalizing: Moores\n",
            "Word not found in pretrained embeddings: longoria\n",
            "Found by capitalizing: Longoria\n",
            "Word not found in pretrained embeddings: kubricks\n",
            "No solution found for word: kubricks\n",
            "Word not found in pretrained embeddings: kellys\n",
            "Found by capitalizing: Kellys\n",
            "Word not found in pretrained embeddings: haines\n",
            "Found by capitalizing: Haines\n",
            "Word not found in pretrained embeddings: hadley\n",
            "Found by capitalizing: Hadley\n",
            "Word not found in pretrained embeddings: gielgud\n",
            "Found by capitalizing: Gielgud\n",
            "Word not found in pretrained embeddings: demille\n",
            "Found by capitalizing: Demille\n",
            "Word not found in pretrained embeddings: dafoe\n",
            "Found by capitalizing: Dafoe\n",
            "Word not found in pretrained embeddings: characterisation\n",
            "Found by capitalizing: Characterisation\n",
            "Word not found in pretrained embeddings: casablanca\n",
            "Found by capitalizing: Casablanca\n",
            "Word not found in pretrained embeddings: busey\n",
            "Found by capitalizing: Busey\n",
            "Word not found in pretrained embeddings: blandings\n",
            "Found by capitalizing: Blandings\n",
            "Word not found in pretrained embeddings: beckinsale\n",
            "Found by capitalizing: Beckinsale\n",
            "Word not found in pretrained embeddings: alvin\n",
            "Found by capitalizing: Alvin\n",
            "Word not found in pretrained embeddings: 200\n",
            "No solution found for word: 200\n",
            "Word not found in pretrained embeddings: 1992\n",
            "No solution found for word: 1992\n",
            "Word not found in pretrained embeddings: 1963\n",
            "No solution found for word: 1963\n",
            "Word not found in pretrained embeddings: 1953\n",
            "No solution found for word: 1953\n",
            "Word not found in pretrained embeddings: 1948\n",
            "No solution found for word: 1948\n",
            "Word not found in pretrained embeddings: 1943\n",
            "No solution found for word: 1943\n",
            "Word not found in pretrained embeddings: 1934\n",
            "No solution found for word: 1934\n",
            "Word not found in pretrained embeddings: truman\n",
            "Found by capitalizing: Truman\n",
            "Word not found in pretrained embeddings: sholay\n",
            "Found by capitalizing: Sholay\n",
            "Word not found in pretrained embeddings: scoobydoo\n",
            "No solution found for word: scoobydoo\n",
            "Word not found in pretrained embeddings: rowlands\n",
            "Found by capitalizing: Rowlands\n",
            "Word not found in pretrained embeddings: movieit\n",
            "No solution found for word: movieit\n",
            "Word not found in pretrained embeddings: masterson\n",
            "Found by capitalizing: Masterson\n",
            "Word not found in pretrained embeddings: finney\n",
            "Found by capitalizing: Finney\n",
            "Word not found in pretrained embeddings: favourites\n",
            "Found by capitalizing: Favourites\n",
            "Word not found in pretrained embeddings: branaghs\n",
            "No solution found for word: branaghs\n",
            "Word not found in pretrained embeddings: arkin\n",
            "Found by capitalizing: Arkin\n",
            "Word not found in pretrained embeddings: 99\n",
            "No solution found for word: 99\n",
            "Word not found in pretrained embeddings: 85\n",
            "No solution found for word: 85\n",
            "Word not found in pretrained embeddings: 1951\n",
            "No solution found for word: 1951\n",
            "Word not found in pretrained embeddings: visconti\n",
            "Found by capitalizing: Visconti\n",
            "Word not found in pretrained embeddings: galactica\n",
            "Found by capitalizing: Galactica\n",
            "Word not found in pretrained embeddings: gackt\n",
            "Found by capitalizing: Gackt\n",
            "Word not found in pretrained embeddings: errol\n",
            "Found by capitalizing: Errol\n",
            "Word not found in pretrained embeddings: englund\n",
            "Found by capitalizing: Englund\n",
            "Word not found in pretrained embeddings: dahmer\n",
            "Found by capitalizing: Dahmer\n",
            "Word not found in pretrained embeddings: 34\n",
            "No solution found for word: 34\n",
            "Word not found in pretrained embeddings: sondra\n",
            "Found by capitalizing: Sondra\n",
            "Word not found in pretrained embeddings: pfeiffer\n",
            "Found by capitalizing: Pfeiffer\n",
            "Word not found in pretrained embeddings: iturbi\n",
            "No solution found for word: iturbi\n",
            "Word not found in pretrained embeddings: fassbinder\n",
            "Found by capitalizing: Fassbinder\n",
            "Word not found in pretrained embeddings: corman\n",
            "Found by capitalizing: Corman\n",
            "Word not found in pretrained embeddings: cedric\n",
            "Found by capitalizing: Cedric\n",
            "Word not found in pretrained embeddings: cassavetes\n",
            "Found by capitalizing: Cassavetes\n",
            "Word not found in pretrained embeddings: capote\n",
            "Found by capitalizing: Capote\n",
            "Word not found in pretrained embeddings: 1967\n",
            "No solution found for word: 1967\n",
            "Word not found in pretrained embeddings: tsui\n",
            "Found by capitalizing: Tsui\n",
            "Word not found in pretrained embeddings: takashi\n",
            "Found by capitalizing: Takashi\n",
            "Word not found in pretrained embeddings: taime\n",
            "Found by capitalizing: Taime\n",
            "Word not found in pretrained embeddings: northam\n",
            "Found by capitalizing: Northam\n",
            "Word not found in pretrained embeddings: miikes\n",
            "No solution found for word: miikes\n",
            "Word not found in pretrained embeddings: marisa\n",
            "Found by capitalizing: Marisa\n",
            "Word not found in pretrained embeddings: keanu\n",
            "Found by capitalizing: Keanu\n",
            "Word not found in pretrained embeddings: jagger\n",
            "Found by capitalizing: Jagger\n",
            "Word not found in pretrained embeddings: hitchcocks\n",
            "Found by capitalizing: Hitchcocks\n",
            "Word not found in pretrained embeddings: gershwin\n",
            "Found by capitalizing: Gershwin\n",
            "Word not found in pretrained embeddings: cheech\n",
            "Found by capitalizing: Cheech\n",
            "Word not found in pretrained embeddings: blaise\n",
            "Found by capitalizing: Blaise\n",
            "Word not found in pretrained embeddings: barbra\n",
            "Found by capitalizing: Barbra\n",
            "Word not found in pretrained embeddings: rourke\n",
            "Found by capitalizing: Rourke\n",
            "Word not found in pretrained embeddings: myrna\n",
            "Found by capitalizing: Myrna\n",
            "Word not found in pretrained embeddings: mustve\n",
            "No solution found for word: mustve\n",
            "Word not found in pretrained embeddings: miyazaki\n",
            "Found by capitalizing: Miyazaki\n",
            "Word not found in pretrained embeddings: massey\n",
            "Found by capitalizing: Massey\n",
            "Word not found in pretrained embeddings: kilmer\n",
            "Found by capitalizing: Kilmer\n",
            "Word not found in pretrained embeddings: hartleys\n",
            "Found by capitalizing: Hartleys\n",
            "Word not found in pretrained embeddings: geoffrey\n",
            "Found by capitalizing: Geoffrey\n",
            "Word not found in pretrained embeddings: ferrell\n",
            "Found by capitalizing: Ferrell\n",
            "Word not found in pretrained embeddings: ealing\n",
            "Found by capitalizing: Ealing\n",
            "Word not found in pretrained embeddings: davids\n",
            "Found by capitalizing: Davids\n",
            "Word not found in pretrained embeddings: benoit\n",
            "Found by capitalizing: Benoit\n",
            "Word not found in pretrained embeddings: bakshis\n",
            "No solution found for word: bakshis\n",
            "Word not found in pretrained embeddings: 1958\n",
            "No solution found for word: 1958\n",
            "Word not found in pretrained embeddings: 1955\n",
            "No solution found for word: 1955\n",
            "Word not found in pretrained embeddings: timei\n",
            "No solution found for word: timei\n",
            "Word not found in pretrained embeddings: selfcentered\n",
            "No solution found for word: selfcentered\n",
            "Word not found in pretrained embeddings: romeros\n",
            "Found by capitalizing: Romeros\n",
            "Word not found in pretrained embeddings: oneill\n",
            "Found by capitalizing: Oneill\n",
            "Word not found in pretrained embeddings: lynchs\n",
            "Found by capitalizing: Lynchs\n",
            "Word not found in pretrained embeddings: kristofferson\n",
            "Found by capitalizing: Kristofferson\n",
            "Word not found in pretrained embeddings: kinski\n",
            "Found by capitalizing: Kinski\n",
            "Word not found in pretrained embeddings: itbut\n",
            "No solution found for word: itbut\n",
            "Processed 8000 words out of 10000\n",
            "Word not found in pretrained embeddings: himthe\n",
            "No solution found for word: himthe\n",
            "Word not found in pretrained embeddings: harron\n",
            "Found by capitalizing: Harron\n",
            "Word not found in pretrained embeddings: govinda\n",
            "Found by capitalizing: Govinda\n",
            "Word not found in pretrained embeddings: gena\n",
            "Found by capitalizing: Gena\n",
            "Word not found in pretrained embeddings: gannon\n",
            "Found by capitalizing: Gannon\n",
            "Word not found in pretrained embeddings: filmthis\n",
            "No solution found for word: filmthis\n",
            "Word not found in pretrained embeddings: filmit\n",
            "No solution found for word: filmit\n",
            "Word not found in pretrained embeddings: ewoks\n",
            "Found by capitalizing: Ewoks\n",
            "Word not found in pretrained embeddings: edmund\n",
            "Found by capitalizing: Edmund\n",
            "Word not found in pretrained embeddings: eastwoods\n",
            "Found by capitalizing: Eastwoods\n",
            "Word not found in pretrained embeddings: durbin\n",
            "Found by capitalizing: Durbin\n",
            "Word not found in pretrained embeddings: dreyfuss\n",
            "Found by capitalizing: Dreyfuss\n",
            "Word not found in pretrained embeddings: cancelled\n",
            "Found by capitalizing: Cancelled\n",
            "Word not found in pretrained embeddings: blondell\n",
            "Found by capitalizing: Blondell\n",
            "Word not found in pretrained embeddings: azumi\n",
            "Found by capitalizing: Azumi\n",
            "Word not found in pretrained embeddings: arquette\n",
            "Found by capitalizing: Arquette\n",
            "Word not found in pretrained embeddings: 700\n",
            "No solution found for word: 700\n",
            "Word not found in pretrained embeddings: 51\n",
            "No solution found for word: 51\n",
            "Word not found in pretrained embeddings: 26\n",
            "No solution found for word: 26\n",
            "Word not found in pretrained embeddings: zorro\n",
            "Found by capitalizing: Zorro\n",
            "Word not found in pretrained embeddings: storythe\n",
            "No solution found for word: storythe\n",
            "Word not found in pretrained embeddings: sammi\n",
            "Found by capitalizing: Sammi\n",
            "Word not found in pretrained embeddings: redford\n",
            "Found by capitalizing: Redford\n",
            "Word not found in pretrained embeddings: mcdermott\n",
            "Found by capitalizing: Mcdermott\n",
            "Word not found in pretrained embeddings: malden\n",
            "Found by capitalizing: Malden\n",
            "Word not found in pretrained embeddings: madsen\n",
            "Found by capitalizing: Madsen\n",
            "Word not found in pretrained embeddings: gretchen\n",
            "Found by capitalizing: Gretchen\n",
            "Word not found in pretrained embeddings: grendel\n",
            "Found by capitalizing: Grendel\n",
            "Word not found in pretrained embeddings: fellini\n",
            "Found by capitalizing: Fellini\n",
            "Word not found in pretrained embeddings: elsa\n",
            "Found by capitalizing: Elsa\n",
            "Word not found in pretrained embeddings: dunne\n",
            "Found by capitalizing: Dunne\n",
            "Word not found in pretrained embeddings: directtovideo\n",
            "No solution found for word: directtovideo\n",
            "Word not found in pretrained embeddings: caprica\n",
            "Found by capitalizing: Caprica\n",
            "Word not found in pretrained embeddings: batwoman\n",
            "Found by capitalizing: Batwoman\n",
            "Word not found in pretrained embeddings: altmans\n",
            "Found by capitalizing: Altmans\n",
            "Word not found in pretrained embeddings: 1932\n",
            "No solution found for word: 1932\n",
            "Word not found in pretrained embeddings: waythe\n",
            "No solution found for word: waythe\n",
            "Word not found in pretrained embeddings: vincenzo\n",
            "Found by capitalizing: Vincenzo\n",
            "Word not found in pretrained embeddings: theatres\n",
            "Found by capitalizing: Theatres\n",
            "Word not found in pretrained embeddings: straighttovideo\n",
            "No solution found for word: straighttovideo\n",
            "Word not found in pretrained embeddings: ossessione\n",
            "No solution found for word: ossessione\n",
            "Word not found in pretrained embeddings: oscarwinning\n",
            "Found by capitalizing: Oscarwinning\n",
            "Word not found in pretrained embeddings: niven\n",
            "Found by capitalizing: Niven\n",
            "Word not found in pretrained embeddings: neeson\n",
            "Found by capitalizing: Neeson\n",
            "Word not found in pretrained embeddings: moviethis\n",
            "No solution found for word: moviethis\n",
            "Word not found in pretrained embeddings: mostel\n",
            "Found by capitalizing: Mostel\n",
            "Word not found in pretrained embeddings: mcdowell\n",
            "Found by capitalizing: Mcdowell\n",
            "Word not found in pretrained embeddings: lucille\n",
            "Found by capitalizing: Lucille\n",
            "Word not found in pretrained embeddings: laputa\n",
            "Found by capitalizing: Laputa\n",
            "Word not found in pretrained embeddings: lansbury\n",
            "Found by capitalizing: Lansbury\n",
            "Word not found in pretrained embeddings: judgement\n",
            "Found by capitalizing: Judgement\n",
            "Word not found in pretrained embeddings: johansson\n",
            "Found by capitalizing: Johansson\n",
            "Word not found in pretrained embeddings: hanzo\n",
            "Found by capitalizing: Hanzo\n",
            "Word not found in pretrained embeddings: gilliam\n",
            "Found by capitalizing: Gilliam\n",
            "Word not found in pretrained embeddings: faye\n",
            "Found by capitalizing: Faye\n",
            "Word not found in pretrained embeddings: farrah\n",
            "Found by capitalizing: Farrah\n",
            "Word not found in pretrained embeddings: elisha\n",
            "Found by capitalizing: Elisha\n",
            "Word not found in pretrained embeddings: depardieu\n",
            "Found by capitalizing: Depardieu\n",
            "Word not found in pretrained embeddings: deathstalker\n",
            "No solution found for word: deathstalker\n",
            "Word not found in pretrained embeddings: callahan\n",
            "Found by capitalizing: Callahan\n",
            "Word not found in pretrained embeddings: 250\n",
            "No solution found for word: 250\n",
            "Word not found in pretrained embeddings: zelah\n",
            "No solution found for word: zelah\n",
            "Word not found in pretrained embeddings: sykes\n",
            "Found by capitalizing: Sykes\n",
            "Word not found in pretrained embeddings: sammo\n",
            "Found by capitalizing: Sammo\n",
            "Word not found in pretrained embeddings: naschy\n",
            "Found by capitalizing: Naschy\n",
            "Word not found in pretrained embeddings: loren\n",
            "Found by capitalizing: Loren\n",
            "Word not found in pretrained embeddings: liotta\n",
            "Found by capitalizing: Liotta\n",
            "Word not found in pretrained embeddings: krueger\n",
            "Found by capitalizing: Krueger\n",
            "Word not found in pretrained embeddings: kornbluth\n",
            "Found by capitalizing: Kornbluth\n",
            "Word not found in pretrained embeddings: keitel\n",
            "Found by capitalizing: Keitel\n",
            "Word not found in pretrained embeddings: harrys\n",
            "Found by capitalizing: Harrys\n",
            "Word not found in pretrained embeddings: harilal\n",
            "Found by capitalizing: Harilal\n",
            "Word not found in pretrained embeddings: goldsworthy\n",
            "Found by capitalizing: Goldsworthy\n",
            "Word not found in pretrained embeddings: elmer\n",
            "Found by capitalizing: Elmer\n",
            "Word not found in pretrained embeddings: delia\n",
            "Found by capitalizing: Delia\n",
            "Word not found in pretrained embeddings: berenger\n",
            "Found by capitalizing: Berenger\n",
            "Word not found in pretrained embeddings: arnie\n",
            "Found by capitalizing: Arnie\n",
            "Word not found in pretrained embeddings: 1966\n",
            "No solution found for word: 1966\n",
            "Word not found in pretrained embeddings: 1946\n",
            "No solution found for word: 1946\n",
            "Word not found in pretrained embeddings: 1938\n",
            "No solution found for word: 1938\n",
            "Word not found in pretrained embeddings: 150\n",
            "No solution found for word: 150\n",
            "Word not found in pretrained embeddings: therethe\n",
            "No solution found for word: therethe\n",
            "Word not found in pretrained embeddings: theodore\n",
            "Found by capitalizing: Theodore\n",
            "Word not found in pretrained embeddings: slowmotion\n",
            "No solution found for word: slowmotion\n",
            "Word not found in pretrained embeddings: shinae\n",
            "No solution found for word: shinae\n",
            "Word not found in pretrained embeddings: shakespearean\n",
            "Found by capitalizing: Shakespearean\n",
            "Word not found in pretrained embeddings: redgrave\n",
            "Found by capitalizing: Redgrave\n",
            "Word not found in pretrained embeddings: obrien\n",
            "Found by capitalizing: Obrien\n",
            "Word not found in pretrained embeddings: noam\n",
            "Found by capitalizing: Noam\n",
            "Word not found in pretrained embeddings: natasha\n",
            "Found by capitalizing: Natasha\n",
            "Word not found in pretrained embeddings: movieits\n",
            "No solution found for word: movieits\n",
            "Word not found in pretrained embeddings: mcadams\n",
            "Found by capitalizing: Mcadams\n",
            "Word not found in pretrained embeddings: keatons\n",
            "Found by capitalizing: Keatons\n",
            "Word not found in pretrained embeddings: isabelle\n",
            "Found by capitalizing: Isabelle\n",
            "Word not found in pretrained embeddings: grady\n",
            "Found by capitalizing: Grady\n",
            "Word not found in pretrained embeddings: godard\n",
            "Found by capitalizing: Godard\n",
            "Word not found in pretrained embeddings: gino\n",
            "Found by capitalizing: Gino\n",
            "Word not found in pretrained embeddings: gandolfini\n",
            "Found by capitalizing: Gandolfini\n",
            "Word not found in pretrained embeddings: fatherson\n",
            "No solution found for word: fatherson\n",
            "Word not found in pretrained embeddings: duryea\n",
            "Found by capitalizing: Duryea\n",
            "Word not found in pretrained embeddings: darkman\n",
            "Found by capitalizing: Darkman\n",
            "Word not found in pretrained embeddings: culkin\n",
            "Found by capitalizing: Culkin\n",
            "Word not found in pretrained embeddings: christensen\n",
            "Found by capitalizing: Christensen\n",
            "Word not found in pretrained embeddings: cheadle\n",
            "Found by capitalizing: Cheadle\n",
            "Word not found in pretrained embeddings: carlitos\n",
            "Found by capitalizing: Carlitos\n",
            "Word not found in pretrained embeddings: bolivia\n",
            "Found by capitalizing: Bolivia\n",
            "Word not found in pretrained embeddings: bernsen\n",
            "Found by capitalizing: Bernsen\n",
            "Word not found in pretrained embeddings: 27\n",
            "No solution found for word: 27\n",
            "Word not found in pretrained embeddings: 2009\n",
            "No solution found for word: 2009\n",
            "Word not found in pretrained embeddings: 1957\n",
            "No solution found for word: 1957\n",
            "Word not found in pretrained embeddings: waynes\n",
            "Found by capitalizing: Waynes\n",
            "Word not found in pretrained embeddings: warhols\n",
            "Found by capitalizing: Warhols\n",
            "Word not found in pretrained embeddings: vaughn\n",
            "Found by capitalizing: Vaughn\n",
            "Word not found in pretrained embeddings: streisands\n",
            "No solution found for word: streisands\n",
            "Word not found in pretrained embeddings: sematary\n",
            "No solution found for word: sematary\n",
            "Word not found in pretrained embeddings: rosenstrasse\n",
            "Found by capitalizing: Rosenstrasse\n",
            "Word not found in pretrained embeddings: rohmer\n",
            "Found by capitalizing: Rohmer\n",
            "Word not found in pretrained embeddings: rizzo\n",
            "Found by capitalizing: Rizzo\n",
            "Word not found in pretrained embeddings: pertwee\n",
            "Found by capitalizing: Pertwee\n",
            "Word not found in pretrained embeddings: paperhouse\n",
            "No solution found for word: paperhouse\n",
            "Word not found in pretrained embeddings: myra\n",
            "Found by capitalizing: Myra\n",
            "Word not found in pretrained embeddings: murphys\n",
            "Found by capitalizing: Murphys\n",
            "Word not found in pretrained embeddings: muriel\n",
            "Found by capitalizing: Muriel\n",
            "Word not found in pretrained embeddings: lubitsch\n",
            "Found by capitalizing: Lubitsch\n",
            "Processed 9000 words out of 10000\n",
            "Word not found in pretrained embeddings: kalifornia\n",
            "Found by capitalizing: Kalifornia\n",
            "Word not found in pretrained embeddings: giovanna\n",
            "Found by capitalizing: Giovanna\n",
            "Word not found in pretrained embeddings: garfield\n",
            "Found by capitalizing: Garfield\n",
            "Word not found in pretrained embeddings: dunst\n",
            "Found by capitalizing: Dunst\n",
            "Word not found in pretrained embeddings: dominick\n",
            "Found by capitalizing: Dominick\n",
            "Word not found in pretrained embeddings: cruella\n",
            "Found by capitalizing: Cruella\n",
            "Word not found in pretrained embeddings: crouse\n",
            "Found by capitalizing: Crouse\n",
            "Word not found in pretrained embeddings: coburn\n",
            "Found by capitalizing: Coburn\n",
            "Word not found in pretrained embeddings: clarence\n",
            "Found by capitalizing: Clarence\n",
            "Word not found in pretrained embeddings: cassel\n",
            "Found by capitalizing: Cassel\n",
            "Word not found in pretrained embeddings: caruso\n",
            "Found by capitalizing: Caruso\n",
            "Word not found in pretrained embeddings: brashear\n",
            "Found by capitalizing: Brashear\n",
            "Word not found in pretrained embeddings: blackandwhite\n",
            "No solution found for word: blackandwhite\n",
            "Word not found in pretrained embeddings: bathsheba\n",
            "Found by capitalizing: Bathsheba\n",
            "Word not found in pretrained embeddings: andersons\n",
            "Found by capitalizing: Andersons\n",
            "Word not found in pretrained embeddings: 98\n",
            "No solution found for word: 98\n",
            "Word not found in pretrained embeddings: 010\n",
            "No solution found for word: 010\n",
            "Word not found in pretrained embeddings: verhoevens\n",
            "No solution found for word: verhoevens\n",
            "Word not found in pretrained embeddings: toothe\n",
            "No solution found for word: toothe\n",
            "Word not found in pretrained embeddings: tintin\n",
            "Found by capitalizing: Tintin\n",
            "Word not found in pretrained embeddings: stoltz\n",
            "Found by capitalizing: Stoltz\n",
            "Word not found in pretrained embeddings: seuss\n",
            "Found by capitalizing: Seuss\n",
            "Word not found in pretrained embeddings: seinfeld\n",
            "Found by capitalizing: Seinfeld\n",
            "Word not found in pretrained embeddings: segal\n",
            "Found by capitalizing: Segal\n",
            "Word not found in pretrained embeddings: movieand\n",
            "No solution found for word: movieand\n",
            "Word not found in pretrained embeddings: methe\n",
            "Found by capitalizing: Methe\n",
            "Word not found in pretrained embeddings: mastroianni\n",
            "Found by capitalizing: Mastroianni\n",
            "Word not found in pretrained embeddings: macbeth\n",
            "Found by capitalizing: Macbeth\n",
            "Word not found in pretrained embeddings: luzhin\n",
            "Found by capitalizing: Luzhin\n",
            "Word not found in pretrained embeddings: luthor\n",
            "Found by capitalizing: Luthor\n",
            "Word not found in pretrained embeddings: herethe\n",
            "No solution found for word: herethe\n",
            "Word not found in pretrained embeddings: helena\n",
            "Found by capitalizing: Helena\n",
            "Word not found in pretrained embeddings: hackenstein\n",
            "No solution found for word: hackenstein\n",
            "Word not found in pretrained embeddings: glenda\n",
            "Found by capitalizing: Glenda\n",
            "Word not found in pretrained embeddings: forsythe\n",
            "Found by capitalizing: Forsythe\n",
            "Word not found in pretrained embeddings: featurelength\n",
            "No solution found for word: featurelength\n",
            "Word not found in pretrained embeddings: fagin\n",
            "Found by capitalizing: Fagin\n",
            "Word not found in pretrained embeddings: emmanuelle\n",
            "Found by capitalizing: Emmanuelle\n",
            "Word not found in pretrained embeddings: duchovny\n",
            "Found by capitalizing: Duchovny\n",
            "Word not found in pretrained embeddings: doris\n",
            "Found by capitalizing: Doris\n",
            "Word not found in pretrained embeddings: darius\n",
            "Found by capitalizing: Darius\n",
            "Word not found in pretrained embeddings: cortez\n",
            "Found by capitalizing: Cortez\n",
            "Word not found in pretrained embeddings: corleone\n",
            "Found by capitalizing: Corleone\n",
            "Word not found in pretrained embeddings: coppola\n",
            "Found by capitalizing: Coppola\n",
            "Word not found in pretrained embeddings: colourful\n",
            "Found by capitalizing: Colourful\n",
            "Word not found in pretrained embeddings: bonham\n",
            "Found by capitalizing: Bonham\n",
            "Word not found in pretrained embeddings: azaria\n",
            "Found by capitalizing: Azaria\n",
            "Word not found in pretrained embeddings: actorsactresses\n",
            "No solution found for word: actorsactresses\n",
            "Word not found in pretrained embeddings: 1954\n",
            "No solution found for word: 1954\n",
            "Word not found in pretrained embeddings: zabriskie\n",
            "Found by capitalizing: Zabriskie\n",
            "Word not found in pretrained embeddings: valerie\n",
            "Found by capitalizing: Valerie\n",
            "Word not found in pretrained embeddings: thatll\n",
            "No solution found for word: thatll\n",
            "Word not found in pretrained embeddings: sloane\n",
            "Found by capitalizing: Sloane\n",
            "Word not found in pretrained embeddings: sabu\n",
            "Found by capitalizing: Sabu\n",
            "Word not found in pretrained embeddings: rko\n",
            "No solution found for word: rko\n",
            "Word not found in pretrained embeddings: rainer\n",
            "Found by capitalizing: Rainer\n",
            "Word not found in pretrained embeddings: mcintire\n",
            "Found by capitalizing: Mcintire\n",
            "Word not found in pretrained embeddings: martino\n",
            "Found by capitalizing: Martino\n",
            "Word not found in pretrained embeddings: mantegna\n",
            "Found by capitalizing: Mantegna\n",
            "Word not found in pretrained embeddings: mamet\n",
            "Found by capitalizing: Mamet\n",
            "Word not found in pretrained embeddings: maclean\n",
            "Found by capitalizing: Maclean\n",
            "Word not found in pretrained embeddings: lorre\n",
            "Found by capitalizing: Lorre\n",
            "Word not found in pretrained embeddings: levant\n",
            "Found by capitalizing: Levant\n",
            "Word not found in pretrained embeddings: leia\n",
            "Found by capitalizing: Leia\n",
            "Word not found in pretrained embeddings: kermit\n",
            "Found by capitalizing: Kermit\n",
            "Word not found in pretrained embeddings: jovi\n",
            "Found by capitalizing: Jovi\n",
            "Word not found in pretrained embeddings: jameson\n",
            "Found by capitalizing: Jameson\n",
            "Word not found in pretrained embeddings: imdbs\n",
            "No solution found for word: imdbs\n",
            "Word not found in pretrained embeddings: hisher\n",
            "No solution found for word: hisher\n",
            "Word not found in pretrained embeddings: gilligans\n",
            "Found by capitalizing: Gilligans\n",
            "Word not found in pretrained embeddings: fawcett\n",
            "Found by capitalizing: Fawcett\n",
            "Word not found in pretrained embeddings: daria\n",
            "Found by capitalizing: Daria\n",
            "Word not found in pretrained embeddings: cravens\n",
            "Found by capitalizing: Cravens\n",
            "Word not found in pretrained embeddings: connolly\n",
            "Found by capitalizing: Connolly\n",
            "Word not found in pretrained embeddings: chamberlains\n",
            "Found by capitalizing: Chamberlains\n",
            "Word not found in pretrained embeddings: carole\n",
            "Found by capitalizing: Carole\n",
            "Word not found in pretrained embeddings: btk\n",
            "Found by capitalizing: Btk\n",
            "Word not found in pretrained embeddings: bgrade\n",
            "No solution found for word: bgrade\n",
            "Word not found in pretrained embeddings: aztec\n",
            "Found by capitalizing: Aztec\n",
            "Word not found in pretrained embeddings: austens\n",
            "Found by capitalizing: Austens\n",
            "Word not found in pretrained embeddings: abhay\n",
            "Found by capitalizing: Abhay\n",
            "Word not found in pretrained embeddings: 1964\n",
            "No solution found for word: 1964\n",
            "Word not found in pretrained embeddings: 18th\n",
            "No solution found for word: 18th\n",
            "Word not found in pretrained embeddings: wwi\n",
            "No solution found for word: wwi\n",
            "Word not found in pretrained embeddings: willem\n",
            "Found by capitalizing: Willem\n",
            "Word not found in pretrained embeddings: tigerland\n",
            "Found by capitalizing: Tigerland\n",
            "Word not found in pretrained embeddings: spielbergs\n",
            "Found by capitalizing: Spielbergs\n",
            "Word not found in pretrained embeddings: sorvino\n",
            "Found by capitalizing: Sorvino\n",
            "Word not found in pretrained embeddings: sinatras\n",
            "Found by capitalizing: Sinatras\n",
            "Word not found in pretrained embeddings: shatner\n",
            "Found by capitalizing: Shatner\n",
            "Word not found in pretrained embeddings: runofthemill\n",
            "No solution found for word: runofthemill\n",
            "Word not found in pretrained embeddings: poppins\n",
            "Found by capitalizing: Poppins\n",
            "Word not found in pretrained embeddings: parsifal\n",
            "Found by capitalizing: Parsifal\n",
            "Word not found in pretrained embeddings: pacinos\n",
            "No solution found for word: pacinos\n",
            "Word not found in pretrained embeddings: midler\n",
            "Found by capitalizing: Midler\n",
            "Word not found in pretrained embeddings: marlene\n",
            "Found by capitalizing: Marlene\n",
            "Word not found in pretrained embeddings: marjorie\n",
            "Found by capitalizing: Marjorie\n",
            "Word not found in pretrained embeddings: lucio\n",
            "Found by capitalizing: Lucio\n",
            "Word not found in pretrained embeddings: korda\n",
            "Found by capitalizing: Korda\n",
            "Word not found in pretrained embeddings: johnsons\n",
            "Found by capitalizing: Johnsons\n",
            "Word not found in pretrained embeddings: izzard\n",
            "Found by capitalizing: Izzard\n",
            "Word not found in pretrained embeddings: hamiltons\n",
            "Found by capitalizing: Hamiltons\n",
            "Word not found in pretrained embeddings: gertrude\n",
            "Found by capitalizing: Gertrude\n",
            "Word not found in pretrained embeddings: filmand\n",
            "No solution found for word: filmand\n",
            "Word not found in pretrained embeddings: directorwriter\n",
            "No solution found for word: directorwriter\n",
            "Word not found in pretrained embeddings: dillon\n",
            "Found by capitalizing: Dillon\n",
            "Word not found in pretrained embeddings: crenna\n",
            "Found by capitalizing: Crenna\n",
            "Word not found in pretrained embeddings: coen\n",
            "Found by capitalizing: Coen\n",
            "Word not found in pretrained embeddings: brandos\n",
            "Found by capitalizing: Brandos\n",
            "Word not found in pretrained embeddings: binoche\n",
            "Found by capitalizing: Binoche\n",
            "Word not found in pretrained embeddings: benet\n",
            "Found by capitalizing: Benet\n",
            "Word not found in pretrained embeddings: 20s\n",
            "No solution found for word: 20s\n",
            "Word not found in pretrained embeddings: 1935\n",
            "No solution found for word: 1935\n",
            "Word not found in pretrained embeddings: 11th\n",
            "No solution found for word: 11th\n",
            "Word not found in pretrained embeddings: zenia\n",
            "Found by capitalizing: Zenia\n",
            "Word not found in pretrained embeddings: vonnegut\n",
            "Found by capitalizing: Vonnegut\n",
            "Word not found in pretrained embeddings: victorias\n",
            "Found by capitalizing: Victorias\n",
            "Word not found in pretrained embeddings: townsend\n",
            "Found by capitalizing: Townsend\n",
            "Word not found in pretrained embeddings: tomlinson\n",
            "Found by capitalizing: Tomlinson\n",
            "Word not found in pretrained embeddings: thati\n",
            "No solution found for word: thati\n",
            "Word not found in pretrained embeddings: sybil\n",
            "Found by capitalizing: Sybil\n",
            "Word not found in pretrained embeddings: slowmoving\n",
            "No solution found for word: slowmoving\n",
            "Word not found in pretrained embeddings: raoul\n",
            "Found by capitalizing: Raoul\n",
            "Word not found in pretrained embeddings: ranma\n",
            "Found by capitalizing: Ranma\n",
            "Word not found in pretrained embeddings: phyllis\n",
            "Found by capitalizing: Phyllis\n",
            "Word not found in pretrained embeddings: pauls\n",
            "Found by capitalizing: Pauls\n",
            "Word not found in pretrained embeddings: onethe\n",
            "No solution found for word: onethe\n",
            "Word not found in pretrained embeddings: nielsen\n",
            "Found by capitalizing: Nielsen\n",
            "Word not found in pretrained embeddings: milland\n",
            "Found by capitalizing: Milland\n",
            "Finished processing all words.\n"
          ]
        }
      ]
    },
    {
      "cell_type": "code",
      "source": [
        "pretrained_embeddings_array = np.array(pretrained_embeddings)\n",
        "pretrained_embeddings_array.shape"
      ],
      "metadata": {
        "id": "15r-Fl1ErZsA",
        "colab": {
          "base_uri": "https://localhost:8080/"
        },
        "outputId": "eb4e70b8-6197-432e-b906-d461aa37edab"
      },
      "execution_count": 38,
      "outputs": [
        {
          "output_type": "execute_result",
          "data": {
            "text/plain": [
              "(10000, 300)"
            ]
          },
          "metadata": {},
          "execution_count": 38
        }
      ]
    },
    {
      "cell_type": "code",
      "source": [
        "EMBEDDING_DIM = 300\n",
        "VOCAB_SIZE = 10000\n",
        "\n",
        "model = tf.keras.models.Sequential([\n",
        "    Input(shape=(SEQUENCE_LENGTH,)),\n",
        "    Embedding(\n",
        "        VOCAB_SIZE,\n",
        "        EMBEDDING_DIM,\n",
        "        embeddings_initializer=tf.keras.initializers.Constant(pretrained_embeddings_array),\n",
        "        trainable=True,\n",
        "    ),\n",
        "\n",
        "    Conv1D(32, 3, activation='relu'),\n",
        "    # Flatten(),\n",
        "    tf.keras.layers.GlobalMaxPooling1D(),\n",
        "    Dense(32, activation='relu'),\n",
        "    Dropout(0.5),\n",
        "    Dense(1, activation='sigmoid'),\n",
        "])\n",
        "\n",
        "model.summary()"
      ],
      "metadata": {
        "id": "Zk8RmUS4rm9O",
        "colab": {
          "base_uri": "https://localhost:8080/",
          "height": 360
        },
        "outputId": "3550a75b-758b-405d-c281-7275de003d3e"
      },
      "execution_count": 45,
      "outputs": [
        {
          "output_type": "display_data",
          "data": {
            "text/plain": [
              "\u001b[1mModel: \"sequential_2\"\u001b[0m\n"
            ],
            "text/html": [
              "<pre style=\"white-space:pre;overflow-x:auto;line-height:normal;font-family:Menlo,'DejaVu Sans Mono',consolas,'Courier New',monospace\"><span style=\"font-weight: bold\">Model: \"sequential_2\"</span>\n",
              "</pre>\n"
            ]
          },
          "metadata": {}
        },
        {
          "output_type": "display_data",
          "data": {
            "text/plain": [
              "┏━━━━━━━━━━━━━━━━━━━━━━━━━━━━━━━━━━━━━━┳━━━━━━━━━━━━━━━━━━━━━━━━━━━━━┳━━━━━━━━━━━━━━━━━┓\n",
              "┃\u001b[1m \u001b[0m\u001b[1mLayer (type)                        \u001b[0m\u001b[1m \u001b[0m┃\u001b[1m \u001b[0m\u001b[1mOutput Shape               \u001b[0m\u001b[1m \u001b[0m┃\u001b[1m \u001b[0m\u001b[1m        Param #\u001b[0m\u001b[1m \u001b[0m┃\n",
              "┡━━━━━━━━━━━━━━━━━━━━━━━━━━━━━━━━━━━━━━╇━━━━━━━━━━━━━━━━━━━━━━━━━━━━━╇━━━━━━━━━━━━━━━━━┩\n",
              "│ embedding_2 (\u001b[38;5;33mEmbedding\u001b[0m)              │ (\u001b[38;5;45mNone\u001b[0m, \u001b[38;5;34m250\u001b[0m, \u001b[38;5;34m300\u001b[0m)            │       \u001b[38;5;34m3,000,000\u001b[0m │\n",
              "├──────────────────────────────────────┼─────────────────────────────┼─────────────────┤\n",
              "│ conv1d_2 (\u001b[38;5;33mConv1D\u001b[0m)                    │ (\u001b[38;5;45mNone\u001b[0m, \u001b[38;5;34m248\u001b[0m, \u001b[38;5;34m32\u001b[0m)             │          \u001b[38;5;34m28,832\u001b[0m │\n",
              "├──────────────────────────────────────┼─────────────────────────────┼─────────────────┤\n",
              "│ global_max_pooling1d_1               │ (\u001b[38;5;45mNone\u001b[0m, \u001b[38;5;34m32\u001b[0m)                  │               \u001b[38;5;34m0\u001b[0m │\n",
              "│ (\u001b[38;5;33mGlobalMaxPooling1D\u001b[0m)                 │                             │                 │\n",
              "├──────────────────────────────────────┼─────────────────────────────┼─────────────────┤\n",
              "│ dense_4 (\u001b[38;5;33mDense\u001b[0m)                      │ (\u001b[38;5;45mNone\u001b[0m, \u001b[38;5;34m32\u001b[0m)                  │           \u001b[38;5;34m1,056\u001b[0m │\n",
              "├──────────────────────────────────────┼─────────────────────────────┼─────────────────┤\n",
              "│ dropout_2 (\u001b[38;5;33mDropout\u001b[0m)                  │ (\u001b[38;5;45mNone\u001b[0m, \u001b[38;5;34m32\u001b[0m)                  │               \u001b[38;5;34m0\u001b[0m │\n",
              "├──────────────────────────────────────┼─────────────────────────────┼─────────────────┤\n",
              "│ dense_5 (\u001b[38;5;33mDense\u001b[0m)                      │ (\u001b[38;5;45mNone\u001b[0m, \u001b[38;5;34m1\u001b[0m)                   │              \u001b[38;5;34m33\u001b[0m │\n",
              "└──────────────────────────────────────┴─────────────────────────────┴─────────────────┘\n"
            ],
            "text/html": [
              "<pre style=\"white-space:pre;overflow-x:auto;line-height:normal;font-family:Menlo,'DejaVu Sans Mono',consolas,'Courier New',monospace\">┏━━━━━━━━━━━━━━━━━━━━━━━━━━━━━━━━━━━━━━┳━━━━━━━━━━━━━━━━━━━━━━━━━━━━━┳━━━━━━━━━━━━━━━━━┓\n",
              "┃<span style=\"font-weight: bold\"> Layer (type)                         </span>┃<span style=\"font-weight: bold\"> Output Shape                </span>┃<span style=\"font-weight: bold\">         Param # </span>┃\n",
              "┡━━━━━━━━━━━━━━━━━━━━━━━━━━━━━━━━━━━━━━╇━━━━━━━━━━━━━━━━━━━━━━━━━━━━━╇━━━━━━━━━━━━━━━━━┩\n",
              "│ embedding_2 (<span style=\"color: #0087ff; text-decoration-color: #0087ff\">Embedding</span>)              │ (<span style=\"color: #00d7ff; text-decoration-color: #00d7ff\">None</span>, <span style=\"color: #00af00; text-decoration-color: #00af00\">250</span>, <span style=\"color: #00af00; text-decoration-color: #00af00\">300</span>)            │       <span style=\"color: #00af00; text-decoration-color: #00af00\">3,000,000</span> │\n",
              "├──────────────────────────────────────┼─────────────────────────────┼─────────────────┤\n",
              "│ conv1d_2 (<span style=\"color: #0087ff; text-decoration-color: #0087ff\">Conv1D</span>)                    │ (<span style=\"color: #00d7ff; text-decoration-color: #00d7ff\">None</span>, <span style=\"color: #00af00; text-decoration-color: #00af00\">248</span>, <span style=\"color: #00af00; text-decoration-color: #00af00\">32</span>)             │          <span style=\"color: #00af00; text-decoration-color: #00af00\">28,832</span> │\n",
              "├──────────────────────────────────────┼─────────────────────────────┼─────────────────┤\n",
              "│ global_max_pooling1d_1               │ (<span style=\"color: #00d7ff; text-decoration-color: #00d7ff\">None</span>, <span style=\"color: #00af00; text-decoration-color: #00af00\">32</span>)                  │               <span style=\"color: #00af00; text-decoration-color: #00af00\">0</span> │\n",
              "│ (<span style=\"color: #0087ff; text-decoration-color: #0087ff\">GlobalMaxPooling1D</span>)                 │                             │                 │\n",
              "├──────────────────────────────────────┼─────────────────────────────┼─────────────────┤\n",
              "│ dense_4 (<span style=\"color: #0087ff; text-decoration-color: #0087ff\">Dense</span>)                      │ (<span style=\"color: #00d7ff; text-decoration-color: #00d7ff\">None</span>, <span style=\"color: #00af00; text-decoration-color: #00af00\">32</span>)                  │           <span style=\"color: #00af00; text-decoration-color: #00af00\">1,056</span> │\n",
              "├──────────────────────────────────────┼─────────────────────────────┼─────────────────┤\n",
              "│ dropout_2 (<span style=\"color: #0087ff; text-decoration-color: #0087ff\">Dropout</span>)                  │ (<span style=\"color: #00d7ff; text-decoration-color: #00d7ff\">None</span>, <span style=\"color: #00af00; text-decoration-color: #00af00\">32</span>)                  │               <span style=\"color: #00af00; text-decoration-color: #00af00\">0</span> │\n",
              "├──────────────────────────────────────┼─────────────────────────────┼─────────────────┤\n",
              "│ dense_5 (<span style=\"color: #0087ff; text-decoration-color: #0087ff\">Dense</span>)                      │ (<span style=\"color: #00d7ff; text-decoration-color: #00d7ff\">None</span>, <span style=\"color: #00af00; text-decoration-color: #00af00\">1</span>)                   │              <span style=\"color: #00af00; text-decoration-color: #00af00\">33</span> │\n",
              "└──────────────────────────────────────┴─────────────────────────────┴─────────────────┘\n",
              "</pre>\n"
            ]
          },
          "metadata": {}
        },
        {
          "output_type": "display_data",
          "data": {
            "text/plain": [
              "\u001b[1m Total params: \u001b[0m\u001b[38;5;34m3,029,921\u001b[0m (11.56 MB)\n"
            ],
            "text/html": [
              "<pre style=\"white-space:pre;overflow-x:auto;line-height:normal;font-family:Menlo,'DejaVu Sans Mono',consolas,'Courier New',monospace\"><span style=\"font-weight: bold\"> Total params: </span><span style=\"color: #00af00; text-decoration-color: #00af00\">3,029,921</span> (11.56 MB)\n",
              "</pre>\n"
            ]
          },
          "metadata": {}
        },
        {
          "output_type": "display_data",
          "data": {
            "text/plain": [
              "\u001b[1m Trainable params: \u001b[0m\u001b[38;5;34m3,029,921\u001b[0m (11.56 MB)\n"
            ],
            "text/html": [
              "<pre style=\"white-space:pre;overflow-x:auto;line-height:normal;font-family:Menlo,'DejaVu Sans Mono',consolas,'Courier New',monospace\"><span style=\"font-weight: bold\"> Trainable params: </span><span style=\"color: #00af00; text-decoration-color: #00af00\">3,029,921</span> (11.56 MB)\n",
              "</pre>\n"
            ]
          },
          "metadata": {}
        },
        {
          "output_type": "display_data",
          "data": {
            "text/plain": [
              "\u001b[1m Non-trainable params: \u001b[0m\u001b[38;5;34m0\u001b[0m (0.00 B)\n"
            ],
            "text/html": [
              "<pre style=\"white-space:pre;overflow-x:auto;line-height:normal;font-family:Menlo,'DejaVu Sans Mono',consolas,'Courier New',monospace\"><span style=\"font-weight: bold\"> Non-trainable params: </span><span style=\"color: #00af00; text-decoration-color: #00af00\">0</span> (0.00 B)\n",
              "</pre>\n"
            ]
          },
          "metadata": {}
        }
      ]
    },
    {
      "cell_type": "code",
      "source": [
        "checkpoint_filepath = '/content/drive/MyDrive/transfer_learning_model.keras'\n",
        "checkpoint_callback = tf.keras.callbacks.ModelCheckpoint(\n",
        "    filepath=checkpoint_filepath,\n",
        "    monitor='val_accuracy',\n",
        "    mode='max',\n",
        "    save_best_only=True\n",
        ")"
      ],
      "metadata": {
        "id": "Iuq6pOC_suiV"
      },
      "execution_count": 46,
      "outputs": []
    },
    {
      "cell_type": "code",
      "source": [
        "model.compile(\n",
        "    loss=tf.keras.losses.BinaryCrossentropy(),\n",
        "    optimizer=tf.keras.optimizers.Adam(1e-5),\n",
        "    metrics=['accuracy']\n",
        ")"
      ],
      "metadata": {
        "id": "b4ilt2latOPS"
      },
      "execution_count": 47,
      "outputs": []
    },
    {
      "cell_type": "code",
      "source": [
        "history = model.fit(\n",
        "    train_dataset,\n",
        "    validation_data=val_dataset,\n",
        "    epochs=10,\n",
        "    callbacks=[checkpoint_callback]\n",
        ")"
      ],
      "metadata": {
        "id": "fjVVBrY2tS20",
        "colab": {
          "base_uri": "https://localhost:8080/"
        },
        "outputId": "a6ec3f91-825d-43d4-afb2-54dec898c7d0"
      },
      "execution_count": 48,
      "outputs": [
        {
          "output_type": "stream",
          "name": "stdout",
          "text": [
            "Epoch 1/10\n",
            "\u001b[1m313/313\u001b[0m \u001b[32m━━━━━━━━━━━━━━━━━━━━\u001b[0m\u001b[37m\u001b[0m \u001b[1m87s\u001b[0m 270ms/step - accuracy: 0.4963 - loss: 0.8474 - val_accuracy: 0.5000 - val_loss: 0.6959\n",
            "Epoch 2/10\n",
            "\u001b[1m313/313\u001b[0m \u001b[32m━━━━━━━━━━━━━━━━━━━━\u001b[0m\u001b[37m\u001b[0m \u001b[1m125s\u001b[0m 215ms/step - accuracy: 0.5084 - loss: 0.7570 - val_accuracy: 0.5312 - val_loss: 0.6914\n",
            "Epoch 3/10\n",
            "\u001b[1m313/313\u001b[0m \u001b[32m━━━━━━━━━━━━━━━━━━━━\u001b[0m\u001b[37m\u001b[0m \u001b[1m79s\u001b[0m 205ms/step - accuracy: 0.5013 - loss: 0.7391 - val_accuracy: 0.5448 - val_loss: 0.6889\n",
            "Epoch 4/10\n",
            "\u001b[1m313/313\u001b[0m \u001b[32m━━━━━━━━━━━━━━━━━━━━\u001b[0m\u001b[37m\u001b[0m \u001b[1m92s\u001b[0m 237ms/step - accuracy: 0.5096 - loss: 0.7217 - val_accuracy: 0.5404 - val_loss: 0.6878\n",
            "Epoch 5/10\n",
            "\u001b[1m313/313\u001b[0m \u001b[32m━━━━━━━━━━━━━━━━━━━━\u001b[0m\u001b[37m\u001b[0m \u001b[1m88s\u001b[0m 257ms/step - accuracy: 0.5152 - loss: 0.7132 - val_accuracy: 0.5532 - val_loss: 0.6855\n",
            "Epoch 6/10\n",
            "\u001b[1m313/313\u001b[0m \u001b[32m━━━━━━━━━━━━━━━━━━━━\u001b[0m\u001b[37m\u001b[0m \u001b[1m67s\u001b[0m 209ms/step - accuracy: 0.5176 - loss: 0.7078 - val_accuracy: 0.5564 - val_loss: 0.6853\n",
            "Epoch 7/10\n",
            "\u001b[1m313/313\u001b[0m \u001b[32m━━━━━━━━━━━━━━━━━━━━\u001b[0m\u001b[37m\u001b[0m \u001b[1m65s\u001b[0m 207ms/step - accuracy: 0.5258 - loss: 0.6975 - val_accuracy: 0.5632 - val_loss: 0.6831\n",
            "Epoch 8/10\n",
            "\u001b[1m313/313\u001b[0m \u001b[32m━━━━━━━━━━━━━━━━━━━━\u001b[0m\u001b[37m\u001b[0m \u001b[1m55s\u001b[0m 174ms/step - accuracy: 0.5304 - loss: 0.6975 - val_accuracy: 0.5608 - val_loss: 0.6828\n",
            "Epoch 9/10\n",
            "\u001b[1m313/313\u001b[0m \u001b[32m━━━━━━━━━━━━━━━━━━━━\u001b[0m\u001b[37m\u001b[0m \u001b[1m89s\u001b[0m 197ms/step - accuracy: 0.5348 - loss: 0.6941 - val_accuracy: 0.5636 - val_loss: 0.6815\n",
            "Epoch 10/10\n",
            "\u001b[1m313/313\u001b[0m \u001b[32m━━━━━━━━━━━━━━━━━━━━\u001b[0m\u001b[37m\u001b[0m \u001b[1m85s\u001b[0m 207ms/step - accuracy: 0.5350 - loss: 0.6919 - val_accuracy: 0.5700 - val_loss: 0.6807\n"
          ]
        }
      ]
    },
    {
      "cell_type": "code",
      "source": [
        "plt.plot(history.history['accuracy'])\n",
        "plt.plot(history.history['val_accuracy'])\n",
        "plt.title('Model Accuracy')\n",
        "plt.ylabel('Accuracy')\n",
        "plt.xlabel('Epoch')\n",
        "plt.legend(['Train', 'Validation'], loc='upper left')\n",
        "plt.show()"
      ],
      "metadata": {
        "id": "ZeRy1y7jtfyl",
        "colab": {
          "base_uri": "https://localhost:8080/",
          "height": 472
        },
        "outputId": "3d3ecd6c-d8bb-4239-dffc-f8444211937e"
      },
      "execution_count": 49,
      "outputs": [
        {
          "output_type": "display_data",
          "data": {
            "text/plain": [
              "<Figure size 640x480 with 1 Axes>"
            ],
            "image/png": "[encoded data removed]"
          },
          "metadata": {}
        }
      ]
    },
    {
      "cell_type": "code",
      "source": [
        "plt.plot(history.history['loss'])\n",
        "plt.plot(history.history['val_loss'])\n",
        "plt.title('Model Loss')\n",
        "plt.ylabel('Loss')\n",
        "plt.xlabel('Epoch')\n",
        "plt.legend(['Train', 'Validation'], loc='upper left')\n",
        "plt.show()"
      ],
      "metadata": {
        "id": "4CotJBKqtmQh",
        "colab": {
          "base_uri": "https://localhost:8080/",
          "height": 472
        },
        "outputId": "4b46e3b8-1c85-447f-9504-d32681646d12"
      },
      "execution_count": 50,
      "outputs": [
        {
          "output_type": "display_data",
          "data": {
            "text/plain": [
              "<Figure size 640x480 with 1 Axes>"
            ],
            "image/png": "[encoded data removed]"
          },
          "metadata": {}
        }
      ]
    },
    {
      "cell_type": "code",
      "source": [
        "# Evaluate on test data\n",
        "model.load_weights(checkpoint_filepath)\n",
        "\n",
        "test_dataset = test_ds.map(vectorizer)\n",
        "test_dataset = test_dataset.batch(BATCH_SIZE).prefetch(tf.data.AUTOTUNE)\n",
        "model.evaluate(test_dataset)"
      ],
      "metadata": {
        "id": "0jWKZMoXtqee",
        "colab": {
          "base_uri": "https://localhost:8080/"
        },
        "outputId": "98991c9f-d8bf-4889-86e7-def32b87b10b"
      },
      "execution_count": 51,
      "outputs": [
        {
          "output_type": "stream",
          "name": "stdout",
          "text": [
            "\u001b[1m40/40\u001b[0m \u001b[32m━━━━━━━━━━━━━━━━━━━━\u001b[0m\u001b[37m\u001b[0m \u001b[1m2s\u001b[0m 39ms/step - accuracy: 0.5757 - loss: 0.6789\n"
          ]
        },
        {
          "output_type": "execute_result",
          "data": {
            "text/plain": [
              "[0.6801663041114807, 0.5812000036239624]"
            ]
          },
          "metadata": {},
          "execution_count": 51
        }
      ]
    },
    {
      "cell_type": "markdown",
      "source": [
        "## Testing"
      ],
      "metadata": {
        "id": "AVux35vHtyMB"
      }
    },
    {
      "cell_type": "code",
      "source": [
        "# test_pos=\"this movie looks very interesting, i love the fact that the actors do a great job in showing how people lived in the 18th century, which wasn't very good at all. But atleast this movie recreates this scenes! \"\n",
        "# test_neg=\"very good start, but movie started becoming boring at some point and unfortunately i didn't feel like this was properly produced as there was too much background noise, and the actors didn't look motivated at all \"\n",
        "\n",
        "test_data = tf.data.Dataset.from_tensor_slices([\n",
        "    [\"this movie looks very interesting, i love the fact that the actors do a great job in showing how people lived in the 18th century, which wasn't very good at all. But atleast this movie recreates this scenes! \"],\n",
        "    [\"very good start, but movie started becoming boring at some point and unfortunately i didn't feel like this was properly produced as there was too much background noise, and the actors didn't look motivated at all \"]\n",
        "])\n",
        "\n",
        "def vectorizer_test(review):\n",
        "  return vectorize_layer(review)\n",
        "\n",
        "test_dataset = test_data.map(vectorizer_test)\n",
        "\n",
        "model.predict(test_dataset)"
      ],
      "metadata": {
        "colab": {
          "base_uri": "https://localhost:8080/"
        },
        "id": "ov7YG71fPifE",
        "outputId": "b1bd874e-723d-4bb2-b456-1920e0458bca"
      },
      "execution_count": 53,
      "outputs": [
        {
          "output_type": "stream",
          "name": "stdout",
          "text": [
            "\u001b[1m2/2\u001b[0m \u001b[32m━━━━━━━━━━━━━━━━━━━━\u001b[0m\u001b[37m\u001b[0m \u001b[1m0s\u001b[0m 6ms/step  \n"
          ]
        },
        {
          "output_type": "execute_result",
          "data": {
            "text/plain": [
              "array([[0.5255348],\n",
              "       [0.4667781]], dtype=float32)"
            ]
          },
          "metadata": {},
          "execution_count": 53
        }
      ]
    }
  ]
}